{
 "cells": [
  {
   "cell_type": "code",
   "execution_count": null,
   "id": "f183c766-f43b-448b-bad9-50bdd17f636e",
   "metadata": {},
   "outputs": [],
   "source": [
    "import seaborn as sns\n",
    "import pandas as pd\n",
    "import numpy as np\n",
    "import matplotlib.pyplot as plt\n",
    "from sklearn.metrics import mean_squared_error, r2_score\n",
    "from sklearn.linear_model import LinearRegression\n",
    "from matplotlib.ticker import PercentFormatter\n",
    "from scipy import stats as st\n",
    "from scipy.stats import norm, beta"
   ]
  },
  {
   "cell_type": "code",
   "execution_count": null,
   "id": "1d07cdb9-895c-48d9-b2e4-119391fe89c7",
   "metadata": {},
   "outputs": [],
   "source": [
    "%run ./EDA1V_new.ipynb\n",
    ";"
   ]
  },
  {
   "cell_type": "markdown",
   "id": "2dc01853-e884-456d-974b-e1acf3c20317",
   "metadata": {},
   "source": [
    "## Continuous numeric features"
   ]
  },
  {
   "cell_type": "code",
   "execution_count": null,
   "id": "13b9b569-e09f-4264-b395-011e15223c6c",
   "metadata": {},
   "outputs": [],
   "source": [
    "# Numeric variable .description() check\n",
    "# \n",
    "# min/max vs quantiles, mean, and standard deviation – looking for outliers/sensible results\n",
    "# \n",
    "# Distribution plot examination\n",
    "# \n",
    "# can use .hist() command or a more customized subplot group or for-each loop to plot a seperate histogram of each variable"
   ]
  },
  {
   "cell_type": "code",
   "execution_count": null,
   "id": "ae7777a2-0c8c-4d70-980f-dd3972cd3cc3",
   "metadata": {},
   "outputs": [],
   "source": [
    "#Numeric vars\n",
    "numerical_var_series=dfXY[dfXY.columns[dfXY.dtypes == np.float64]].columns#.to_list()#[0:5]\n",
    "print(type(numerical_var_series))\n",
    "print(len(numerical_var_series))\n",
    "numerical_var_series"
   ]
  },
  {
   "cell_type": "code",
   "execution_count": null,
   "id": "93f75a0ea96d9ff3",
   "metadata": {},
   "outputs": [],
   "source": [
    "#Create the different groups of columns to plot\n",
    "proceso_vars_series=dfXY[numerical_var_series[(~numerical_var_series.str.contains(\"AP1_Furnace\",regex=False)) & (~numerical_var_series.str.contains(\"pyro2\",regex=False))]].columns#.head(1)\n",
    "zoneTemp_vars_series=dfXY[numerical_var_series[numerical_var_series.str.contains(\".*Zone.*Temp.*\",regex=True)]].columns#.head(1)\n",
    "\n",
    "zoneAirGas_vars_series=dfXY[numerical_var_series[numerical_var_series.str.contains(\".*Zone.*Air.*|.*Zone.*Gas.*\",regex=True)]].columns#.head(1)\n",
    "\n",
    "recuperator_vars_series=dfXY[numerical_var_series[numerical_var_series.str.contains(\"AP1_Furnace.*Dilution|Recuperator|RWP|Combustion.*\",regex=True)]].columns#.head(1)\n",
    "\n",
    "pyro_vars_series=dfXY[numerical_var_series[numerical_var_series.str.contains(\".*pyro.*|.*Pyro.*\",regex=True)]].columns#.head(1)\n",
    "\n",
    "rest_vars_series=dfXY[[var for var in numerical_var_series.to_list() if var not in proceso_vars_series.to_list() and var not in zoneTemp_vars_series.to_list() and var not in zoneAirGas_vars_series.to_list() and var not in recuperator_vars_series.to_list() and var not in pyro_vars_series.to_list()]].columns#.head(1)"
   ]
  },
  {
   "cell_type": "code",
   "execution_count": null,
   "id": "483a1cf1b68c86ab",
   "metadata": {},
   "outputs": [],
   "source": [
    "#Plot histograms\n",
    "#dfXY[dfXY.columns[dfXY.dtypes == np.float64]].hist(figsize=(20,10))#Too many vars: 175\n",
    "print(\"There are {} numerical vars\".format(dfXY[dfXY.columns[dfXY.dtypes == np.float64]].shape))\n",
    "print(\"There are {} numerical vars of tbl proceso\".format(len(proceso_vars_series)))\n",
    "print(\"There are {} numerical vars of zone temp\".format(len(zoneTemp_vars_series)))\n",
    "print(\"There are {} numerical vars of zone air/gas flow\".format(len(zoneAirGas_vars_series)))\n",
    "print(\"There are {} numerical vars of recuperator\".format(len(recuperator_vars_series)))\n",
    "print(\"There are {} numerical vars of pyro\".format(len(pyro_vars_series)))\n",
    "print(\"The rest of numerical vars of furnace are {} \".format(len(rest_vars_series)))\n",
    "\n",
    "if dfXY[dfXY.columns[dfXY.dtypes == np.float64]].shape[1]==len(proceso_vars_series)+len(zoneTemp_vars_series)+len(zoneAirGas_vars_series)+len(recuperator_vars_series)+len(pyro_vars_series)+len(rest_vars_series):\n",
    "    print(\"All groups sum total length\")"
   ]
  },
  {
   "cell_type": "markdown",
   "id": "d9f6afe049dfdafc",
   "metadata": {
    "collapsed": false,
    "jupyter": {
     "outputs_hidden": false
    }
   },
   "source": [
    "### Plot zone air/gas flow: 126 vars\n"
   ]
  },
  {
   "cell_type": "code",
   "execution_count": null,
   "id": "c5872ce88864cb5a",
   "metadata": {},
   "outputs": [],
   "source": [
    "#Boxplot General\n",
    "\n",
    "fig,axes = plt.subplots(2,1,figsize=(15,5))\n",
    "sns.boxplot(data=dfXY[\"AP1_FurnaceTotalMeasuredGasFlow\"],orient='h',ax=axes[0],width=0.1)\n",
    "sns.boxplot(data=dfXY[\"AP1_FurnaceTotalSummedAirFlow\"],orient='h',ax=axes[1],width=0.1)\n",
    "fig.suptitle(\"General furnace Air/Gas Flow variables boxplot\",fontsize=15,y=1)\n",
    "#axes.set_xlim(0,4)\n",
    "#zone0_fg.map(sns.boxplot)\n",
    "sns.set_context('paper')\n",
    "fig.tight_layout(pad=3)"
   ]
  },
  {
   "cell_type": "code",
   "execution_count": null,
   "id": "bcd86c36e75501e4",
   "metadata": {},
   "outputs": [],
   "source": [
    "#General: 2\n",
    "fig,axes=plt.subplots(1,2,figsize=(20,5))\n",
    "fig.suptitle(\"Distribution of numerical general furnace Air/Gas Flow variables\",fontsize=20,va='top',y=1)\n",
    "#Subplot1\n",
    "sns.histplot(data=dfXY,x=\"AP1_FurnaceTotalMeasuredGasFlow\",ax=axes[0],kde=True,color=\"crimson\",hue=\"SteelFamCluster\")\n",
    "axes[0].set_title(label=\"AP1_FurnaceTotalMeasuredGasFlow\",loc='center',pad=10,fontsize=\"x-large\")\n",
    "axes[0].set_xlabel(xlabel=\"Values\",labelpad=5,fontsize=\"x-large\")\n",
    "axes[0].set_ylabel(ylabel=\"Counts\",labelpad=15,fontsize=\"x-large\")\n",
    "axes[0].axvline(tbl_desc.loc['cut-',\"AP1_FurnaceTotalMeasuredGasFlow\"], color=\"red\", dashes=(6, 2)) #Cut-\n",
    "axes[0].axvline(tbl_desc.loc['cut+',\"AP1_FurnaceTotalMeasuredGasFlow\"], color=\"red\", dashes=(6, 2)) #Cut+\n",
    "axes[0].tick_params(axis='x', labelsize=15)\n",
    "axes[0].tick_params(axis='y', labelsize=15)\n",
    "\n",
    "#Subplot2\n",
    "sns.histplot(data=dfXY,x=\"AP1_FurnaceTotalSummedAirFlow\",ax=axes[1],kde=True,color=\"crimson\",hue=\"SteelFamCluster\")\n",
    "axes[1].set_title(label=\"AP1_FurnaceTotalSummedAirFlow\",loc='center',pad=10,fontsize=\"x-large\")\n",
    "axes[1].set_xlabel(xlabel=\"Values\",labelpad=5,fontsize=\"x-large\")\n",
    "axes[1].set_ylabel(ylabel=\"\",labelpad=15)\n",
    "axes[1].axvline(tbl_desc.loc['cut-',\"AP1_FurnaceTotalSummedAirFlow\"], color=\"red\", dashes=(6, 2)) #Cut-\n",
    "axes[1].axvline(tbl_desc.loc['cut+',\"AP1_FurnaceTotalSummedAirFlow\"], color=\"red\", dashes=(6, 2)) #Cut+\n",
    "axes[1].tick_params(axis='x', labelsize=15)\n",
    "axes[1].tick_params(axis='y', labelsize=15)\n",
    "\n",
    "fig.tight_layout(pad=3)"
   ]
  },
  {
   "cell_type": "markdown",
   "id": "1dcaa0f7b4b2e516",
   "metadata": {
    "collapsed": false,
    "jupyter": {
     "outputs_hidden": false
    }
   },
   "source": [
    "##### $BoxPlots$:"
   ]
  },
  {
   "cell_type": "code",
   "execution_count": null,
   "id": "7682966653331ee1",
   "metadata": {},
   "outputs": [],
   "source": [
    "#Boxplot zone Air\\Gas ratio\n",
    "#Air/Gas ratios are in 0-4 scale\n",
    "fig,axes = plt.subplots(2,1,figsize=(20,15))\n",
    "fig.suptitle(\"Air\\Gas Ratios boxplot\",fontsize=30)\n",
    "sns.boxplot(data=dfXY[zoneAirGas_vars_series[zoneAirGas_vars_series.str.contains(\".*Ratio.*S.*[Pp].*\",regex=True)]],orient='h',ax=axes[0])\n",
    "axes[0].tick_params(axis='x', labelsize=15)\n",
    "axes[0].tick_params(axis='y', labelsize=15)\n",
    "sns.boxplot(data=dfXY[zoneAirGas_vars_series[zoneAirGas_vars_series.str.contains(\".*Ratio.*PV.*|.*Ratio.*Actual.*\",regex=True)]],orient='h',ax=axes[1])\n",
    "axes[1].tick_params(axis='x', labelsize=15)\n",
    "axes[1].tick_params(axis='y', labelsize=15)\n",
    "#axes.set_xlim(0,4)\n",
    "#zone0_fg.map(sns.boxplot)\n",
    "sns.set_context('paper')\n",
    "sns.set(font_scale=1)\n",
    "plt.savefig(r\"C:\\Users\\js5296\\Desktop\\NAS\\Projects\\AP1_Furnace_Control\\EDAs\\old\\1V\\BoxPlots\\AirGasRatiosBoxPlot.png\")"
   ]
  },
  {
   "cell_type": "markdown",
   "id": "54b3f61d710e00de",
   "metadata": {
    "collapsed": false,
    "jupyter": {
     "outputs_hidden": false
    }
   },
   "source": [
    "Filter Air/Gas Ratio outliers\n",
    "dfex=dfXY.iloc[(dfXY[dfXY.columns[dfXY.columns.str.contains(\"Ratio\",regex=False)]].le(4).sum(axis=1)==len(dfXY.columns[dfXY.columns.str.contains(\"Ratio\",regex=False)])).values,:]\n",
    "dfex[dfex.columns[dfex.columns.str.contains(\"Ratio\",regex=False)]].gt(4).sum(axis=0)\n",
    "dfex.shape\n",
    "print(\"Loss of data for Ratio outliers of {:.2%}\".format((dfXY.shape[0]-dfex.shape[0])/dfXY.shape[0]))"
   ]
  },
  {
   "cell_type": "code",
   "execution_count": null,
   "id": "7aa31d42d812b947",
   "metadata": {},
   "outputs": [],
   "source": [
    "#Make Ratio outliers (It seems there are outliers only in Ratio Actual/PV, not in SP) nan to not loose data\n",
    "dfXY.loc[:,dfXY.columns[dfXY.columns.str.contains(\"Ratio\",regex=False)]] = dfXY.loc[:,dfXY.columns[dfXY.columns.str.contains(\"Ratio\",regex=False)]].map(lambda x: x if ((x>=0) & (x<=4)) else np.nan,na_action='ignore')\n",
    "#Check Ratios below 4\n",
    "dfXY[dfXY.columns[dfXY.columns.str.contains(\"Ratio\",regex=False)]].gt(4).sum(axis=0)\n",
    "#Check now nans where ratios were above 4\n",
    "dfXY[dfXY.columns[dfXY.columns.str.contains(\"Ratio\",regex=False)]].isna().sum(axis=0)"
   ]
  },
  {
   "cell_type": "code",
   "execution_count": null,
   "id": "ad5aa10f594b1931",
   "metadata": {},
   "outputs": [],
   "source": [
    "#Define function for airgas boxplot\n",
    "def func_box_plot_zone(ZoneXfig:str):\n",
    "    fig,axes = plt.subplots(3,1,figsize=(20,7))\n",
    "    sns.boxplot(data=dfXY[zoneAirGas_vars_series[zoneAirGas_vars_series.str.contains(str(ZoneXfig),regex=False) & ~zoneAirGas_vars_series.str.contains(\"Ratio\",regex=False) & ~zoneAirGas_vars_series.str.contains(\".*Feedback.*|.*Fdbk.*\",regex=True)]],orient='h',ax=axes[0],width=0.8)\n",
    "    axes[0].tick_params(axis='x', labelsize=15)\n",
    "    axes[0].tick_params(axis='y', labelsize=15)\n",
    "    sns.boxplot(data=dfXY[zoneAirGas_vars_series[zoneAirGas_vars_series.str.contains(f\".*{ZoneXfig}.*Air.*Feedback.*|.*{ZoneXfig}.*Air.*Fdbk.*\",regex=True) ]],orient='h',ax=axes[1],width=0.3)\n",
    "    axes[1].tick_params(axis='x', labelsize=15)\n",
    "    axes[1].tick_params(axis='y', labelsize=15)\n",
    "    #axes[1].axvline(47565, color=\"green\", dashes=(6, 2))\n",
    "    #axes[1].axvline(59655, color=\"red\", dashes=(6, 2))\n",
    "    axes[1].axvline(100, color=\"red\", dashes=(6, 2))\n",
    "    sns.boxplot(data=dfXY[zoneAirGas_vars_series[zoneAirGas_vars_series.str.contains(f\".*{ZoneXfig}.*Gas.*Feedback.*|.*{ZoneXfig}.*Gas.*Fdbk.*\",regex=True) ]],orient='h',ax=axes[2],width=0.3)\n",
    "    axes[2].tick_params(axis='x', labelsize=15)\n",
    "    axes[2].tick_params(axis='y', labelsize=15)\n",
    "    #axes[2].axvline(5170, color=\"red\", dashes=(6, 2))\n",
    "    axes[2].axvline(100, color=\"red\", dashes=(6, 2))\n",
    "    fig.suptitle(f\"{ZoneXfig} boxplot\",fontsize=30)\n",
    "    #zone0_fg.map(sns.boxplot)\n",
    "    sns.set_context('paper',font_scale=1.5)\n",
    "    plt.savefig(r\"C:\\Users\\js5296\\Desktop\\NAS\\Projects\\AP1_Furnace_Control\\EDAs\\new\\1V\\BoxPlots\\newAirGasBoxPlot{}.png\".format(str(ZoneXfig)))"
   ]
  },
  {
   "cell_type": "markdown",
   "id": "5b684d30c7765793",
   "metadata": {
    "collapsed": false,
    "jupyter": {
     "outputs_hidden": false
    }
   },
   "source": [
    "a=pd.DataFrame([pd.Series([True,False,True]),pd.Series([True,True,False])]).T\n",
    "a.astype(bool).sum(axis=1)==len(a.columns)"
   ]
  },
  {
   "cell_type": "code",
   "execution_count": null,
   "id": "b5bc64c556e62f00",
   "metadata": {},
   "outputs": [],
   "source": [
    "#Boxplot zone 0\n",
    "# Zone0: Already in %\n",
    "func_box_plot_zone(\"Zone0\")"
   ]
  },
  {
   "cell_type": "code",
   "execution_count": null,
   "id": "b78cb97dab08e5bd",
   "metadata": {},
   "outputs": [],
   "source": [
    "#Boxplot zone 1\n",
    "# Zone1: Bottom/Top Air Flow in 0-47565 (59655) SCFH scale, Bottom/Top Gas Flow in 0-5170 SCFH scale\n",
    "func_box_plot_zone(\"Zone1\")"
   ]
  },
  {
   "cell_type": "code",
   "execution_count": null,
   "id": "f438a8c62f9bed4f",
   "metadata": {},
   "outputs": [],
   "source": [
    "#Zone1 air SP are scaled with outdated scale, rescale:outdated scale: 47565 SCFH->updated scale: 59655 SCFH\n",
    "dfXY.loc[:,zoneAirGas_vars_series[zoneAirGas_vars_series.str.contains(\".*Zone1.*AirFlowSet[Pp]oint.*\",regex=True)]]=dfXY.loc[:,zoneAirGas_vars_series[zoneAirGas_vars_series.str.contains(\".*Zone1.*AirFlowSet[Pp]oint.*\",regex=True)]]*47565/59655"
   ]
  },
  {
   "cell_type": "code",
   "execution_count": null,
   "id": "c76c226115ed2c9",
   "metadata": {},
   "outputs": [],
   "source": [
    "#Boxplot zone 1\n",
    "# Zone1: Bottom/Top Air Flow in 0-47565 (59655) SCFH scale, Bottom/Top Gas Flow in 0-5170 SCFH scale\n",
    "func_box_plot_zone(\"Zone1\")"
   ]
  },
  {
   "cell_type": "code",
   "execution_count": null,
   "id": "af0927670203a5be",
   "metadata": {},
   "outputs": [],
   "source": [
    "#Boxplot zone 2\n",
    "# Zone2: Bottom/Top Air Flow in 0-47565 (59655) SCFH scale, Bottom/Top Gas Flow in 0-5170 SCFH scale\n",
    "func_box_plot_zone(\"Zone2\")"
   ]
  },
  {
   "cell_type": "code",
   "execution_count": null,
   "id": "a97dc98a1282b728",
   "metadata": {},
   "outputs": [],
   "source": [
    "#Zone2 air SP are scaled with outdated scale, rescale:outdated scale: 47565 SCFH->updated scale: 59655 SCFH\n",
    "dfXY.loc[:,zoneAirGas_vars_series[zoneAirGas_vars_series.str.contains(\".*Zone2.*AirFlowSet[Pp]oint.*\",regex=True)]]=dfXY.loc[:,zoneAirGas_vars_series[zoneAirGas_vars_series.str.contains(\".*Zone2.*AirFlowSet[Pp]oint.*\",regex=True)]]*47565/59655"
   ]
  },
  {
   "cell_type": "code",
   "execution_count": null,
   "id": "84744b4e10e63f2e",
   "metadata": {},
   "outputs": [],
   "source": [
    "#Boxplot zone 2\n",
    "# Zone2: Bottom/Top Air Flow in 0-47565 (59655) SCFH scale, Bottom/Top Gas Flow in 0-5170 SCFH scale\n",
    "func_box_plot_zone(\"Zone2\")"
   ]
  },
  {
   "cell_type": "code",
   "execution_count": null,
   "id": "6b63becb4991d2c6",
   "metadata": {},
   "outputs": [],
   "source": [
    "#Boxplot zone 3\n",
    "# Zone3: Bottom/Top Air Flow in 0-34880 (52831)SCFH scale, Bottom/Top Gas Flow in 0-3350 SCFH scale\n",
    "func_box_plot_zone(\"Zone3\")"
   ]
  },
  {
   "cell_type": "code",
   "execution_count": null,
   "id": "ee4dfbc3d9d9d68a",
   "metadata": {},
   "outputs": [],
   "source": [
    "#Boxplot zone 4\n",
    "# Zone4: Bottom/Top Air Flow in 0-34880 (51951)SCFH scale, Bottom/Top Gas Flow in 0-3685 SCFH scale\n",
    "func_box_plot_zone(\"Zone4\")"
   ]
  },
  {
   "cell_type": "code",
   "execution_count": null,
   "id": "7570f83a1d9f604c",
   "metadata": {},
   "outputs": [],
   "source": [
    "#Boxplot zone 5\n",
    "# Zone5: Bottom/Top Air Flow in 0-27070 (40318)SCFH scale, Bottom/Top Gas Flow in 0-2860 SCFH scale\n",
    "func_box_plot_zone(\"Zone5\")"
   ]
  },
  {
   "cell_type": "code",
   "execution_count": null,
   "id": "4f08bbbabccefa91",
   "metadata": {},
   "outputs": [],
   "source": [
    "#Boxplot zone 6\n",
    "# Zone6: Bottom/Top Air Flow in 0-27070 (41004)SCFH scale, Bottom/Top Gas Flow in 0-2860 SCFH scale\n",
    "func_box_plot_zone(\"Zone6\")"
   ]
  },
  {
   "cell_type": "code",
   "execution_count": null,
   "id": "2021a14ddd3f94b9",
   "metadata": {},
   "outputs": [],
   "source": [
    "#Boxplot zone 7\n",
    "# Zone7: Bottom Air Flow in 0-17490 (26050)SCFH scale, Bottom Gas Flow in 0-1680 SCFH scale\n",
    "#        Top Air Flow in 0-20400 (30384)SCFH scale, Top Gas Flow in 0-1960 SCFH scale\n",
    "func_box_plot_zone(\"Zone7\")"
   ]
  },
  {
   "cell_type": "code",
   "execution_count": null,
   "id": "9ad837011566c9b1",
   "metadata": {},
   "outputs": [],
   "source": [
    "#Boxplot zone 8\n",
    "# Zone8: Bottom Air Flow in 0-20400 (30384)SCFH scale, Bottom Gas Flow in 0-1960 SCFH scale\n",
    "#        Top Air Flow in 0-17490 (26050)SCFH scale, Top Gas Flow in 0-1680 SCFH scale\n",
    "func_box_plot_zone(\"Zone8\")"
   ]
  },
  {
   "cell_type": "markdown",
   "id": "938284b1f35a26f8",
   "metadata": {
    "collapsed": false,
    "jupyter": {
     "outputs_hidden": false
    }
   },
   "source": [
    "##### $Create$ $Gas$ $SP$ $vars$:"
   ]
  },
  {
   "cell_type": "code",
   "execution_count": null,
   "id": "70d89e686401c676",
   "metadata": {},
   "outputs": [],
   "source": [
    "dfRatioSP=dfXY[zoneAirGas_vars_series[zoneAirGas_vars_series.str.contains(\".*RatioSP.*|.*RatioSet[Pp]oint.*\",regex=True)]]#.reset_index(drop=True)\n",
    "dfRatioSP.columns = range(dfRatioSP.columns.size)\n",
    "dfAirFlowSP=dfXY[zoneAirGas_vars_series[zoneAirGas_vars_series.str.contains(\".*AirFlowSP.*|.*AirFlowSet[Pp]oint.*\",regex=True)]]#.reset_index(drop=True)\n",
    "dfAirFlowSP.columns = range(dfAirFlowSP.columns.size)\n",
    "dfGasFlowSP = dfAirFlowSP/dfRatioSP\n",
    "dfGasFlowSP.columns = ['AP1_FurnaceZone0BottomGasFlowSP', 'AP1_FurnaceZone0TopGasFlowSP', 'AP1_FurnaceZone1BottomGasFlowSP', 'AP1_FurnaceZone1TopGasFlowSP', 'AP1_FurnaceZone2BottomGasFlowSP', 'AP1_FurnaceZone2TopGasFlowSP', 'AP1_FurnaceZone3BottomGasFlowSP', 'AP1_FurnaceZone3TopGasFlowSP', 'AP1_FurnaceZone4BottomGasFlowSP', 'AP1_FurnaceZone4TopGasFlowSP', 'AP1_FurnaceZone5BottomGasFlowSP', 'AP1_FurnaceZone5TopGasFlowSP', 'AP1_FurnaceZone6BottomGasFlowSP', 'AP1_FurnaceZone6TopGasFlowSP', 'AP1_FurnaceZone7BottomGasFlowSP', 'AP1_FurnaceZone7TopGasFlowSP', 'AP1_FurnaceZone8BottomGasFlowSP', 'AP1_FurnaceZone8TopGasFlowSP']\n",
    "dfGasFlowSP.describe()"
   ]
  },
  {
   "cell_type": "markdown",
   "id": "5f006d7cd8e898d0",
   "metadata": {
    "collapsed": false,
    "jupyter": {
     "outputs_hidden": false
    }
   },
   "source": [
    "##### $Create$ $Error$ $df$"
   ]
  },
  {
   "cell_type": "code",
   "execution_count": null,
   "id": "a9e27cd21549f02a",
   "metadata": {},
   "outputs": [],
   "source": [
    "dfAirFlowFdbk=dfXY[zoneAirGas_vars_series[zoneAirGas_vars_series.str.contains(\".*Zone.*Air.*Feedback.*|.*Zone.*Air.*Fdbk.*\",regex=True)]]\n",
    "dfAirFlowFdbk.head()\n",
    "dfAirFlowFdbk.columns = range(dfAirFlowFdbk.columns.size)\n",
    "\n",
    "dfGasFlowFdbk=dfXY[zoneAirGas_vars_series[zoneAirGas_vars_series.str.contains(\".*Zone.*Gas.*Feedback.*|.*Zone.*Gas.*Fdbk.*\",regex=True)]]\n",
    "dfGasFlowFdbk.head()\n",
    "dfGasFlowFdbk.columns = range(dfGasFlowFdbk.columns.size)\n",
    "\n",
    "dfAirFlowSP.head()\n",
    "\n",
    "dfGasFlowSP.head()\n",
    "dfGasFlowSP.columns = range(dfGasFlowSP.columns.size)\n",
    "\n",
    "dfFlowsErr = pd.merge(left=dfGasFlowFdbk-dfGasFlowSP,right=dfAirFlowFdbk-dfAirFlowSP,left_index=True,right_index=True,how='inner')\n",
    "dfFlowsErr.columns = ['AP1_FurnaceZone0BottomGasFlowErr', 'AP1_FurnaceZone0TopGasFlowErr', 'AP1_FurnaceZone1BottomGasFlowErr', 'AP1_FurnaceZone1TopGasFlowErr', 'AP1_FurnaceZone2BottomGasFlowErr', 'AP1_FurnaceZone2TopGasFlowErr', 'AP1_FurnaceZone3BottomGasFlowErr', 'AP1_FurnaceZone3TopGasFlowErr', 'AP1_FurnaceZone4BottomGasFlowErr', 'AP1_FurnaceZone4TopGasFlowErr', 'AP1_FurnaceZone5BottomGasFlowErr', 'AP1_FurnaceZone5TopGasFlowErr', 'AP1_FurnaceZone6BottomGasFlowErr', 'AP1_FurnaceZone6TopGasFlowErr', 'AP1_FurnaceZone7BottomGasFlowErr', 'AP1_FurnaceZone7TopGasFlowErr', 'AP1_FurnaceZone8BottomGasFlowErr', 'AP1_FurnaceZone8TopGasFlowErr','AP1_FurnaceZone0BottomAirFlowErr', 'AP1_FurnaceZone0TopAirFlowErr', 'AP1_FurnaceZone1BottomAirFlowErr', 'AP1_FurnaceZone1TopAirFlowErr', 'AP1_FurnaceZone2BottomAirFlowErr', 'AP1_FurnaceZone2TopAirFlowErr', 'AP1_FurnaceZone3BottomAirFlowErr', 'AP1_FurnaceZone3TopAirFlowErr', 'AP1_FurnaceZone4BottomAirFlowErr', 'AP1_FurnaceZone4TopAirFlowErr', 'AP1_FurnaceZone5BottomAirFlowErr', 'AP1_FurnaceZone5TopAirFlowErr', 'AP1_FurnaceZone6BottomAirFlowErr', 'AP1_FurnaceZone6TopAirFlowErr', 'AP1_FurnaceZone7BottomAirFlowErr', 'AP1_FurnaceZone7TopAirFlowErr', 'AP1_FurnaceZone8BottomAirFlowErr', 'AP1_FurnaceZone8TopAirFlowErr']\n",
    "dfFlowsErr.head()\n",
    "dfFlowsErr.describe()"
   ]
  },
  {
   "cell_type": "markdown",
   "id": "47ff84ee56f89678",
   "metadata": {
    "collapsed": false,
    "jupyter": {
     "outputs_hidden": false
    }
   },
   "source": [
    "$Example$\n",
    "a=pd.DataFrame(np.array([[1,2,3],[5,8,2]]),columns=['a','b','c'])\n",
    "a\n",
    "b=pd.DataFrame(np.array([[6,9,1,],[4,7,2]]),columns=['e','f','g'])\n",
    "b\n",
    "c=a-b\n",
    "c"
   ]
  },
  {
   "cell_type": "markdown",
   "id": "ff336ba1c447d267",
   "metadata": {
    "collapsed": false,
    "jupyter": {
     "outputs_hidden": false
    }
   },
   "source": [
    "##### $Distribution$ $plots$"
   ]
  },
  {
   "cell_type": "code",
   "execution_count": null,
   "id": "7ea8d638dbc3718e",
   "metadata": {},
   "outputs": [],
   "source": [
    "#Define function plot histogram zones\n",
    "def func_hist_plot_zone(zoneXAirGas_vars_series:pd.Series,zoneXAirGas_err_series:pd.Series,ZoneXfig:str):\n",
    "    #zone0AirGas_vars_series=zoneAirGas_vars_series[zoneAirGas_vars_series.str.contains(\"Zone0\",regex=False)]\n",
    "    ncol=4\n",
    "    nrow=dfXY[zoneXAirGas_vars_series].shape[1]//ncol+1\n",
    "    var=0\n",
    "    \n",
    "    fig,axes = plt.subplots(nrow,ncol,figsize=(20,nrow*20/5))\n",
    "    fig.suptitle(f\"Distribution of numerical {ZoneXfig} Air/Gas Flow variables\",fontsize=30,va='top',y=1)\n",
    "    \n",
    "    for r in range(nrow):\n",
    "        for c in range(ncol):\n",
    "            if var<len(zoneXAirGas_vars_series.to_list()):\n",
    "                sns.histplot(data=dfXY.dropna(),x=zoneXAirGas_vars_series[var],ax=axes[r,c],kde=True,color=\"crimson\",hue='SteelFamCluster')#,hue='clustersGMM'\n",
    "                axes[r,c].set_title(label=zoneXAirGas_vars_series[var],loc='center',pad=10,fontsize=\"medium\")\n",
    "                axes[r,c].set_xlabel(xlabel=\"\",labelpad=5,fontsize=\"large\")\n",
    "                axes[r,c].set_ylabel(ylabel=\"\",labelpad=15,fontsize=\"large\")\n",
    "                axes[r,c].axvline(tbl_desc.loc['cut-',zoneXAirGas_vars_series[var]], color=\"red\", dashes=(6, 2)) #Cut-\n",
    "                axes[r,c].axvline(tbl_desc.loc['cut+',zoneXAirGas_vars_series[var]], color=\"red\", dashes=(6, 2)) #Cut+\n",
    "                axes[r,c].tick_params(axis='x', labelsize=15)\n",
    "                axes[r,c].tick_params(axis='y', labelsize=15)\n",
    "    \n",
    "                var+=1\n",
    "                if c==0:\n",
    "                    axes[r,c].set_ylabel(ylabel=\"Counts\",labelpad=15)\n",
    "            #remove unused axes\n",
    "            #print(len(axes[r,c].get_children()))\n",
    "            if len(axes[r,c].get_children()) <=10:#empty plots have 10 children\n",
    "                axes[r,c].set_visible(False)\n",
    "    \n",
    "    #Make space between subplots\n",
    "    fig.tight_layout(pad=3)\n",
    "    plt.savefig(r\"C:\\Users\\js5296\\Desktop\\NAS\\Projects\\AP1_Furnace_Control\\EDAs\\new\\1V\\DistributionPlots\\newAirGasHistPlot{}.png\".format(str(ZoneXfig)))\n",
    "    \n",
    "    ##Plot Errors\n",
    "    fig2,axes2 = plt.subplots(1,4,figsize=(20,5))\n",
    "    fig2.suptitle(f\"Distribution of errors for {ZoneXfig} Air/Gas Flow variables\",fontsize=30,va='top',y=1)\n",
    "    #zone0AirGas_err_series=dfFlowsErr.columns[dfFlowsErr.columns.str.contains(\"Zone0\",regex=False)]\n",
    "    for c,item in enumerate(zoneXAirGas_err_series):\n",
    "        sns.histplot(data=pd.merge(right=dfFlowsErr,left=pd.DataFrame(dfXY.SteelFamCluster,index=dfXY.index,columns=['SteelFamCluster']),how='inner',right_index=True,left_index=True),x=item,ax=axes2[c],kde=True,color=\"darkgreen\",hue='SteelFamCluster',palette='Set2')\n",
    "        axes2[c].set_title(label=item,loc='center',pad=10,fontsize=\"medium\")\n",
    "        axes2[c].set_xlabel(xlabel=\"Values\",labelpad=5,fontsize=\"large\")\n",
    "        axes2[c].set_ylabel(ylabel=\"\",labelpad=15,fontsize=\"large\")\n",
    "        axes2[c].axvline(dfFlowsErr[item].mean(), color=\"red\", dashes=(6, 2))\n",
    "        axes2[c].tick_params(axis='x', labelsize=15)\n",
    "        axes2[c].tick_params(axis='y', labelsize=15)\n",
    "        if c==0:\n",
    "            axes2[c].set_ylabel(ylabel=\"Counts\",labelpad=15)\n",
    "    \n",
    "    fig2.tight_layout(pad=3)\n",
    "    plt.savefig(r\"C:\\Users\\js5296\\Desktop\\NAS\\Projects\\AP1_Furnace_Control\\EDAs\\new\\1V\\DistributionPlots\\newAirGasErrHistPlot{}.png\".format(str(ZoneXfig)))\n",
    "    #NOTE: Binormal try to explain by splitting with clusters"
   ]
  },
  {
   "cell_type": "code",
   "execution_count": null,
   "id": "d9be327fcc5fb23f",
   "metadata": {},
   "outputs": [],
   "source": [
    "#Zone 0: 14\n",
    "zone0AirGas_vars_series=zoneAirGas_vars_series[zoneAirGas_vars_series.str.contains(\"Zone0\",regex=False)]\n",
    "zone0AirGas_err_series=dfFlowsErr.columns[dfFlowsErr.columns.str.contains(\"Zone0\",regex=False)]\n",
    "func_hist_plot_zone(zone0AirGas_vars_series,zone0AirGas_err_series,\"Zone0\")"
   ]
  },
  {
   "cell_type": "code",
   "execution_count": null,
   "id": "8b029275-175a-4f7e-ab53-11453f22210b",
   "metadata": {},
   "outputs": [],
   "source": [
    "#Strange behaviour with aitflowCV\n",
    "dfXY[[\"AP1_FurnaceZone0BottomAirFlowControlValveCV\",\"AP1_FurnaceZone0TopAirFlowControlValveCV\"]].apply(pd.Series.value_counts,axis=0)\n",
    "#Only 0 or open, not in between"
   ]
  },
  {
   "cell_type": "code",
   "execution_count": null,
   "id": "51fe2e38ccbd5722",
   "metadata": {},
   "outputs": [],
   "source": [
    "#Zone 1: 14\n",
    "zone1AirGas_vars_series=zoneAirGas_vars_series[zoneAirGas_vars_series.str.contains(\"Zone1\",regex=False)]\n",
    "zone1AirGas_err_series=dfFlowsErr.columns[dfFlowsErr.columns.str.contains(\"Zone1\",regex=False)]\n",
    "func_hist_plot_zone(zone1AirGas_vars_series,zone1AirGas_err_series,\"Zone1\")"
   ]
  },
  {
   "cell_type": "code",
   "execution_count": null,
   "id": "3eaf392e3eb241b8",
   "metadata": {},
   "outputs": [],
   "source": [
    "#Strange behaviour with aitflowCV\n",
    "dfXY[[\"AP1_FurnaceZone1BottomAirFlowControlValveOutput\",\"AP1_FurnaceZone1TopAirFlowControlValveOutput\"]].apply(pd.Series.value_counts,axis=0)\n",
    "#Only 0 or open, not in between"
   ]
  },
  {
   "cell_type": "code",
   "execution_count": null,
   "id": "8ff5c1dc-3e55-455f-98cc-31ad210d58b3",
   "metadata": {},
   "outputs": [],
   "source": [
    "#Strange behaviour with aitflowCV\n",
    "dfXY[[\"AP1_FurnaceZone1BottomAirFlowSetPoint\",\"AP1_FurnaceZone1TopAirFlowSetpoint\"]].apply(pd.Series.value_counts,axis=0).sort_index(ascending=False)"
   ]
  },
  {
   "cell_type": "code",
   "execution_count": null,
   "id": "7cd6e503af1d032f",
   "metadata": {},
   "outputs": [],
   "source": [
    "#Zone 2: 14\n",
    "zone2AirGas_vars_series=zoneAirGas_vars_series[zoneAirGas_vars_series.str.contains(\"Zone2\",regex=False)]\n",
    "zone2AirGas_err_series=dfFlowsErr.columns[dfFlowsErr.columns.str.contains(\"Zone2\",regex=False)]\n",
    "func_hist_plot_zone(zone2AirGas_vars_series,zone2AirGas_err_series,\"Zone2\")"
   ]
  },
  {
   "cell_type": "code",
   "execution_count": null,
   "id": "f7ee5fd47ea36214",
   "metadata": {},
   "outputs": [],
   "source": [
    "#Strange behaviour with aitflowCV\n",
    "dfXY[[\"AP1_FurnaceZone2BottomAirFlowSetPoint\",\"AP1_FurnaceZone2TopAirFlowSetpoint\"]].apply(pd.Series.value_counts,axis=0).sort_index(ascending=False)"
   ]
  },
  {
   "cell_type": "code",
   "execution_count": null,
   "id": "43a27466642420bd",
   "metadata": {},
   "outputs": [],
   "source": [
    "#Zone 3: 14\n",
    "zone3AirGas_vars_series=zoneAirGas_vars_series[zoneAirGas_vars_series.str.contains(\"Zone3\",regex=False)]\n",
    "zone3AirGas_err_series=dfFlowsErr.columns[dfFlowsErr.columns.str.contains(\"Zone3\",regex=False)]\n",
    "func_hist_plot_zone(zone3AirGas_vars_series,zone3AirGas_err_series,\"Zone3\")"
   ]
  },
  {
   "cell_type": "code",
   "execution_count": null,
   "id": "da5772ab-814b-42bd-b661-64263c38322f",
   "metadata": {},
   "outputs": [],
   "source": [
    "#Strange behaviour with aitflowCV\n",
    "dfXY[[\"AP1_FurnaceZone3BottomAirFlowSetPoint\",\"AP1_FurnaceZone3TopAirFlowSetpoint\"]].apply(pd.Series.value_counts,axis=0).sort_index(ascending=False)"
   ]
  },
  {
   "cell_type": "code",
   "execution_count": null,
   "id": "1c5298ae-04fb-44a0-9bef-d2d36f64215d",
   "metadata": {},
   "outputs": [],
   "source": [
    "#Strange behaviour with aitflowCV\n",
    "dfXY[[\"AP1_FurnaceZone3BottomAirFlowControlValveOutput\",\"AP1_FurnaceZone3TopAirFlowControlValveOutput\"]].apply(pd.Series.value_counts,axis=0)\n",
    "#Only 0 or open, not in between"
   ]
  },
  {
   "cell_type": "code",
   "execution_count": null,
   "id": "55acb5fcb0ed9042",
   "metadata": {},
   "outputs": [],
   "source": [
    "#Zone 4: 14\n",
    "zone4AirGas_vars_series=zoneAirGas_vars_series[zoneAirGas_vars_series.str.contains(\"Zone4\",regex=False)]\n",
    "zone4AirGas_err_series=dfFlowsErr.columns[dfFlowsErr.columns.str.contains(\"Zone4\",regex=False)]\n",
    "func_hist_plot_zone(zone4AirGas_vars_series,zone4AirGas_err_series,\"Zone4\")"
   ]
  },
  {
   "cell_type": "code",
   "execution_count": null,
   "id": "edb255af9543f9ce",
   "metadata": {},
   "outputs": [],
   "source": [
    "#Strange behaviour with aitflowCV\n",
    "dfXY[[\"AP1_FurnaceZone4BottomAirFlowSetPoint\", \"AP1_FurnaceZone4TopAirFlowSetpoint\"]].apply(pd.Series.value_counts,axis=0).sort_values(\"AP1_FurnaceZone4BottomAirFlowSetPoint\",ascending=False)#sort_index(ascending=False)"
   ]
  },
  {
   "cell_type": "code",
   "execution_count": null,
   "id": "4d92b64f5759c2a0",
   "metadata": {},
   "outputs": [],
   "source": [
    "#Zone 5: 14\n",
    "zone5AirGas_vars_series=zoneAirGas_vars_series[zoneAirGas_vars_series.str.contains(\"Zone5\",regex=False)]\n",
    "zone5AirGas_err_series=dfFlowsErr.columns[dfFlowsErr.columns.str.contains(\"Zone5\",regex=False)]\n",
    "func_hist_plot_zone(zone5AirGas_vars_series,zone5AirGas_err_series,\"Zone5\")"
   ]
  },
  {
   "cell_type": "code",
   "execution_count": null,
   "id": "8709a8f3-6477-4b70-a852-210983f330dc",
   "metadata": {},
   "outputs": [],
   "source": [
    "#Strange behaviour with aitflowCV\n",
    "dfXY[[\"AP1_FurnaceZone5BottomAirFlowSetPoint\",\"AP1_FurnaceZone5TopAirFlowSetpoint\"]].apply(pd.Series.value_counts,axis=0).sort_index(ascending=False)"
   ]
  },
  {
   "cell_type": "code",
   "execution_count": null,
   "id": "426684ac9bb62fa4",
   "metadata": {},
   "outputs": [],
   "source": [
    "#Zone 6: 14\n",
    "zone6AirGas_vars_series=zoneAirGas_vars_series[zoneAirGas_vars_series.str.contains(\"Zone6\",regex=False)]\n",
    "zone6AirGas_err_series=dfFlowsErr.columns[dfFlowsErr.columns.str.contains(\"Zone6\",regex=False)]\n",
    "func_hist_plot_zone(zone6AirGas_vars_series,zone6AirGas_err_series,\"Zone6\")"
   ]
  },
  {
   "cell_type": "code",
   "execution_count": null,
   "id": "332abee4d823c39e",
   "metadata": {},
   "outputs": [],
   "source": [
    "#Strange behaviour with TopairflowCV\n",
    "dfXY[\"AP1_FurnaceZone6TopAirFlowControlValveOutput\"].value_counts().sort_values(ascending=False)"
   ]
  },
  {
   "cell_type": "code",
   "execution_count": null,
   "id": "75e85d9d-af1f-410b-9c91-6a1d8bb86138",
   "metadata": {},
   "outputs": [],
   "source": [
    "#Strange behaviour with aitflowCV\n",
    "dfXY[[\"AP1_FurnaceZone6BottomAirFlowSetPoint\",\"AP1_FurnaceZone6TopAirFlowSetpoint\"]].apply(pd.Series.value_counts,axis=0).sort_index(ascending=False)"
   ]
  },
  {
   "cell_type": "code",
   "execution_count": null,
   "id": "a16e1c298aa01102",
   "metadata": {},
   "outputs": [],
   "source": [
    "#Zone 7: 14\n",
    "zone7AirGas_vars_series=zoneAirGas_vars_series[zoneAirGas_vars_series.str.contains(\"Zone7\",regex=False)]\n",
    "zone7AirGas_err_series=dfFlowsErr.columns[dfFlowsErr.columns.str.contains(\"Zone7\",regex=False)]\n",
    "func_hist_plot_zone(zone7AirGas_vars_series,zone7AirGas_err_series,\"Zone7\")"
   ]
  },
  {
   "cell_type": "code",
   "execution_count": null,
   "id": "40214d44-fad1-498e-8b1a-8ea77192d0bc",
   "metadata": {},
   "outputs": [],
   "source": [
    "#Strange behaviour with TopairflowCV\n",
    "dfXY[\"AP1_FurnaceZone7TopAirFlowControlValveOutput\"].value_counts().sort_values(ascending=F alse)"
   ]
  },
  {
   "cell_type": "code",
   "execution_count": null,
   "id": "fecd1b14-2f22-4b20-bc8d-2317865c4352",
   "metadata": {},
   "outputs": [],
   "source": [
    "#Strange behaviour with aitflowCV\n",
    "dfXY[[\"AP1_FurnaceZone7BottomAirFlowSetPoint\",\"AP1_FurnaceZone7TopAirFlowSetpoint\"]].apply(pd.Series.value_counts,axis=0).sort_index(ascending=False)"
   ]
  },
  {
   "cell_type": "code",
   "execution_count": null,
   "id": "21e9453d4feeb821",
   "metadata": {},
   "outputs": [],
   "source": [
    "#Zone 8: 14\n",
    "zone8AirGas_vars_series=zoneAirGas_vars_series[zoneAirGas_vars_series.str.contains(\"Zone8\",regex=False)]\n",
    "zone8AirGas_err_series=dfFlowsErr.columns[dfFlowsErr.columns.str.contains(\"Zone8\",regex=False)]\n",
    "func_hist_plot_zone(zone8AirGas_vars_series,zone8AirGas_err_series,\"Zone8\")"
   ]
  },
  {
   "cell_type": "code",
   "execution_count": null,
   "id": "fd116df3-89e6-4612-a9d1-285e30d70dc6",
   "metadata": {},
   "outputs": [],
   "source": [
    "#Strange behaviour with TopairflowCV\n",
    "dfXY[[\"AP1_FurnaceZone8TopAirFlowControlValveOutput\",\"AP1_FurnaceZone8BottomAirFlowControlValveOutput\"]].apply(pd.Series.value_counts,axis=0).sort_index(ascending=False)"
   ]
  },
  {
   "cell_type": "code",
   "execution_count": null,
   "id": "c15eb3f1-e741-4e71-8269-07c918181faa",
   "metadata": {},
   "outputs": [],
   "source": [
    "#Strange behaviour with aitflowCV\n",
    "dfXY[[\"AP1_FurnaceZone8BottomAirFlowSetPoint\",\"AP1_FurnaceZone8TopAirFlowSetpoint\"]].apply(pd.Series.value_counts,axis=0).sort_index(ascending=False)"
   ]
  },
  {
   "cell_type": "markdown",
   "id": "1411df6379dfeaeb",
   "metadata": {
    "collapsed": false,
    "jupyter": {
     "outputs_hidden": false
    }
   },
   "source": [
    "###### $Scatter$ $Plots$"
   ]
  },
  {
   "cell_type": "markdown",
   "id": "5c6fe9a450948c5e",
   "metadata": {
    "collapsed": false,
    "jupyter": {
     "outputs_hidden": false
    }
   },
   "source": [
    "zone0_grid = sns.PairGrid(data=dfXY[zone0AirGas_vars_series[zone0AirGas_vars_series.str.contains(\"Top\",regex=False) & ~zone0AirGas_vars_series.str.contains(\"Ratio\",regex=False)]],aspect=1.5,despine=False)#,height=15,aspect=1.5,layout_pad=1\n",
    "\n",
    "zone0_grid.map_diag(sns.histplot,color='fuchsia') #Diagonal are histograms\n",
    "#zone0_grid.map_upper(sns.heatmap,data=dfXY[zone0AirGas_vars_series].corr(),annot=True, cmap='Blues') #Scatterplot at upper part of diag\n",
    "zone0_grid.map_upper(sns.residplot,order=1,color='darkolivegreen',scatter_kws={'s':20,'marker':'x'})#line_kws=dict(color=\"r\",lw=0.8),lowess=True for drawing line\n",
    "zone0_grid.map_lower(sns.regplot,color='darkorange',line_kws={'lw':0.8,'color':'olive'},marker='x',scatter_kws={'s':20},order=1) #robust=True to be less influenciated by outliers\n",
    "#|zone0_grid.tick_params(labelsize=30)\n",
    "\n",
    "for ax in zone0_grid.axes.flat:\n",
    "  ax.tick_params(axis='both', labelleft=True, labelbottom=True)\n",
    "\n",
    "plt.subplots_adjust(wspace=0.35, hspace=0.6)\n",
    "\n",
    "xlabels,ylabels = [],[]\n",
    "\n",
    "for ax in zone0_grid.axes[-1,:]:\n",
    "  xlabel = ax.xaxis.get_label_text()\n",
    "  xlabels.append(xlabel)\n",
    "for ax in zone0_grid.axes[:,0]:\n",
    "  ylabel = ax.yaxis.get_label_text()\n",
    "  ylabels.append(ylabel)\n",
    "\n",
    "for i in range(len(xlabels)):\n",
    "  for j in range(len(ylabels)):\n",
    "    zone0_grid.axes[j,i].xaxis.set_label_text(xlabels[i],visible=True)\n",
    "    zone0_grid.axes[j,i].yaxis.set_label_text(ylabels[j],visible=True)\n",
    "    if i==j:\n",
    "        zone0_grid.axes[j,i].set_title(label='Histogram',loc='center',pad=10)\n",
    "    elif i>j:\n",
    "        zone0_grid.axes[j,i].set_title(label='Residuals',loc='center',pad=10)\n",
    "    elif i<j:\n",
    "        zone0_grid.axes[j,i].set_title(label='Scatter',loc='center',pad=10)"
   ]
  },
  {
   "cell_type": "code",
   "execution_count": null,
   "id": "26095f8a1d4ce2d0",
   "metadata": {},
   "outputs": [],
   "source": [
    "#Define function plot scatters zones\n",
    "def func_scatter_plot_zone(zoneXAirGas_vars_series:pd.Series,ZoneXfig:str,TopBottom: str):\n",
    "    \n",
    "    dfZoneXScatter = dfXY[zoneXAirGas_vars_series[zoneXAirGas_vars_series.str.contains(str(TopBottom),regex=False) & ~zoneXAirGas_vars_series.str.contains(\"Ratio\",regex=False)].tolist()+[\"SteelFamCluster\"]]\n",
    "    var_list = dfZoneXScatter.columns.to_list()[:-1]\n",
    "    \n",
    "    fig,axes = plt.subplots(5,5,figsize=(30,35))\n",
    "    fig.suptitle(f\"ScatterPlot of numerical {ZoneXfig+TopBottom} Air/Gas Flow variables\",fontsize=30,va='top',y=1)\n",
    "    \n",
    "    for r in range(len(var_list)):\n",
    "        for c in range(len(var_list)):\n",
    "            if r==c:\n",
    "                sns.histplot(dfZoneXScatter,x=var_list[r],ax=axes[r,c],kde=True,color=\"fuchsia\",hue='SteelFamCluster')#data=pd.merge(left=dfZone8Scatter,right=pd.DataFrame(SteelFamCluster,index=dfXY.index,columns=['SteelFamCluster']),how='inner',right_index=True,left_index=True)\n",
    "                axes[r,c].set_title(label=var_list[r],loc='center',pad=10,fontsize='large')\n",
    "                axes[r,c].set_xlabel(xlabel=\"\",labelpad=0)\n",
    "                axes[r,c].set_ylabel(ylabel=\"\",labelpad=0)\n",
    "                axes[r,c].tick_params(axis='x', labelsize=15)\n",
    "                axes[r,c].tick_params(axis='y', labelsize=15)\n",
    "            if r>c:\n",
    "                sns.scatterplot(dfZoneXScatter,x=var_list[c],y=var_list[r],ax=axes[r,c],hue='SteelFamCluster')#,size=20\n",
    "                sns.regplot(data=dfZoneXScatter,x=var_list[c],y=var_list[r],ax=axes[r,c],color='darkorange',line_kws={'lw':0.8,'color':'olive'},order=1,scatter=False)#,marker='x',scatter_kws={'s':20}\n",
    "                axes[r,c].set_title(label='ScatterPlot',loc='center',pad=10,fontsize='x-large')\n",
    "                axes[r,c].set_xlabel(xlabel=var_list[c],labelpad=5,fontsize='large')\n",
    "                axes[r,c].set_ylabel(ylabel=var_list[r],labelpad=10,fontsize='large')\n",
    "                axes[r,c].legend(['r\\u00b2={:.2f}, p={:.2E}'.format(st.pearsonr(dfZoneXScatter[var_list[c]],dfZoneXScatter[var_list[r]])[0]**2,st.pearsonr(dfZoneXScatter[var_list[c]],dfZoneXScatter[var_list[r]])[1])],fontsize='large')\n",
    "                axes[r,c].tick_params(axis='x', labelsize=15)\n",
    "                axes[r,c].tick_params(axis='y', labelsize=15)\n",
    "            if r<c:\n",
    "                x=dfZoneXScatter[var_list[c]].to_numpy()\n",
    "                y= dfZoneXScatter[var_list[r]].to_numpy()\n",
    "                y_pred = LinearRegression().fit(x.reshape(-1,1),y.reshape(-1,1)).predict(x.reshape(-1,1))\n",
    "                y_pred=y_pred[:,0]\n",
    "                data=pd.merge(left=pd.DataFrame({\"x\":x,\"res\":y-y_pred}),right=pd.DataFrame(dfXY[[\"SteelFamCluster\"]].reset_index(drop=True),columns=['SteelFamCluster']),how='inner',right_index=True,left_index=True)#\"x\":np.linspace(0,100,num=len(y))\n",
    "                sns.scatterplot(data=data,x='x',y='res',hue='SteelFamCluster',ax=axes[r,c],marker=\"o\")#,size=20,style='clustersGMM'\n",
    "                axes[r,c].axhline(c='g',lw=0.8)\n",
    "                #sns.residplot(data=dfZone0Scatter,x=var_list[c],y=var_list[r],ax=axes[r,c],order=1,color='darkolivegreen',scatter_kws={'s':20,'marker':'x'})\n",
    "                axes[r,c].set_title(label='Residuals',loc='center',pad=10,fontsize='x-large')\n",
    "                axes[r,c].set_xlabel(xlabel=var_list[c],labelpad=5,fontsize='large')\n",
    "                axes[r,c].set_ylabel(ylabel=var_list[r],labelpad=10,fontsize='large')\n",
    "                axes[r,c].tick_params(axis='x', labelsize=15)\n",
    "                axes[r,c].tick_params(axis='y', labelsize=15)\n",
    "    \n",
    "    #Make space between subplots\n",
    "    fig.tight_layout(pad=3)\n",
    "    \n",
    "    plt.savefig(r\"C:\\Users\\js5296\\Desktop\\NAS\\Projects\\AP1_Furnace_Control\\EDAs\\new\\1V\\ScatterPlots\\newAirGasScatterPlot{}.png\".format(str(ZoneXfig)+str(TopBottom)))\n",
    "    # #Print correlation matrix\n",
    "    # fig2,axes2 = plt.subplots(figsize=(6,4))\n",
    "    # fig2.suptitle(\"Correlation Matrix of numerical Zone0 Top Air/Gas Flow variables\",fontsize=15,va='top',y=0.97)\n",
    "    # sns.set_context('paper', font_scale=1.4)\n",
    "    # dfZone0Scatter_mx = dfZone0Scatter.corr()\n",
    "    # mask = np.zeros_like(dfZone0Scatter_mx, dtype=bool)\n",
    "    # mask[np.triu_indices_from(mask)] = True\n",
    "    # sns.heatmap(dfZone0Scatter_mx, annot=True,mask=mask,cmap='Greens',square=True,ax=axes2)#cmap = sns.diverging_palette(220, 10, as_cmap=True)"
   ]
  },
  {
   "cell_type": "code",
   "execution_count": null,
   "id": "47fbf3498f6957a2",
   "metadata": {},
   "outputs": [],
   "source": [
    "#Zone 0 Top: 5x5\n",
    "func_scatter_plot_zone(zone0AirGas_vars_series,\"Zone0\",\"Top\")"
   ]
  },
  {
   "cell_type": "markdown",
   "id": "f245023f4d02c597",
   "metadata": {
    "collapsed": false,
    "jupyter": {
     "outputs_hidden": false
    }
   },
   "source": [
    "x=dfZone0Scatter[var_list[3]].to_numpy()\n",
    "y= dfZone0Scatter[var_list[1]].to_numpy()\n",
    "regM = LinearRegression().fit(x.reshape(-1,1),y.reshape(-1,1))\n",
    "y_pred = regM.predict(x.reshape(-1,1))\n",
    "y_pred=y_pred[:,0]\n",
    "#data=pd.merge(left=pd.DataFrame({\"x\":np.linspace(0,100,num=len(y)),\"res\":y-y_pred}),right=pd.DataFrame(SteelFamCluster,index=range(dfXY.shape[0]),columns=['SteelFamCluster']),how='inner',right_index=True,left_index=True)\n",
    "data=pd.merge(left=pd.DataFrame({\"x\":x,\"res\":y-y_pred}),right=pd.DataFrame(SteelFamCluster,index=range(dfXY.shape[0]),columns=['SteelFamCluster']),how='inner',right_index=True,left_index=True)\n",
    "sns.scatterplot(data=data,x='x',y='res',hue='SteelFamCluster',style='SteelFamCluster',size=2)#,size=20\n",
    "plt.scatter(x, y, color=\"green\")\n",
    "plt.plot(x, y_pred, color=\"blue\", linewidth=3)\n",
    "print(r2_score(y,y_pred))\n",
    "print(mean_squared_error(y,y_pred))\n",
    "#sns.scatterplot(pd.merge(left=dfZone0Scatter,right=pd.DataFrame(SteelFamCluster,index=dfXY.index,columns=['SteelFamCluster']),how='inner',right_index=True,left_index=True),x=var_list[3],y=var_list[0],hue='SteelFamCluster')#,size=20"
   ]
  },
  {
   "cell_type": "code",
   "execution_count": null,
   "id": "e8952dde54833858",
   "metadata": {},
   "outputs": [],
   "source": [
    "#Zone 0 Bottom: 5x5\n",
    "func_scatter_plot_zone(zone0AirGas_vars_series,\"Zone0\",\"Bottom\")"
   ]
  },
  {
   "cell_type": "code",
   "execution_count": null,
   "id": "deab778c81253482",
   "metadata": {},
   "outputs": [],
   "source": [
    "#Zone 1: 5x5\n",
    "func_scatter_plot_zone(zone1AirGas_vars_series,\"Zone1\",\"Top\")"
   ]
  },
  {
   "cell_type": "code",
   "execution_count": null,
   "id": "6688219f1b8317fc",
   "metadata": {},
   "outputs": [],
   "source": [
    "#Zone 1: 5x5\n",
    "func_scatter_plot_zone(zone1AirGas_vars_series,\"Zone1\",\"Bottom\")"
   ]
  },
  {
   "cell_type": "code",
   "execution_count": null,
   "id": "522c22fd054f83c7",
   "metadata": {},
   "outputs": [],
   "source": [
    "#Zone 2 Top: 5x5\n",
    "func_scatter_plot_zone(zone2AirGas_vars_series,\"Zone2\",\"Top\")"
   ]
  },
  {
   "cell_type": "code",
   "execution_count": null,
   "id": "31876e4a4822d11f",
   "metadata": {},
   "outputs": [],
   "source": [
    "#Zone 2 Bottom: 5x5\n",
    "func_scatter_plot_zone(zone2AirGas_vars_series,\"Zone2\",\"Bottom\")"
   ]
  },
  {
   "cell_type": "code",
   "execution_count": null,
   "id": "cb0601c2cda38506",
   "metadata": {},
   "outputs": [],
   "source": [
    "#Zone 3 Top: 5x5\n",
    "func_scatter_plot_zone(zone3AirGas_vars_series,\"Zone3\",\"Top\")"
   ]
  },
  {
   "cell_type": "code",
   "execution_count": null,
   "id": "f7ede06903f5b157",
   "metadata": {},
   "outputs": [],
   "source": [
    "#Zone 3 Bottom: 5x5\n",
    "func_scatter_plot_zone(zone3AirGas_vars_series,\"Zone3\",\"Bottom\")"
   ]
  },
  {
   "cell_type": "code",
   "execution_count": null,
   "id": "218f228a85855da0",
   "metadata": {},
   "outputs": [],
   "source": [
    "#Zone 4 Top: 5x5\n",
    "func_scatter_plot_zone(zone4AirGas_vars_series,\"Zone4\",\"Top\")"
   ]
  },
  {
   "cell_type": "code",
   "execution_count": null,
   "id": "8bcfaf4a9c76b5c9",
   "metadata": {},
   "outputs": [],
   "source": [
    "#Zone 4 Bottom: 5x5\n",
    "func_scatter_plot_zone(zone4AirGas_vars_series,\"Zone4\",\"Bottom\")"
   ]
  },
  {
   "cell_type": "code",
   "execution_count": null,
   "id": "ee81b3220e803b50",
   "metadata": {},
   "outputs": [],
   "source": [
    "#Zone 5 Top: 5x5\n",
    "func_scatter_plot_zone(zone5AirGas_vars_series,\"Zone5\",\"Top\")"
   ]
  },
  {
   "cell_type": "code",
   "execution_count": null,
   "id": "453e6e0b057974c0",
   "metadata": {},
   "outputs": [],
   "source": [
    "#Zone 5 Bottom: 5x5\n",
    "func_scatter_plot_zone(zone5AirGas_vars_series,\"Zone5\",\"Bottom\")"
   ]
  },
  {
   "cell_type": "code",
   "execution_count": null,
   "id": "6f5a39e43a4023e6",
   "metadata": {},
   "outputs": [],
   "source": [
    "#Zone 6 Top: 5x5\n",
    "func_scatter_plot_zone(zone6AirGas_vars_series,\"Zone6\",\"Top\")"
   ]
  },
  {
   "cell_type": "code",
   "execution_count": null,
   "id": "c1da529f9033d29e",
   "metadata": {},
   "outputs": [],
   "source": [
    "#Zone 6 Bottom: 5x5\n",
    "func_scatter_plot_zone(zone6AirGas_vars_series,\"Zone6\",\"Bottom\")"
   ]
  },
  {
   "cell_type": "code",
   "execution_count": null,
   "id": "b8387cd4da309675",
   "metadata": {},
   "outputs": [],
   "source": [
    "#Zone 7 Top: 5x5\n",
    "func_scatter_plot_zone(zone7AirGas_vars_series,\"Zone7\",\"Top\")"
   ]
  },
  {
   "cell_type": "code",
   "execution_count": null,
   "id": "b24cf18f91c3f16c",
   "metadata": {},
   "outputs": [],
   "source": [
    "#Zone 7 Bottom: 5x5\n",
    "func_scatter_plot_zone(zone7AirGas_vars_series,\"Zone7\",\"Bottom\")"
   ]
  },
  {
   "cell_type": "code",
   "execution_count": null,
   "id": "6ab8e857c21a50c",
   "metadata": {},
   "outputs": [],
   "source": [
    "#Zone 8 Top: 5x5\n",
    "func_scatter_plot_zone(zone8AirGas_vars_series,\"Zone8\",\"Top\")"
   ]
  },
  {
   "cell_type": "code",
   "execution_count": null,
   "id": "fe98b92d89e4acc",
   "metadata": {},
   "outputs": [],
   "source": [
    "#Zone 8 Bottom: 5x5\n",
    "func_scatter_plot_zone(zone8AirGas_vars_series,\"Zone8\",\"Bottom\")"
   ]
  },
  {
   "cell_type": "code",
   "execution_count": null,
   "id": "ff872d02-db43-4edf-a200-4b0258f32187",
   "metadata": {},
   "outputs": [],
   "source": []
  },
  {
   "cell_type": "markdown",
   "id": "2a0f00c8-a23b-496b-a3e3-0484c9cd06ab",
   "metadata": {},
   "source": [
    "# Observation summary\n",
    "\n",
    "Record high level comments about what you discovered"
   ]
  },
  {
   "cell_type": "code",
   "execution_count": null,
   "id": "53aa364ce4d6f86b",
   "metadata": {},
   "outputs": [],
   "source": []
  }
 ],
 "metadata": {
  "kernelspec": {
   "display_name": "Python 3.10 (my_jupyterlab_env)",
   "language": "python",
   "name": "my_jupyterlab_env"
  },
  "language_info": {
   "codemirror_mode": {
    "name": "ipython",
    "version": 3
   },
   "file_extension": ".py",
   "mimetype": "text/x-python",
   "name": "python",
   "nbconvert_exporter": "python",
   "pygments_lexer": "ipython3",
   "version": "3.10.0"
  }
 },
 "nbformat": 4,
 "nbformat_minor": 5
}
