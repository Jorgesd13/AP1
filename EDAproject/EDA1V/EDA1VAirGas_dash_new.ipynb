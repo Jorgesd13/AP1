{
 "cells": [
  {
   "cell_type": "code",
   "execution_count": null,
   "id": "f183c766-f43b-448b-bad9-50bdd17f636e",
   "metadata": {},
   "outputs": [],
   "source": [
    "import seaborn as sns\n",
    "import pandas as pd\n",
    "import numpy as np\n",
    "import matplotlib.pyplot as plt\n",
    "from sklearn.metrics import mean_squared_error, r2_score\n",
    "from sklearn.linear_model import LinearRegression\n",
    "from matplotlib.ticker import PercentFormatter\n",
    "from scipy import stats as st\n",
    "from scipy.stats import norm, beta\n",
    "# !pip install --no-input kaleido==0.2.1\n",
    "import kaleido #0.2.1\n",
    "# !pip uninstall --no-input plotly\n",
    "# !pip install --no-input plotly==5.5.0\n",
    "import plotly\n",
    "import plotly.io as pio #plotly 5.5.0\n",
    "import plotly.graph_objects as go\n",
    "import plotly_express as px\n",
    "from plotly.subplots import make_subplots\n",
    "import gc\n",
    "import asyncio\n",
    "from async_timeout import timeout\n",
    "#from asgiref.sync import sync_to_async\n",
    "import time,datetime\n",
    "import signal"
   ]
  },
  {
   "cell_type": "code",
   "execution_count": null,
   "id": "1d07cdb9-895c-48d9-b2e4-119391fe89c7",
   "metadata": {},
   "outputs": [],
   "source": [
    "%run ./EDA1V_new.ipynb\n",
    ";"
   ]
  },
  {
   "cell_type": "markdown",
   "id": "2dc01853-e884-456d-974b-e1acf3c20317",
   "metadata": {},
   "source": [
    "## Continuous numeric features"
   ]
  },
  {
   "cell_type": "code",
   "execution_count": null,
   "id": "13b9b569-e09f-4264-b395-011e15223c6c",
   "metadata": {},
   "outputs": [],
   "source": [
    "# Numeric variable .description() check\n",
    "# \n",
    "# min/max vs quantiles, mean, and standard deviation – looking for outliers/sensible results\n",
    "# \n",
    "# Distribution plot examination\n",
    "# \n",
    "# can use .hist() command or a more customized subplot group or for-each loop to plot a seperate histogram of each variable"
   ]
  },
  {
   "cell_type": "code",
   "execution_count": null,
   "id": "ae7777a2-0c8c-4d70-980f-dd3972cd3cc3",
   "metadata": {},
   "outputs": [],
   "source": [
    "#Numeric vars\n",
    "numerical_var_series=dfXY[dfXY.columns[dfXY.dtypes == np.float64]].columns#.to_list()#[0:5]\n",
    "print(type(numerical_var_series))\n",
    "print(len(numerical_var_series))\n",
    "numerical_var_series"
   ]
  },
  {
   "cell_type": "code",
   "execution_count": null,
   "id": "93f75a0ea96d9ff3",
   "metadata": {},
   "outputs": [],
   "source": [
    "#Create the different groups of columns to plot\n",
    "proceso_vars_series=dfXY[numerical_var_series[(~numerical_var_series.str.contains(\"AP1_Furnace\",regex=False)) & (~numerical_var_series.str.contains(\"pyro2\",regex=False))]].columns#.head(1)\n",
    "zoneTemp_vars_series=dfXY[numerical_var_series[numerical_var_series.str.contains(\".*Zone.*Temp.*\",regex=True)]].columns#.head(1)\n",
    "\n",
    "zoneAirGas_vars_series=dfXY[numerical_var_series[numerical_var_series.str.contains(\".*Zone.*Air.*|.*Zone.*Gas.*\",regex=True)]].columns#.head(1)\n",
    "\n",
    "recuperator_vars_series=dfXY[numerical_var_series[numerical_var_series.str.contains(\"AP1_Furnace.*Dilution|Recuperator|RWP|Combustion.*\",regex=True)]].columns#.head(1)\n",
    "\n",
    "pyro_vars_series=dfXY[numerical_var_series[numerical_var_series.str.contains(\".*pyro.*|.*Pyro.*\",regex=True)]].columns#.head(1)\n",
    "\n",
    "rest_vars_series=dfXY[[var for var in numerical_var_series.to_list() if var not in proceso_vars_series.to_list() and var not in zoneTemp_vars_series.to_list() and var not in zoneAirGas_vars_series.to_list() and var not in recuperator_vars_series.to_list() and var not in pyro_vars_series.to_list()]].columns#.head(1)"
   ]
  },
  {
   "cell_type": "code",
   "execution_count": null,
   "id": "483a1cf1b68c86ab",
   "metadata": {},
   "outputs": [],
   "source": [
    "#Show groups of vars\n",
    "#dfXY[dfXY.columns[dfXY.dtypes == np.float64]].hist(figsize=(20,10))#Too many vars: 175\n",
    "print(\"There are {} numerical vars\".format(dfXY[dfXY.columns[dfXY.dtypes == np.float64]].shape))\n",
    "print(\"There are {} numerical vars of tbl proceso\".format(len(proceso_vars_series)))\n",
    "print(\"There are {} numerical vars of zone temp\".format(len(zoneTemp_vars_series)))\n",
    "print(\"There are {} numerical vars of zone air/gas flow\".format(len(zoneAirGas_vars_series)))\n",
    "print(\"There are {} numerical vars of recuperator\".format(len(recuperator_vars_series)))\n",
    "print(\"There are {} numerical vars of pyro\".format(len(pyro_vars_series)))\n",
    "print(\"The rest of numerical vars of furnace are {} \".format(len(rest_vars_series)))\n",
    "\n",
    "if dfXY[dfXY.columns[dfXY.dtypes == np.float64]].shape[1]==len(proceso_vars_series)+len(zoneTemp_vars_series)+len(zoneAirGas_vars_series)+len(recuperator_vars_series)+len(pyro_vars_series)+len(rest_vars_series):\n",
    "    print(\"All groups sum total length\")"
   ]
  },
  {
   "cell_type": "markdown",
   "id": "d9f6afe049dfdafc",
   "metadata": {
    "collapsed": false,
    "jupyter": {
     "outputs_hidden": false
    }
   },
   "source": [
    "### Plot zone air/gas flow: 126 vars\n"
   ]
  },
  {
   "cell_type": "code",
   "execution_count": null,
   "id": "a97dc98a1282b728",
   "metadata": {},
   "outputs": [],
   "source": [
    "#Zone2 air SP are scaled with outdated scale, rescale:outdated scale: 47565 SCFH->updated scale: 59655 SCFH\n",
    "dfXY.loc[:,zoneAirGas_vars_series[zoneAirGas_vars_series.str.contains(\".*Zone2.*AirFlowSet[Pp]oint.*\",regex=True)]]=dfXY.loc[:,zoneAirGas_vars_series[zoneAirGas_vars_series.str.contains(\".*Zone2.*AirFlowSet[Pp]oint.*\",regex=True)]]*47565/59655"
   ]
  },
  {
   "cell_type": "markdown",
   "id": "938284b1f35a26f8",
   "metadata": {
    "collapsed": false,
    "jupyter": {
     "outputs_hidden": false
    }
   },
   "source": [
    "##### $Create$ $Gas$ $SP$ $vars$:"
   ]
  },
  {
   "cell_type": "code",
   "execution_count": null,
   "id": "70d89e686401c676",
   "metadata": {},
   "outputs": [],
   "source": [
    "dfRatioSP=dfXY[zoneAirGas_vars_series[zoneAirGas_vars_series.str.contains(\".*RatioSP.*|.*RatioSet[Pp]oint.*\",regex=True)]]#.reset_index(drop=True)\n",
    "dfRatioSP.columns = range(dfRatioSP.columns.size)\n",
    "dfAirFlowSP=dfXY[zoneAirGas_vars_series[zoneAirGas_vars_series.str.contains(\".*AirFlowSP.*|.*AirFlowSet[Pp]oint.*\",regex=True)]]#.reset_index(drop=True)\n",
    "dfAirFlowSP.columns = range(dfAirFlowSP.columns.size)\n",
    "dfGasFlowSP = dfAirFlowSP/dfRatioSP\n",
    "dfGasFlowSP.columns = ['AP1_FurnaceZone0BottomGasFlowSP', 'AP1_FurnaceZone0TopGasFlowSP', 'AP1_FurnaceZone1BottomGasFlowSP', 'AP1_FurnaceZone1TopGasFlowSP', 'AP1_FurnaceZone2BottomGasFlowSP', 'AP1_FurnaceZone2TopGasFlowSP', 'AP1_FurnaceZone3BottomGasFlowSP', 'AP1_FurnaceZone3TopGasFlowSP', 'AP1_FurnaceZone4BottomGasFlowSP', 'AP1_FurnaceZone4TopGasFlowSP', 'AP1_FurnaceZone5BottomGasFlowSP', 'AP1_FurnaceZone5TopGasFlowSP', 'AP1_FurnaceZone6BottomGasFlowSP', 'AP1_FurnaceZone6TopGasFlowSP', 'AP1_FurnaceZone7BottomGasFlowSP', 'AP1_FurnaceZone7TopGasFlowSP', 'AP1_FurnaceZone8BottomGasFlowSP', 'AP1_FurnaceZone8TopGasFlowSP']\n",
    "dfGasFlowSP.describe()"
   ]
  },
  {
   "cell_type": "markdown",
   "id": "5f006d7cd8e898d0",
   "metadata": {
    "collapsed": false,
    "jupyter": {
     "outputs_hidden": false
    }
   },
   "source": [
    "##### $Create$ $Error$ $df$"
   ]
  },
  {
   "cell_type": "code",
   "execution_count": null,
   "id": "a9e27cd21549f02a",
   "metadata": {},
   "outputs": [],
   "source": [
    "dfAirFlowFdbk=dfXY[zoneAirGas_vars_series[zoneAirGas_vars_series.str.contains(\".*Zone.*Air.*Feedback.*|.*Zone.*Air.*Fdbk.*\",regex=True)]]\n",
    "dfAirFlowFdbk.head()\n",
    "dfAirFlowFdbk.columns = range(dfAirFlowFdbk.columns.size)\n",
    "\n",
    "dfGasFlowFdbk=dfXY[zoneAirGas_vars_series[zoneAirGas_vars_series.str.contains(\".*Zone.*Gas.*Feedback.*|.*Zone.*Gas.*Fdbk.*\",regex=True)]]\n",
    "dfGasFlowFdbk.head()\n",
    "dfGasFlowFdbk.columns = range(dfGasFlowFdbk.columns.size)\n",
    "\n",
    "dfAirFlowSP.head()\n",
    "\n",
    "dfGasFlowSP.head()\n",
    "dfGasFlowSP.columns = range(dfGasFlowSP.columns.size)\n",
    "\n",
    "dfFlowsErr = pd.merge(left=dfGasFlowFdbk-dfGasFlowSP,right=dfAirFlowFdbk-dfAirFlowSP,left_index=True,right_index=True,how='inner')\n",
    "dfFlowsErr.columns = ['AP1_FurnaceZone0BottomGasFlowErr', 'AP1_FurnaceZone0TopGasFlowErr', 'AP1_FurnaceZone1BottomGasFlowErr', 'AP1_FurnaceZone1TopGasFlowErr', 'AP1_FurnaceZone2BottomGasFlowErr', 'AP1_FurnaceZone2TopGasFlowErr', 'AP1_FurnaceZone3BottomGasFlowErr', 'AP1_FurnaceZone3TopGasFlowErr', 'AP1_FurnaceZone4BottomGasFlowErr', 'AP1_FurnaceZone4TopGasFlowErr', 'AP1_FurnaceZone5BottomGasFlowErr', 'AP1_FurnaceZone5TopGasFlowErr', 'AP1_FurnaceZone6BottomGasFlowErr', 'AP1_FurnaceZone6TopGasFlowErr', 'AP1_FurnaceZone7BottomGasFlowErr', 'AP1_FurnaceZone7TopGasFlowErr', 'AP1_FurnaceZone8BottomGasFlowErr', 'AP1_FurnaceZone8TopGasFlowErr','AP1_FurnaceZone0BottomAirFlowErr', 'AP1_FurnaceZone0TopAirFlowErr', 'AP1_FurnaceZone1BottomAirFlowErr', 'AP1_FurnaceZone1TopAirFlowErr', 'AP1_FurnaceZone2BottomAirFlowErr', 'AP1_FurnaceZone2TopAirFlowErr', 'AP1_FurnaceZone3BottomAirFlowErr', 'AP1_FurnaceZone3TopAirFlowErr', 'AP1_FurnaceZone4BottomAirFlowErr', 'AP1_FurnaceZone4TopAirFlowErr', 'AP1_FurnaceZone5BottomAirFlowErr', 'AP1_FurnaceZone5TopAirFlowErr', 'AP1_FurnaceZone6BottomAirFlowErr', 'AP1_FurnaceZone6TopAirFlowErr', 'AP1_FurnaceZone7BottomAirFlowErr', 'AP1_FurnaceZone7TopAirFlowErr', 'AP1_FurnaceZone8BottomAirFlowErr', 'AP1_FurnaceZone8TopAirFlowErr']\n",
    "dfFlowsErr.head()\n",
    "dfFlowsErr.describe()"
   ]
  },
  {
   "cell_type": "markdown",
   "id": "1411df6379dfeaeb",
   "metadata": {
    "collapsed": false,
    "jupyter": {
     "outputs_hidden": false
    }
   },
   "source": [
    "###### $Scatter$ $Plots$"
   ]
  },
  {
   "cell_type": "code",
   "execution_count": null,
   "id": "26095f8a1d4ce2d0",
   "metadata": {},
   "outputs": [],
   "source": [
    "#Define function plot scatters zones\n",
    "def func_scatter_plot_zone(zoneXAirGas_vars_series:pd.Series,ZoneXfig:str,TopBottom: str):\n",
    "    \n",
    "    dfZoneXScatter = dfXY[zoneXAirGas_vars_series[zoneXAirGas_vars_series.str.contains(str(TopBottom),regex=False) & ~zoneXAirGas_vars_series.str.contains(\"Ratio\",regex=False)].tolist()+[\"SteelFamCluster\"]]\n",
    "    var_list = dfZoneXScatter.columns.to_list()[:-1]\n",
    "    \n",
    "    fig,axes = plt.subplots(5,5,figsize=(30,35))\n",
    "    fig.suptitle(f\"ScatterPlot of numerical {ZoneXfig+TopBottom} Air/Gas Flow variables\",fontsize=30,va='top',y=1)\n",
    "    \n",
    "    for r in range(len(var_list)):\n",
    "        for c in range(len(var_list)):\n",
    "            if r==c:\n",
    "                sns.histplot(dfZoneXScatter,x=var_list[r],ax=axes[r,c],kde=True,color=\"fuchsia\",hue='SteelFamCluster')#data=pd.merge(left=dfZone8Scatter,right=pd.DataFrame(SteelFamCluster,index=dfXY.index,columns=['SteelFamCluster']),how='inner',right_index=True,left_index=True)\n",
    "                axes[r,c].set_title(label=var_list[r],loc='center',pad=10,fontsize='large')\n",
    "                axes[r,c].set_xlabel(xlabel=\"\",labelpad=0)\n",
    "                axes[r,c].set_ylabel(ylabel=\"\",labelpad=0)\n",
    "                axes[r,c].tick_params(axis='x', labelsize=15)\n",
    "                axes[r,c].tick_params(axis='y', labelsize=15)\n",
    "            if r>c:\n",
    "                sns.scatterplot(dfZoneXScatter,x=var_list[c],y=var_list[r],ax=axes[r,c],hue='SteelFamCluster')#,size=20\n",
    "                sns.regplot(data=dfZoneXScatter,x=var_list[c],y=var_list[r],ax=axes[r,c],color='darkorange',line_kws={'lw':0.8,'color':'olive'},order=1,scatter=False)#,marker='x',scatter_kws={'s':20}\n",
    "                axes[r,c].set_title(label='ScatterPlot',loc='center',pad=10,fontsize='x-large')\n",
    "                axes[r,c].set_xlabel(xlabel=var_list[c],labelpad=5,fontsize='large')\n",
    "                axes[r,c].set_ylabel(ylabel=var_list[r],labelpad=10,fontsize='large')\n",
    "                axes[r,c].legend(['r\\u00b2={:.2f}, p={:.2E}'.format(st.pearsonr(dfZoneXScatter[var_list[c]],dfZoneXScatter[var_list[r]])[0]**2,st.pearsonr(dfZoneXScatter[var_list[c]],dfZoneXScatter[var_list[r]])[1])],fontsize='large')\n",
    "                axes[r,c].tick_params(axis='x', labelsize=15)\n",
    "                axes[r,c].tick_params(axis='y', labelsize=15)\n",
    "            if r<c:\n",
    "                x=dfZoneXScatter[var_list[c]].to_numpy()\n",
    "                y= dfZoneXScatter[var_list[r]].to_numpy()\n",
    "                y_pred = LinearRegression().fit(x.reshape(-1,1),y.reshape(-1,1)).predict(x.reshape(-1,1))\n",
    "                y_pred=y_pred[:,0]\n",
    "                data=pd.merge(left=pd.DataFrame({\"x\":x,\"res\":y-y_pred}),right=pd.DataFrame(dfXY[[\"SteelFamCluster\"]].reset_index(drop=True),columns=['SteelFamCluster']),how='inner',right_index=True,left_index=True)#\"x\":np.linspace(0,100,num=len(y))\n",
    "                sns.scatterplot(data=data,x='x',y='res',hue='SteelFamCluster',ax=axes[r,c],marker=\"o\")#,size=20,style='clustersGMM'\n",
    "                axes[r,c].axhline(c='g',lw=0.8)\n",
    "                #sns.residplot(data=dfZone0Scatter,x=var_list[c],y=var_list[r],ax=axes[r,c],order=1,color='darkolivegreen',scatter_kws={'s':20,'marker':'x'})\n",
    "                axes[r,c].set_title(label='Residuals',loc='center',pad=10,fontsize='x-large')\n",
    "                axes[r,c].set_xlabel(xlabel=var_list[c],labelpad=5,fontsize='large')\n",
    "                axes[r,c].set_ylabel(ylabel=var_list[r],labelpad=10,fontsize='large')\n",
    "                axes[r,c].tick_params(axis='x', labelsize=15)\n",
    "                axes[r,c].tick_params(axis='y', labelsize=15)\n",
    "    \n",
    "    #Make space between subplots\n",
    "    fig.tight_layout(pad=3)\n",
    "    \n",
    "    plt.savefig(r\"C:\\Users\\js5296\\Desktop\\NAS\\Projects\\AP1_Furnace_Control\\EDAs\\new\\1V\\ScatterPlots\\newAirGasScatterPlot{}.png\".format(str(ZoneXfig)+str(TopBottom)))\n",
    "    #plt.savefig(\"/doc/NB_dir/js5296/AP1/EDA1V/img/eda1v/AirGasScatterPlot{}.png\".format(str(ZoneXfig)+str(TopBottom)))\n",
    "    # #Print correlation matrix\n",
    "    # fig2,axes2 = plt.subplots(figsize=(6,4))\n",
    "    # fig2.suptitle(\"Correlation Matrix of numerical Zone0 Top Air/Gas Flow variables\",fontsize=15,va='top',y=0.97)\n",
    "    # sns.set_context('paper', font_scale=1.4)\n",
    "    # dfZone0Scatter_mx = dfZone0Scatter.corr()\n",
    "    # mask = np.zeros_like(dfZone0Scatter_mx, dtype=bool)\n",
    "    # mask[np.triu_indices_from(mask)] = True\n",
    "    # sns.heatmap(dfZone0Scatter_mx, annot=True,mask=mask,cmap='Greens',square=True,ax=axes2)#cmap = sns.diverging_palette(220, 10, as_cmap=True)"
   ]
  },
  {
   "cell_type": "code",
   "execution_count": null,
   "id": "6833d905-ccbb-4817-b91f-34e3a26afebd",
   "metadata": {},
   "outputs": [],
   "source": [
    "#Define function plot downsample scatters zones\n",
    "def func_downsample_scatter_plot_zone(zoneXAirGas_vars_series:pd.Series,ZoneXfig:str,TopBottom:str,DownSample:str=\"rnd\"):\n",
    "    dfZoneXScatter = dfXY[zoneXAirGas_vars_series[zoneXAirGas_vars_series.str.contains(str(TopBottom),regex=False) & ~zoneXAirGas_vars_series.str.contains(\"Ratio\",regex=False)].tolist()+[\"SteelFamCluster\"]]\n",
    "    if DownSample==\"rnd\":\n",
    "        dfZoneXScatter=dfZoneXScatter.sample(n=2000,replace=False,random_state=1,axis=0)\n",
    "    else:#evenly downsample\n",
    "        dfZoneXScatter=dfZoneXScatter.iloc[[int(x) for x in list(np.round(np.linspace(0,dfZoneXScatter.shape[0]-1,2000),0))],:]#Downsample evenly\n",
    "    var_list = dfZoneXScatter.columns.to_list()[:-1]\n",
    "    \n",
    "    fig,axes = plt.subplots(5,5,figsize=(30,35))\n",
    "    fig.suptitle(f\"DownSample ScatterPlot of numerical {ZoneXfig+TopBottom} Air/Gas Flow variables\",fontsize=30,va='top',y=1)\n",
    "    \n",
    "    for r in range(len(var_list)):\n",
    "        for c in range(len(var_list)):\n",
    "            if r==c:\n",
    "                sns.histplot(dfZoneXScatter,x=var_list[r],ax=axes[r,c],kde=True,color=\"fuchsia\",hue='SteelFamCluster')#data=pd.merge(left=dfZone8Scatter,right=pd.DataFrame(SteelFamCluster,index=dfXY.index,columns=['SteelFamCluster']),how='inner',right_index=True,left_index=True)\n",
    "                axes[r,c].set_title(label=var_list[r],loc='center',pad=10,fontsize='large')\n",
    "                axes[r,c].set_xlabel(xlabel=\"\",labelpad=0)\n",
    "                axes[r,c].set_ylabel(ylabel=\"\",labelpad=0)\n",
    "                axes[r,c].tick_params(axis='x', labelsize=15)\n",
    "                axes[r,c].tick_params(axis='y', labelsize=15)\n",
    "            if r>c:\n",
    "                sns.scatterplot(dfZoneXScatter,x=var_list[c],y=var_list[r],ax=axes[r,c],hue='SteelFamCluster')#,size=20\n",
    "                sns.regplot(data=dfZoneXScatter,x=var_list[c],y=var_list[r],ax=axes[r,c],color='darkorange',line_kws={'lw':0.8,'color':'olive'},order=1,scatter=False)#,marker='x',scatter_kws={'s':20}\n",
    "                axes[r,c].set_title(label='ScatterPlot',loc='center',pad=10,fontsize='x-large')\n",
    "                axes[r,c].set_xlabel(xlabel=var_list[c],labelpad=5,fontsize='large')\n",
    "                axes[r,c].set_ylabel(ylabel=var_list[r],labelpad=10,fontsize='large')\n",
    "                axes[r,c].legend(['r\\u00b2={:.2f}, p={:.2E}'.format(st.pearsonr(dfZoneXScatter[var_list[c]],dfZoneXScatter[var_list[r]])[0]**2,st.pearsonr(dfZoneXScatter[var_list[c]],dfZoneXScatter[var_list[r]])[1])],fontsize='large')\n",
    "                axes[r,c].tick_params(axis='x', labelsize=15)\n",
    "                axes[r,c].tick_params(axis='y', labelsize=15)\n",
    "            if r<c:\n",
    "                x=dfZoneXScatter[var_list[c]].to_numpy()\n",
    "                y= dfZoneXScatter[var_list[r]].to_numpy()\n",
    "                y_pred = LinearRegression().fit(x.reshape(-1,1),y.reshape(-1,1)).predict(x.reshape(-1,1))\n",
    "                y_pred=y_pred[:,0]\n",
    "                data=pd.merge(left=pd.DataFrame({\"x\":x,\"res\":y-y_pred}),right=pd.DataFrame(dfXY[[\"SteelFamCluster\"]].reset_index(drop=True),columns=['SteelFamCluster']),how='inner',right_index=True,left_index=True)#\"x\":np.linspace(0,100,num=len(y))\n",
    "                sns.scatterplot(data=data,x='x',y='res',hue='SteelFamCluster',ax=axes[r,c],marker=\"o\")#,size=20,style='clustersGMM'\n",
    "                axes[r,c].axhline(c='g',lw=0.8)\n",
    "                #sns.residplot(data=dfZone0Scatter,x=var_list[c],y=var_list[r],ax=axes[r,c],order=1,color='darkolivegreen',scatter_kws={'s':20,'marker':'x'})\n",
    "                axes[r,c].set_title(label='Residuals',loc='center',pad=10,fontsize='x-large')\n",
    "                axes[r,c].set_xlabel(xlabel=var_list[c],labelpad=5,fontsize='large')\n",
    "                axes[r,c].set_ylabel(ylabel=var_list[r],labelpad=10,fontsize='large')\n",
    "                axes[r,c].tick_params(axis='x', labelsize=15)\n",
    "                axes[r,c].tick_params(axis='y', labelsize=15)\n",
    "    \n",
    "    #Make space between subplots\n",
    "    fig.tight_layout(pad=3)\n",
    "    \n",
    "    plt.savefig(r\"C:\\Users\\js5296\\Desktop\\NAS\\Projects\\AP1_Furnace_Control\\EDAs\\new\\1V\\ScatterPlots\\newDownSampleAirGasScatterPlot{}.png\".format(str(ZoneXfig)+str(TopBottom)))\n",
    "    #plt.savefig(\"/doc/NB_dir/js5296/AP1/EDA1V/img/eda1v/AirGasScatterPlot{}.png\".format(str(ZoneXfig)+str(TopBottom)))\n",
    "    # #Print correlation matrix\n",
    "    # fig2,axes2 = plt.subplots(figsize=(6,4))\n",
    "    # fig2.suptitle(\"Correlation Matrix of numerical Zone0 Top Air/Gas Flow variables\",fontsize=15,va='top',y=0.97)\n",
    "    # sns.set_context('paper', font_scale=1.4)\n",
    "    # dfZone0Scatter_mx = dfZone0Scatter.corr()\n",
    "    # mask = np.zeros_like(dfZone0Scatter_mx, dtype=bool)\n",
    "    # mask[np.triu_indices_from(mask)] = True\n",
    "    # sns.heatmap(dfZone0Scatter_mx, annot=True,mask=mask,cmap='Greens',square=True,ax=axes2)#cmap = sns.diverging_palette(220, 10, as_cmap=True)"
   ]
  },
  {
   "cell_type": "markdown",
   "id": "a01499f7-454e-4897-8064-a15d13546567",
   "metadata": {
    "ExecuteTime": {
     "end_time": "2024-06-10T17:35:37.182770Z",
     "start_time": "2024-06-10T17:35:36.636834Z"
    }
   },
   "source": [
    "zone0AirGas_vars_series=zoneAirGas_vars_series[zoneAirGas_vars_series.str.contains(\"Zone0\",regex=False)]\n",
    "dfZoneXScatter = dfXY[zone0AirGas_vars_series[zone0AirGas_vars_series.str.contains(str(\"Top\"),regex=False) & ~zone0AirGas_vars_series.str.contains(\"Ratio\",regex=False)].tolist()+[\"SteelFamCluster\"]]\n",
    "var_list = dfZoneXScatter.columns.to_list()[:-1]\n",
    "fig = px.scatter(dfZoneXScatter,x=var_list[0],y=var_list[1],trendline=\"ols\",color=\"SteelFamCluster\",trendline_scope=\"overall\",render_mode=\"webgl\",opacity=1)\n",
    "fig.update_traces(marker=dict(line=dict(width=0.9)))\n",
    "fig.layout\n",
    "#fig.show()\n",
    "#fig.write_image(r\"C:\\Users\\js5296\\Desktop\\NAS\\Projects\\AP1 Furnace Control\\EDAs\\old\\1V\\Dash\\trial.webp\",engine=\"kaleido\")\n",
    "#fig.write_image(\"/doc/NB_dir/js5296/AP1/trial.webp\",engine=\"kaleido\")\n",
    "#fig.write_image(\"trial.webp\",engine=\"kaleido\")\n",
    "#pio.write_image(fig,\"/doc/NB_dir/js5296/AP1/trial.webp\",engine=\"kaleido\")"
   ]
  },
  {
   "cell_type": "code",
   "execution_count": null,
   "id": "93be351d-141c-4cfe-8556-8fecd349fdbd",
   "metadata": {},
   "outputs": [],
   "source": [
    "gasFdbk_vars_series=zoneAirGas_vars_series[zoneAirGas_vars_series.str.contains(\".*GasFlowF.*db.*k.*\",regex=True)]\n",
    "gasFdbk_vars_series.name=\"gasFdbk_vars_series\"\n",
    "airFdbk_vars_series=zoneAirGas_vars_series[zoneAirGas_vars_series.str.contains(\".*AirFlowF.*db.*k.*\",regex=True)]\n",
    "airFdbk_vars_series.name=\"airFdbk_vars_series\"\n",
    "airSP_vars_series=zoneAirGas_vars_series[zoneAirGas_vars_series.str.contains(\".*AirFlow[Ss]{1}.*[Pp]{1}.*\",regex=True)]\n",
    "airSP_vars_series.name=\"airSP_vars_series\"\n",
    "gasCV_vars_series=zoneAirGas_vars_series[zoneAirGas_vars_series.str.contains(\".*GasFlowC.*V.*\",regex=True)]\n",
    "gasCV_vars_series.name=\"gasCV_vars_series\"\n",
    "airCV_vars_series=zoneAirGas_vars_series[zoneAirGas_vars_series.str.contains(\".*AirFlowC.*V.*\",regex=True)]\n",
    "airCV_vars_series.name=\"airCV_vars_series\""
   ]
  },
  {
   "cell_type": "code",
   "execution_count": null,
   "id": "121cfa62-cf07-421b-aa84-73278ef27260",
   "metadata": {},
   "outputs": [],
   "source": [
    "gasFdbk_vars_series"
   ]
  },
  {
   "cell_type": "code",
   "execution_count": null,
   "id": "48c5f392-eafe-4aec-b610-364f8a0b5b5f",
   "metadata": {},
   "outputs": [],
   "source": [
    "#Define function plot scatters plotly\n",
    "def func_scatter_plotly_AirGas(xlist_series:pd.Series,ylist_series:pd.Series):\n",
    "    ncol=9\n",
    "    nrow=2\n",
    "    var=0\n",
    "    subtitles_list=[]\n",
    "    for i in range(2):#Bottom/Top\n",
    "        for j in range(9):#9zones\n",
    "            if i==0:\n",
    "                subtitles_list.append(f\"Zone{j} Top\")\n",
    "            else:\n",
    "                subtitles_list.append(f\"Zone{j} Bottom\")\n",
    "            \n",
    "    fig = make_subplots(rows=nrow,cols=ncol,subplot_titles=subtitles_list,vertical_spacing=0.1)#vertical_spacing(0-1)\n",
    "\n",
    "    for r in range(1,nrow+1):\n",
    "        if r==1:\n",
    "            var=1\n",
    "        else:\n",
    "            var=0\n",
    "        for c in range(1,ncol+1):\n",
    "            #Create x,y,yhat\n",
    "            x=np.asarray(dfXY[xlist_series[var]]).reshape(-1,1)\n",
    "            y= np.asarray(dfXY[ylist_series[var]])\n",
    "            y_pred = LinearRegression().fit(x,y).predict(x)\n",
    "            x=x[:,0]\n",
    "            #plot Scatters\n",
    "            if (r==1) & (c==1):\n",
    "                fig.add_trace(go.Scatter(x=dfXY[dfXY.SteelFamCluster==\"HighGoal\"][xlist_series[var]], \n",
    "                        y=dfXY[dfXY.SteelFamCluster==\"HighGoal\"][ylist_series[var]], \n",
    "                        mode='markers', \n",
    "                        #zorder=3,\n",
    "                         name=\"HighGoal\",\n",
    "                         legendgroup=\"group1\",\n",
    "                         marker=dict(color=\"blue\",line_width=0.6)\n",
    "                        #,marker=dict(color=dfZoneXScatter.SteelFamCluster.map({\"HighGoal\":\"blue\",\"LowGoal\":\"green\"}),line_width=0.6)\n",
    "                            ),row=r,col=c)\n",
    "                fig.add_trace(go.Scatter(x=dfXY[dfXY.SteelFamCluster==\"LowGoal\"][xlist_series[var]], \n",
    "                        y=dfXY[dfXY.SteelFamCluster==\"LowGoal\"][ylist_series[var]], \n",
    "                        mode='markers', \n",
    "                        #zorder=3,\n",
    "                         name=\"LowGoal\",\n",
    "                         legendgroup=\"group2\",\n",
    "                         marker=dict(color=\"green\",line_width=0.6)\n",
    "                        #,marker=dict(color=dfZoneXScatter.SteelFamCluster.map({\"HighGoal\":\"blue\",\"LowGoal\":\"green\"}),line_width=0.6)\n",
    "                            ),row=r,col=c)\n",
    "            else:\n",
    "                fig.add_trace(go.Scatter(x=dfXY[dfXY.SteelFamCluster==\"HighGoal\"][xlist_series[var]], \n",
    "                        y=dfXY[dfXY.SteelFamCluster==\"HighGoal\"][ylist_series[var]], \n",
    "                        mode='markers', \n",
    "                         #zorder=3,\n",
    "                         name=\"HighGoal\",\n",
    "                         legendgroup=\"group1\",\n",
    "                         marker=dict(color=\"blue\",line_width=0.6)\n",
    "                        #,marker=dict(color=dfZoneXScatter.SteelFamCluster.map({\"HighGoal\":\"blue\",\"LowGoal\":\"green\"}),line_width=0.6)\n",
    "                            ,showlegend=False),row=r,col=c)\n",
    "                fig.add_trace(go.Scatter(x=dfXY[dfXY.SteelFamCluster==\"LowGoal\"][xlist_series[var]], \n",
    "                        y=dfXY[dfXY.SteelFamCluster==\"LowGoal\"][ylist_series[var]], \n",
    "                        mode='markers', \n",
    "                        #zorder=3,\n",
    "                         name=\"LowGoal\",\n",
    "                         legendgroup=\"group2\",\n",
    "                         marker=dict(color=\"green\",line_width=0.6)\n",
    "                        #,marker=dict(color=dfZoneXScatter.SteelFamCluster.map({\"HighGoal\":\"blue\",\"LowGoal\":\"green\"}),line_width=0.6)\n",
    "                            ,showlegend=False),row=r,col=c)\n",
    "    \n",
    "            #plot regression line\n",
    "            fig.add_trace(go.Scatter(x=x, \n",
    "                    y=y_pred, \n",
    "                    mode='lines', \n",
    "                    #zorder=4,\n",
    "                    #name='2',\n",
    "                    line=dict(width=1.5,color=\"orange\"),\n",
    "                    showlegend=False),row=r,col=c)\n",
    "            #plot regression data\n",
    "            fig.add_annotation(x=dfXY[xlist_series[var]].min(), y=dfXY[ylist_series[var]].max()+10,\n",
    "                    #text=\"r\\u00b2={:.2f}, p={:.2E}\".format(st.pearsonr(x,y)[0]**2,st.pearsonr(x,y)[1]),\n",
    "                   text=\"r\\u00b2={:.2f}\".format(st.pearsonr(x,y)[0]**2),\n",
    "                   #hovertext=\"pepe\",\n",
    "                   align='center',\n",
    "                   showarrow=False,\n",
    "                   xanchor='left',\n",
    "                   yanchor='bottom',\n",
    "                   #clicktoshow=\"onout\",\n",
    "                   #captureevents=True,\n",
    "                   #xref='x2',\n",
    "                   #yref='y2',\n",
    "                   row=r,\n",
    "                   col=c,\n",
    "                  bordercolor='black',\n",
    "                  borderpad=4,\n",
    "                   borderwidth=2,\n",
    "                  bgcolor='white',\n",
    "                  font=dict(color='black'))\n",
    "            #Add xaxis labels\n",
    "            #fig.update_xaxes(title_text=xlist_series[var], row=r, col=c)#range=[40, 80],showgrid=False,type=\"log\",\n",
    "            #Add yaxis labels\n",
    "            #fig.update_yaxes(title_text=ylist_series[var], row=r, col=c)\n",
    "            #update var to plot\n",
    "            var+=2\n",
    "\n",
    "\n",
    "\n",
    "            \n",
    "    #Add title and size and show img\n",
    "    fig.update_layout(height=900, width=1850,title_text=f'x={xlist_series.name} vs y={ylist_series.name} across all zones', showlegend=True,title_x=0.5)#height=500*9, width=1000, #, legend=dict(yanchor=\"top\",y=0.99,xanchor=\"left\",x=0.01)\n",
    "    #fig.show()\n",
    "    if not os.path.exists(r\"C:\\Users\\js5296\\Desktop\\NAS\\Projects\\AP1_Furnace_Control\\EDAs\\new\\1V\\Dash\"):\n",
    "        os.mkdir(r\"C:\\Users\\js5296\\Desktop\\NAS\\Projects\\AP1_Furnace_Control\\EDAs\\new\\1V\\Dash\")\n",
    "    fig.write_html(\"C:\\\\Users\\\\js5296\\\\Desktop\\\\NAS\\\\Projects\\\\AP1_Furnace_Control\\\\EDAs\\\\new\\\\1V\\\\Dash\\\\new_{}_vs_{}.html\".format(ylist_series.name,xlist_series.name))\n",
    "    #fig.write_image(\"C:\\\\Users\\\\js5296\\\\Desktop\\\\NAS\\\\Projects\\\\AP1_Furnace_Control\\\\EDAs\\\\old\\\\1V\\\\Dash\\\\{}_vs_{}.webp\".format(ylist_series.name,xlist_series.name))\n",
    "    # fig.write_html(\"/doc/NB_dir/js5296/AP1/EDA1V/img/{}_vs_{}.html\".format(ylist_series.name,xlist_series.name))\n",
    "    # fig.write_image(\"/doc/NB_dir/js5296/AP1/EDA1V/img/{}_vs_{}.webp\".format(ylist_series.name,xlist_series.name))\n",
    "    del fig\n",
    "    gc.collect()\n",
    "    #return fig.layout"
   ]
  },
  {
   "cell_type": "markdown",
   "id": "4da1e797-99aa-494d-bac0-85dd21c1877f",
   "metadata": {},
   "source": [
    "func_scatter_plotly_AirGas(xlist_series=gasCV_vars_series,ylist_series=gasFdbk_vars_series)"
   ]
  },
  {
   "cell_type": "code",
   "execution_count": null,
   "id": "d764a52d-7d87-44cd-9198-3f2b23aadda7",
   "metadata": {},
   "outputs": [],
   "source": [
    "#Define function plot scatters plotly\n",
    "async  def func_downsample_scatter_plotly_AirGas(xlist_series:pd.Series,ylist_series:pd.Series):#async \n",
    "    dfDown=dfXY.iloc[[int(x) for x in list(np.round(np.linspace(0,dfXY.shape[0]-1,2000),0))],:]#Downsample evenly\n",
    "    ncol=9\n",
    "    nrow=2\n",
    "    var=0\n",
    "    subtitles_list=[]\n",
    "    for i in range(2):#Bottom/Top\n",
    "        for j in range(9):#9zones\n",
    "            if i==0:\n",
    "                subtitles_list.append(f\"Zone{j} Top\")\n",
    "            else:\n",
    "                subtitles_list.append(f\"Zone{j} Bottom\")\n",
    "            \n",
    "    fig = make_subplots(rows=nrow,cols=ncol,subplot_titles=subtitles_list,vertical_spacing=0.1)#vertical_spacing(0-1)\n",
    "\n",
    "    for r in range(1,nrow+1):\n",
    "        if r==1:\n",
    "            var=1\n",
    "        else:\n",
    "            var=0\n",
    "        for c in range(1,ncol+1):\n",
    "            #Create x,y,yhat\n",
    "            x=np.asarray(dfDown[xlist_series[var]]).reshape(-1,1)\n",
    "            y= np.asarray(dfDown[ylist_series[var]])\n",
    "            y_pred = LinearRegression().fit(x,y).predict(x)\n",
    "            x=x[:,0]\n",
    "            #plot Scatters\n",
    "            if (r==1) & (c==1):\n",
    "                fig.add_trace(go.Scatter(x=dfDown[dfDown.SteelFamCluster==\"HighGoal\"][xlist_series[var]], \n",
    "                        y=dfDown[dfDown.SteelFamCluster==\"HighGoal\"][ylist_series[var]], \n",
    "                        mode='markers', \n",
    "                        #zorder=3,\n",
    "                         name=\"HighGoal\",\n",
    "                         legendgroup=\"group1\",\n",
    "                         marker=dict(color=\"blue\",line_width=0.6)\n",
    "                        #,marker=dict(color=dfZoneXScatter.SteelFamCluster.map({\"HighGoal\":\"blue\",\"LowGoal\":\"green\"}),line_width=0.6)\n",
    "                            ),row=r,col=c)\n",
    "                fig.add_trace(go.Scatter(x=dfDown[dfDown.SteelFamCluster==\"LowGoal\"][xlist_series[var]], \n",
    "                        y=dfDown[dfDown.SteelFamCluster==\"LowGoal\"][ylist_series[var]], \n",
    "                        mode='markers', \n",
    "                        #zorder=3,\n",
    "                         name=\"LowGoal\",\n",
    "                         legendgroup=\"group2\",\n",
    "                         marker=dict(color=\"green\",line_width=0.6)\n",
    "                        #,marker=dict(color=dfZoneXScatter.SteelFamCluster.map({\"HighGoal\":\"blue\",\"LowGoal\":\"green\"}),line_width=0.6)\n",
    "                            ),row=r,col=c)\n",
    "            else:\n",
    "                fig.add_trace(go.Scatter(x=dfDown[dfDown.SteelFamCluster==\"HighGoal\"][xlist_series[var]], \n",
    "                        y=dfDown[dfDown.SteelFamCluster==\"HighGoal\"][ylist_series[var]], \n",
    "                        mode='markers', \n",
    "                         #zorder=3,\n",
    "                         name=\"HighGoal\",\n",
    "                         legendgroup=\"group1\",\n",
    "                         marker=dict(color=\"blue\",line_width=0.6)\n",
    "                        #,marker=dict(color=dfZoneXScatter.SteelFamCluster.map({\"HighGoal\":\"blue\",\"LowGoal\":\"green\"}),line_width=0.6)\n",
    "                            ,showlegend=False),row=r,col=c)\n",
    "                fig.add_trace(go.Scatter(x=dfDown[dfDown.SteelFamCluster==\"LowGoal\"][xlist_series[var]], \n",
    "                        y=dfDown[dfDown.SteelFamCluster==\"LowGoal\"][ylist_series[var]], \n",
    "                        mode='markers', \n",
    "                        #zorder=3,\n",
    "                         name=\"LowGoal\",\n",
    "                         legendgroup=\"group2\",\n",
    "                         marker=dict(color=\"green\",line_width=0.6)\n",
    "                        #,marker=dict(color=dfZoneXScatter.SteelFamCluster.map({\"HighGoal\":\"blue\",\"LowGoal\":\"green\"}),line_width=0.6)\n",
    "                            ,showlegend=False),row=r,col=c)\n",
    "    \n",
    "            #plot regression line\n",
    "            fig.add_trace(go.Scatter(x=x, \n",
    "                    y=y_pred, \n",
    "                    mode='lines', \n",
    "                    #zorder=4,\n",
    "                    #name='2',\n",
    "                    line=dict(width=1.5,color=\"orange\"),\n",
    "                    showlegend=False),row=r,col=c)\n",
    "            #plot regression data\n",
    "            fig.add_annotation(x=dfDown[xlist_series[var]].min(), y=dfDown[ylist_series[var]].max()+10,\n",
    "                    #text=\"r\\u00b2={:.2f}, p={:.2E}\".format(st.pearsonr(x,y)[0]**2,st.pearsonr(x,y)[1]),\n",
    "                   text=\"r\\u00b2={:.2f}\".format(st.pearsonr(x,y)[0]**2),\n",
    "                   #hovertext=\"pepe\",\n",
    "                   align='center',\n",
    "                   showarrow=False,\n",
    "                   xanchor='left',\n",
    "                   yanchor='bottom',\n",
    "                   #clicktoshow=\"onout\",\n",
    "                   #captureevents=True,\n",
    "                   #xref='x2',\n",
    "                   #yref='y2',\n",
    "                   row=r,\n",
    "                   col=c,\n",
    "                  bordercolor='black',\n",
    "                  borderpad=4,\n",
    "                   borderwidth=2,\n",
    "                  bgcolor='white',\n",
    "                  font=dict(color='black'))\n",
    "            #Add xaxis labels\n",
    "            #fig.update_xaxes(title_text=xlist_series[var], row=r, col=c)#range=[40, 80],showgrid=False,type=\"log\",\n",
    "            #Add yaxis labels\n",
    "            #fig.update_yaxes(title_text=ylist_series[var], row=r, col=c)\n",
    "            #update var to plot\n",
    "            var+=2\n",
    "\n",
    "\n",
    "\n",
    "            \n",
    "    #Add title and size and show img\n",
    "    fig.update_layout(height=900, width=1850,title_text=f'DownSample x={xlist_series.name} vs y={ylist_series.name} across all zones', showlegend=True,title_x=0.5)#height=500*9, width=1000, #, legend=dict(yanchor=\"top\",y=0.99,xanchor=\"left\",x=0.01)\n",
    "    #fig.show()\n",
    "    if not os.path.exists(r\"C:\\Users\\js5296\\Desktop\\NAS\\Projects\\AP1_Furnace_Control\\EDAs\\new\\1V\\Dash\"):\n",
    "        os.mkdir(r\"C:\\Users\\js5296\\Desktop\\NAS\\Projects\\AP1_Furnace_Control\\EDAs\\new\\1V\\Dash\")\n",
    "    # fig.write_html(\"C:\\\\Users\\\\js5296\\\\Desktop\\\\NAS\\\\Projects\\\\AP1_Furnace_Control\\\\EDAs\\\\old\\\\1V\\\\Dash\\\\DownSample_{}_vs_{}.html\".format(ylist_series.name,xlist_series.name))\n",
    "    # fig.write_image(\"C:\\\\Users\\\\js5296\\\\Desktop\\\\NAS\\\\Projects\\\\AP1_Furnace_Control\\\\EDAs\\\\old\\\\1V\\\\Dash\\\\DownSample_{}_vs_{}.webp\".format(ylist_series.name,xlist_series.name))\n",
    "    print(\"html save\")\n",
    "    fig.write_html(\"DownSample_{}_vs_{}.html\".format(ylist_series.name,xlist_series.name))\n",
    "    fig.write_html(\"C:\\\\Users\\\\js5296\\\\Desktop\\\\NAS\\\\Projects\\\\AP1_Furnace_Control\\\\EDAs\\\\new\\\\1V\\\\Dash\\\\newDownSample_{}_vs_{}.html\".format(ylist_series.name,xlist_series.name))\n",
    "    #fig.write_html(\"/doc/NB_dir/js5296/AP1/EDA1V/img/DownSample_{}_vs_{}.html\".format(ylist_series.name,xlist_series.name))\n",
    "    # print(\"webp save\")#GIVES ERROR IN LOCAL ENV\n",
    "    # fig.write_image(\"{}_vs_{}.png\".format(ylist_series.name,xlist_series.name))\n",
    "    # fig.write_image(\"{}_vs_{}.jpeg\".format(ylist_series.name,xlist_series.name))\n",
    "    # fig.write_image(\"{}_vs_{}.webp\".format(ylist_series.name,xlist_series.name))\n",
    "    # fig.write_image(\"/doc/NB_dir/js5296/AP1/EDA1V/img/DownSample_{}_vs_{}.webp\".format(ylist_series.name,xlist_series.name))#For coldmill jupyter\n",
    "    \n",
    "    del fig\n",
    "    gc.collect()\n",
    "    #return fig.layout"
   ]
  },
  {
   "cell_type": "markdown",
   "id": "276c60de-6973-4464-9e38-1dfa175c98dc",
   "metadata": {},
   "source": [
    "#Only for UNIX\n",
    "def timeout_handler(num, stack):#function that python process uses when SIGALRM is send\n",
    "    print(\"Received SIGALRM\")\n",
    "    raise Exception(\"FUBAR\")\n",
    "    \n",
    "signal.signal(signal.SIGALRM, timeout_handler)#give funct to use when SIGALRM send\n",
    "signal.alarm(10)#send a SIGALRM x seconds from now\n",
    "try:\n",
    "    print(\"Before: %s\" % time.strftime(\"%M:%S\"))\n",
    "    func_downsample_scatter_plot_AirGas(xlist_series=gasCV_vars_series,ylist_series=gasFdbk_vars_series)\n",
    "except Exception as ex:\n",
    "    if \"FUBAR\" in ex:\n",
    "        print(\"Gotcha!\")\n",
    "    else:\n",
    "        print(\"We're gonna need a bigger boat!\")\n",
    "else:\n",
    "    print(\"It worked!\")"
   ]
  },
  {
   "cell_type": "code",
   "execution_count": null,
   "id": "4599aa0c-c76d-4eb0-8f30-27d0fa71efe4",
   "metadata": {},
   "outputs": [],
   "source": [
    "async def main():\n",
    "    try:\n",
    "        async with timeout(2*60):#2*60\n",
    "            await (asyncio.gather(func_downsample_scatter_plotly_AirGas(xlist_series=gasCV_vars_series,ylist_series=gasFdbk_vars_series)))#sync_to_async()\n",
    "    except: \n",
    "        print(\"The long operation timed out, but we've handled it.\")\n",
    "    else:\n",
    "        print(\"It worked!\")\n",
    "    return 0\n",
    "\n",
    "#asyncio.run(main())#For older versions\n",
    "await main()"
   ]
  },
  {
   "cell_type": "code",
   "execution_count": null,
   "id": "d12fb4d9-fa1d-420b-83ee-4d74de9effc5",
   "metadata": {},
   "outputs": [],
   "source": [
    "async def main():\n",
    "    try:\n",
    "        async with timeout(2*60):#2*60\n",
    "            await (asyncio.gather(func_downsample_scatter_plotly_AirGas(xlist_series=airCV_vars_series,ylist_series=airFdbk_vars_series)))#sync_to_async()\n",
    "    except: \n",
    "        print(\"The long operation timed out, but we've handled it.\")\n",
    "    else:\n",
    "        print(\"It worked!\")\n",
    "    return 0\n",
    "\n",
    "#asyncio.run(main())#For older versions\n",
    "await main()"
   ]
  },
  {
   "cell_type": "code",
   "execution_count": null,
   "id": "3bc159b6-d2ff-479d-b7fd-71b0e8e21612",
   "metadata": {},
   "outputs": [],
   "source": [
    "async def main():\n",
    "    try:\n",
    "        async with timeout(2*60):#2*60\n",
    "            await (asyncio.gather(func_downsample_scatter_plotly_AirGas(xlist_series=airCV_vars_series,ylist_series=airSP_vars_series)))#sync_to_async()\n",
    "    except: \n",
    "        print(\"The long operation timed out, but we've handled it.\")\n",
    "    else:\n",
    "        print(\"It worked!\")\n",
    "    return 0\n",
    "\n",
    "#asyncio.run(main())#For older versions\n",
    "await main()"
   ]
  },
  {
   "cell_type": "code",
   "execution_count": null,
   "id": "25ffd1c9-3fec-4fa3-b0f7-c2f651ed7f60",
   "metadata": {},
   "outputs": [],
   "source": [
    "async def main():\n",
    "    try:\n",
    "        async with timeout(2*60):#2*60\n",
    "            await (asyncio.gather(func_downsample_scatter_plotly_AirGas(xlist_series=airFdbk_vars_series,ylist_series=airSP_vars_series)))#sync_to_async()\n",
    "    except: \n",
    "        print(\"The long operation timed out, but we've handled it.\")\n",
    "    else:\n",
    "        print(\"It worked!\")\n",
    "    return 0\n",
    "\n",
    "#asyncio.run(main())#For older versions\n",
    "await main()"
   ]
  },
  {
   "cell_type": "code",
   "execution_count": null,
   "id": "47fbf3498f6957a2",
   "metadata": {},
   "outputs": [],
   "source": [
    "#Zone 0 Top: 5x5\n",
    "zone0AirGas_vars_series=zoneAirGas_vars_series[zoneAirGas_vars_series.str.contains(\"Zone0\",regex=False)]\n",
    "func_downsample_scatter_plot_zone(zone0AirGas_vars_series,\"Zone0\",\"Top\",\"evenly\")"
   ]
  },
  {
   "cell_type": "markdown",
   "id": "f245023f4d02c597",
   "metadata": {
    "collapsed": false,
    "jupyter": {
     "outputs_hidden": false
    }
   },
   "source": [
    "x=dfZone0Scatter[var_list[3]].to_numpy()\n",
    "y= dfZone0Scatter[var_list[1]].to_numpy()\n",
    "regM = LinearRegression().fit(x.reshape(-1,1),y.reshape(-1,1))\n",
    "y_pred = regM.predict(x.reshape(-1,1))\n",
    "y_pred=y_pred[:,0]\n",
    "#data=pd.merge(left=pd.DataFrame({\"x\":np.linspace(0,100,num=len(y)),\"res\":y-y_pred}),right=pd.DataFrame(SteelFamCluster,index=range(dfXY.shape[0]),columns=['SteelFamCluster']),how='inner',right_index=True,left_index=True)\n",
    "data=pd.merge(left=pd.DataFrame({\"x\":x,\"res\":y-y_pred}),right=pd.DataFrame(SteelFamCluster,index=range(dfXY.shape[0]),columns=['SteelFamCluster']),how='inner',right_index=True,left_index=True)\n",
    "sns.scatterplot(data=data,x='x',y='res',hue='SteelFamCluster',style='SteelFamCluster',size=2)#,size=20\n",
    "plt.scatter(x, y, color=\"green\")\n",
    "plt.plot(x, y_pred, color=\"blue\", linewidth=3)\n",
    "print(r2_score(y,y_pred))\n",
    "print(mean_squared_error(y,y_pred))\n",
    "#sns.scatterplot(pd.merge(left=dfZone0Scatter,right=pd.DataFrame(SteelFamCluster,index=dfXY.index,columns=['SteelFamCluster']),how='inner',right_index=True,left_index=True),x=var_list[3],y=var_list[0],hue='SteelFamCluster')#,size=20"
   ]
  },
  {
   "cell_type": "code",
   "execution_count": null,
   "id": "e8952dde54833858",
   "metadata": {},
   "outputs": [],
   "source": [
    "#Zone 0 Bottom: 5x5\n",
    "zone0AirGas_vars_series=zoneAirGas_vars_series[zoneAirGas_vars_series.str.contains(\"Zone0\",regex=False)]\n",
    "func_downsample_scatter_plot_zone(zone0AirGas_vars_series,\"Zone0\",\"Bottom\",\"evenly\")"
   ]
  },
  {
   "cell_type": "code",
   "execution_count": null,
   "id": "deab778c81253482",
   "metadata": {},
   "outputs": [],
   "source": [
    "#Zone 1: 5x5\n",
    "zone1AirGas_vars_series=zoneAirGas_vars_series[zoneAirGas_vars_series.str.contains(\"Zone1\",regex=False)]\n",
    "func_downsample_scatter_plot_zone(zone1AirGas_vars_series,\"Zone1\",\"Top\",\"evenly\")"
   ]
  },
  {
   "cell_type": "code",
   "execution_count": null,
   "id": "6688219f1b8317fc",
   "metadata": {},
   "outputs": [],
   "source": [
    "#Zone 1: 5x5\n",
    "zone1AirGas_vars_series=zoneAirGas_vars_series[zoneAirGas_vars_series.str.contains(\"Zone1\",regex=False)]\n",
    "func_downsample_scatter_plot_zone(zone1AirGas_vars_series,\"Zone1\",\"Bottom\",\"evenly\")"
   ]
  },
  {
   "cell_type": "code",
   "execution_count": null,
   "id": "522c22fd054f83c7",
   "metadata": {},
   "outputs": [],
   "source": [
    "#Zone 2 Top: 5x5\n",
    "zone2AirGas_vars_series=zoneAirGas_vars_series[zoneAirGas_vars_series.str.contains(\"Zone2\",regex=False)]\n",
    "func_downsample_scatter_plot_zone(zone2AirGas_vars_series,\"Zone2\",\"Top\",\"evenly\")"
   ]
  },
  {
   "cell_type": "code",
   "execution_count": null,
   "id": "31876e4a4822d11f",
   "metadata": {},
   "outputs": [],
   "source": [
    "#Zone 2 Bottom: 5x5\n",
    "zone2AirGas_vars_series=zoneAirGas_vars_series[zoneAirGas_vars_series.str.contains(\"Zone2\",regex=False)]\n",
    "func_downsample_scatter_plot_zone(zone2AirGas_vars_series,\"Zone2\",\"Bottom\",\"evenly\")"
   ]
  },
  {
   "cell_type": "code",
   "execution_count": null,
   "id": "cb0601c2cda38506",
   "metadata": {},
   "outputs": [],
   "source": [
    "#Zone 3 Top: 5x5\n",
    "zone3AirGas_vars_series=zoneAirGas_vars_series[zoneAirGas_vars_series.str.contains(\"Zone3\",regex=False)]\n",
    "func_downsample_scatter_plot_zone(zone3AirGas_vars_series,\"Zone3\",\"Top\",\"evenly\")"
   ]
  },
  {
   "cell_type": "code",
   "execution_count": null,
   "id": "f7ede06903f5b157",
   "metadata": {},
   "outputs": [],
   "source": [
    "#Zone 3 Bottom: 5x5\n",
    "zone3AirGas_vars_series=zoneAirGas_vars_series[zoneAirGas_vars_series.str.contains(\"Zone3\",regex=False)]\n",
    "func_downsample_scatter_plot_zone(zone3AirGas_vars_series,\"Zone3\",\"Bottom\",\"evenly\")"
   ]
  },
  {
   "cell_type": "code",
   "execution_count": null,
   "id": "218f228a85855da0",
   "metadata": {},
   "outputs": [],
   "source": [
    "#Zone 4 Top: 5x5\n",
    "zone4AirGas_vars_series=zoneAirGas_vars_series[zoneAirGas_vars_series.str.contains(\"Zone4\",regex=False)]\n",
    "func_downsample_scatter_plot_zone(zone4AirGas_vars_series,\"Zone4\",\"Top\",\"evenly\")"
   ]
  },
  {
   "cell_type": "code",
   "execution_count": null,
   "id": "8bcfaf4a9c76b5c9",
   "metadata": {},
   "outputs": [],
   "source": [
    "#Zone 4 Bottom: 5x5\n",
    "zone4AirGas_vars_series=zoneAirGas_vars_series[zoneAirGas_vars_series.str.contains(\"Zone4\",regex=False)]\n",
    "func_downsample_scatter_plot_zone(zone4AirGas_vars_series,\"Zone4\",\"Bottom\",\"evenly\")"
   ]
  },
  {
   "cell_type": "code",
   "execution_count": null,
   "id": "ee81b3220e803b50",
   "metadata": {},
   "outputs": [],
   "source": [
    "#Zone 5 Top: 5x5\n",
    "zone5AirGas_vars_series=zoneAirGas_vars_series[zoneAirGas_vars_series.str.contains(\"Zone5\",regex=False)]\n",
    "func_downsample_scatter_plot_zone(zone5AirGas_vars_series,\"Zone5\",\"Top\",\"evenly\")"
   ]
  },
  {
   "cell_type": "code",
   "execution_count": null,
   "id": "453e6e0b057974c0",
   "metadata": {},
   "outputs": [],
   "source": [
    "#Zone 5 Bottom: 5x5\n",
    "zone5AirGas_vars_series=zoneAirGas_vars_series[zoneAirGas_vars_series.str.contains(\"Zone5\",regex=False)]\n",
    "func_downsample_scatter_plot_zone(zone5AirGas_vars_series,\"Zone5\",\"Bottom\",\"evenly\")"
   ]
  },
  {
   "cell_type": "code",
   "execution_count": null,
   "id": "6f5a39e43a4023e6",
   "metadata": {},
   "outputs": [],
   "source": [
    "#Zone 6 Top: 5x5\n",
    "zone6AirGas_vars_series=zoneAirGas_vars_series[zoneAirGas_vars_series.str.contains(\"Zone6\",regex=False)]\n",
    "func_downsample_scatter_plot_zone(zone6AirGas_vars_series,\"Zone6\",\"Top\",\"evenly\")"
   ]
  },
  {
   "cell_type": "code",
   "execution_count": null,
   "id": "c1da529f9033d29e",
   "metadata": {},
   "outputs": [],
   "source": [
    "#Zone 6 Bottom: 5x5\n",
    "zone6AirGas_vars_series=zoneAirGas_vars_series[zoneAirGas_vars_series.str.contains(\"Zone6\",regex=False)]\n",
    "func_downsample_scatter_plot_zone(zone6AirGas_vars_series,\"Zone6\",\"Top\",\"evenly\")"
   ]
  },
  {
   "cell_type": "code",
   "execution_count": null,
   "id": "b8387cd4da309675",
   "metadata": {},
   "outputs": [],
   "source": [
    "#Zone 7 Top: 5x5\n",
    "zone7AirGas_vars_series=zoneAirGas_vars_series[zoneAirGas_vars_series.str.contains(\"Zone7\",regex=False)]\n",
    "func_downsample_scatter_plot_zone(zone7AirGas_vars_series,\"Zone7\",\"Top\",\"evenly\")"
   ]
  },
  {
   "cell_type": "code",
   "execution_count": null,
   "id": "b24cf18f91c3f16c",
   "metadata": {},
   "outputs": [],
   "source": [
    "#Zone 7 Bottom: 5x5\n",
    "zone7AirGas_vars_series=zoneAirGas_vars_series[zoneAirGas_vars_series.str.contains(\"Zone7\",regex=False)]\n",
    "func_downsample_scatter_plot_zone(zone7AirGas_vars_series,\"Zone7\",\"Bottom\",\"evenly\")"
   ]
  },
  {
   "cell_type": "code",
   "execution_count": null,
   "id": "6ab8e857c21a50c",
   "metadata": {},
   "outputs": [],
   "source": [
    "#Zone 8 Top: 5x5\n",
    "zone8AirGas_vars_series=zoneAirGas_vars_series[zoneAirGas_vars_series.str.contains(\"Zone8\",regex=False)]\n",
    "func_downsample_scatter_plot_zone(zone8AirGas_vars_series,\"Zone8\",\"Top\",\"evenly\")"
   ]
  },
  {
   "cell_type": "code",
   "execution_count": null,
   "id": "fe98b92d89e4acc",
   "metadata": {},
   "outputs": [],
   "source": [
    "#Zone 8 Bottom: 5x5\n",
    "zone8AirGas_vars_series=zoneAirGas_vars_series[zoneAirGas_vars_series.str.contains(\"Zone8\",regex=False)]\n",
    "func_downsample_scatter_plot_zone(zone8AirGas_vars_series,\"Zone8\",\"Bottom\",\"evenly\")"
   ]
  },
  {
   "cell_type": "markdown",
   "id": "2a0f00c8-a23b-496b-a3e3-0484c9cd06ab",
   "metadata": {
    "jp-MarkdownHeadingCollapsed": true
   },
   "source": [
    "# Observation summary\n",
    "\n",
    "Record high level comments about what you discovered"
   ]
  },
  {
   "cell_type": "code",
   "execution_count": null,
   "id": "53aa364ce4d6f86b",
   "metadata": {},
   "outputs": [],
   "source": []
  },
  {
   "cell_type": "code",
   "execution_count": null,
   "id": "7265389a2e80db5",
   "metadata": {},
   "outputs": [],
   "source": []
  }
 ],
 "metadata": {
  "kernelspec": {
   "display_name": "Python 3.10 (my_jupyterlab_env)",
   "language": "python",
   "name": "my_jupyterlab_env"
  },
  "language_info": {
   "codemirror_mode": {
    "name": "ipython",
    "version": 3
   },
   "file_extension": ".py",
   "mimetype": "text/x-python",
   "name": "python",
   "nbconvert_exporter": "python",
   "pygments_lexer": "ipython3",
   "version": "3.10.0"
  }
 },
 "nbformat": 4,
 "nbformat_minor": 5
}
