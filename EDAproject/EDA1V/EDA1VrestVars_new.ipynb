{
 "cells": [
  {
   "cell_type": "code",
   "execution_count": null,
   "id": "f183c766-f43b-448b-bad9-50bdd17f636e",
   "metadata": {},
   "outputs": [],
   "source": [
    "import seaborn as sns\n",
    "import pandas as pd\n",
    "import numpy as np\n",
    "import matplotlib.pyplot as plt\n",
    "from matplotlib.ticker import PercentFormatter\n",
    "import matplotlib.ticker as ticker\n",
    "import re\n",
    "from scipy import stats as st\n",
    "from scipy.stats import norm, beta"
   ]
  },
  {
   "cell_type": "code",
   "execution_count": null,
   "id": "1d07cdb9-895c-48d9-b2e4-119391fe89c7",
   "metadata": {},
   "outputs": [],
   "source": [
    "%run ./EDA1V_new.ipynb\n",
    ";"
   ]
  },
  {
   "cell_type": "markdown",
   "id": "2dc01853-e884-456d-974b-e1acf3c20317",
   "metadata": {},
   "source": [
    "## Continuous numeric features"
   ]
  },
  {
   "cell_type": "code",
   "execution_count": null,
   "id": "13b9b569-e09f-4264-b395-011e15223c6c",
   "metadata": {},
   "outputs": [],
   "source": [
    "# Numeric variable .description() check\n",
    "# \n",
    "# min/max vs quantiles, mean, and standard deviation – looking for outliers/sensible results\n",
    "# \n",
    "# Distribution plot examination\n",
    "# \n",
    "# can use .hist() command or a more customized subplot group or for-each loop to plot a seperate histogram of each variable"
   ]
  },
  {
   "cell_type": "code",
   "execution_count": null,
   "id": "aca961ee816bfc00",
   "metadata": {},
   "outputs": [],
   "source": [
    "dfXY.head()"
   ]
  },
  {
   "cell_type": "code",
   "execution_count": null,
   "id": "ae7777a2-0c8c-4d70-980f-dd3972cd3cc3",
   "metadata": {},
   "outputs": [],
   "source": [
    "#Numeric vars\n",
    "numerical_var_series=dfXY[dfXY.columns[dfXY.dtypes == np.float64]].columns#.to_list()#[0:5]\n",
    "print(type(numerical_var_series))\n",
    "print(len(numerical_var_series))\n",
    "numerical_var_series"
   ]
  },
  {
   "cell_type": "code",
   "execution_count": null,
   "id": "93f75a0ea96d9ff3",
   "metadata": {},
   "outputs": [],
   "source": [
    "#Create the different groups of columns to plot\n",
    "proceso_vars_series=dfXY[numerical_var_series[(~numerical_var_series.str.contains(\"AP1_Furnace\",regex=False)) & (~numerical_var_series.str.contains(\"pyro2\",regex=False))]].columns#.head(1)\n",
    "zoneTemp_vars_series=dfXY[numerical_var_series[numerical_var_series.str.contains(\".*Zone.*Temp.*\",regex=True)]].columns#.head(1)\n",
    "\n",
    "zoneAirGas_vars_series=dfXY[numerical_var_series[numerical_var_series.str.contains(\".*Zone.*Air.*|.*Zone.*Gas.*\",regex=True)]].columns#.head(1)\n",
    "\n",
    "recuperator_vars_series=dfXY[numerical_var_series[numerical_var_series.str.contains(\"AP1_Furnace.*Dilution|Recuperator|RWP|Combustion.*\",regex=True)]].columns#.head(1)\n",
    "\n",
    "pyro_vars_series=dfXY[numerical_var_series[numerical_var_series.str.contains(\".*pyro.*|.*Pyro.*\",regex=True)]].columns#.head(1)\n",
    "\n",
    "rest_vars_series=dfXY[[var for var in numerical_var_series.to_list() if var not in proceso_vars_series.to_list() and var not in zoneTemp_vars_series.to_list() and var not in zoneAirGas_vars_series.to_list() and var not in recuperator_vars_series.to_list() and var not in pyro_vars_series.to_list()]].columns#.head(1)"
   ]
  },
  {
   "cell_type": "code",
   "execution_count": null,
   "id": "483a1cf1b68c86ab",
   "metadata": {},
   "outputs": [],
   "source": [
    "#Plot histograms\n",
    "#dfXY[dfXY.columns[dfXY.dtypes == np.float64]].hist(figsize=(20,10))#Too many vars: 175\n",
    "print(\"There are {} numerical vars\".format(dfXY[dfXY.columns[dfXY.dtypes == np.float64]].shape))\n",
    "print(\"There are {} numerical vars of tbl proceso\".format(len(proceso_vars_series)))\n",
    "print(\"There are {} numerical vars of zone temp\".format(len(zoneTemp_vars_series)))\n",
    "print(\"There are {} numerical vars of zone air/gas flow\".format(len(zoneAirGas_vars_series)))\n",
    "print(\"There are {} numerical vars of recuperator\".format(len(recuperator_vars_series)))\n",
    "print(\"There are {} numerical vars of pyro\".format(len(pyro_vars_series)))\n",
    "print(\"The rest of numerical vars of furnace are {} \".format(len(rest_vars_series)))\n",
    "\n",
    "if dfXY[dfXY.columns[dfXY.dtypes == np.float64]].shape[1]==len(proceso_vars_series)+len(zoneTemp_vars_series)+len(zoneAirGas_vars_series)+len(recuperator_vars_series)+len(pyro_vars_series)+len(rest_vars_series):\n",
    "    print(\"All groups sum total length\")"
   ]
  },
  {
   "cell_type": "markdown",
   "id": "d54154d182c54e7b",
   "metadata": {
    "collapsed": false,
    "jupyter": {
     "outputs_hidden": false
    }
   },
   "source": [
    "### Plot proceso vars: 4"
   ]
  },
  {
   "cell_type": "code",
   "execution_count": null,
   "id": "20c73c7d2d2c6653",
   "metadata": {},
   "outputs": [],
   "source": [
    "#Plot proceso boxplot: 4 vars\n",
    "\n",
    "fig,axes = plt.subplots(4,1,figsize=(20,7))\n",
    "sns.boxplot(data=dfXY[proceso_vars_series[0]],orient='h',ax=axes[0],width=0.2)#,width=0.2\n",
    "axes[0].set_xlabel(xlabel=proceso_vars_series[0],labelpad=10,fontsize=\"x-large\")\n",
    "axes[0].tick_params(axis='x', labelsize=15)\n",
    "sns.boxplot(data=dfXY[proceso_vars_series[1]],orient='h',ax=axes[1],width=0.2)#,width=0.2\n",
    "axes[1].set_xlabel(xlabel=proceso_vars_series[1],labelpad=10,fontsize=\"x-large\")\n",
    "axes[1].tick_params(axis='x', labelsize=15)\n",
    "sns.boxplot(data=dfXY[proceso_vars_series[2]],orient='h',ax=axes[2],width=0.2)#,width=0.2\n",
    "axes[2].set_xlabel(xlabel=proceso_vars_series[2],labelpad=10,fontsize=\"x-large\")\n",
    "axes[2].tick_params(axis='x', labelsize=15)\n",
    "sns.boxplot(data=dfXY[proceso_vars_series[3]],orient='h',ax=axes[3],width=0.2)#,width=0.2\n",
    "axes[3].set_xlabel(xlabel=proceso_vars_series[3],labelpad=10,fontsize=\"x-large\")\n",
    "axes[3].tick_params(axis='x', labelsize=15)\n",
    "fig.suptitle(\"Variables from Proceso boxplot\",fontsize=30,y=1)\n",
    "#axes.set_xlim(0,4)\n",
    "#zone0_fg.map(sns.boxplot)\n",
    "sns.set_context('paper')\n",
    "fig.tight_layout(pad=3)"
   ]
  },
  {
   "cell_type": "code",
   "execution_count": null,
   "id": "5f94527bdf8d557f",
   "metadata": {},
   "outputs": [],
   "source": [
    "#Define func hist plot rest vars\n",
    "def func_hist_plot_rest(vars_series:pd.Series,title:str,ncol:int,hue:str=None,colour:str=\"olive\"):\n",
    "    ncol=ncol\n",
    "    nrow=dfXY[vars_series].shape[1]//ncol+1\n",
    "    var=0\n",
    "    \n",
    "    fig,axes = plt.subplots(nrow,ncol,figsize=(20,nrow*20/5))\n",
    "    fig.suptitle(f\"Distribution of numerical variables from {title}\",fontsize=30)\n",
    "    \n",
    "    for r in range(nrow):\n",
    "        for c in range(ncol):\n",
    "            if var<len(vars_series.to_list()):\n",
    "                if re.search(r'.*Total.*',vars_series[var]):\n",
    "                    sns.histplot(data=dfXY,x=vars_series[var],ax=axes[r,c],kde=True,color=colour,hue=hue)\n",
    "                else:\n",
    "                    if len(dfXY[vars_series[var]].unique())>1:\n",
    "                        sns.histplot(data=dfXY,x=vars_series[var],ax=axes[r,c],kde=True,color=colour,hue=hue)\n",
    "                    else:\n",
    "                        sns.histplot(data=dfXY,x=vars_series[var],ax=axes[r,c],color=colour,hue=hue)\n",
    "                axes[r,c].set_title(label=vars_series[var],loc='center',pad=10,fontsize=\"x-large\")\n",
    "                axes[r,c].set_xlabel(xlabel=\"\",labelpad=10)\n",
    "                axes[r,c].set_ylabel(ylabel=\"\",labelpad=15)\n",
    "                axes[r,c].axvline(tbl_desc.loc['cut-',vars_series[var]], color=\"red\", dashes=(6, 2)) #Cut-\n",
    "                axes[r,c].axvline(tbl_desc.loc['cut+',vars_series[var]], color=\"red\", dashes=(6, 2)) #Cut+\n",
    "                axes[r,c].tick_params(axis='x', labelsize=15)\n",
    "                axes[r,c].tick_params(axis='y', labelsize=15)\n",
    "                var+=1\n",
    "                if c==0:\n",
    "                    axes[r,c].set_ylabel(ylabel=\"Counts\",labelpad=15,fontsize=\"large\")\n",
    "            #remove unused axes\n",
    "            #This method removes subplots with hist of vars that have a unique value\n",
    "            # if not axes[r,c].lines: #ax.lines is a matplotlib.axes._base._AxesBase.ArtistList,tells u number of lines in the subplot, if 0 then is empty\n",
    "            #     axes[r,c].set_visible(False)\n",
    "            #print(len(axes[r,c].get_children()))\n",
    "            if len(axes[r,c].get_children()) <=10:#empty plots have 10 children\n",
    "                axes[r,c].set_visible(False)\n",
    "    \n",
    "    \n",
    "    # for ax in axes.flatten(): #axes.flatten() is a np.array of matplotlib.axes._axes.Axes\n",
    "    #     if not ax.lines: #ax.lines is a matplotlib.axes._base._AxesBase.ArtistList,tells u number of lines in the subplot, if 0 then is empty\n",
    "    #         ax.set_visible(False)\n",
    "    \n",
    "    #Keep outer labels\n",
    "    # for ax in fig.get_axes():\n",
    "    #     ax.label_outer()\n",
    "    \n",
    "    #Make space between subplots\n",
    "    fig.tight_layout(pad=3)"
   ]
  },
  {
   "cell_type": "code",
   "execution_count": null,
   "id": "08a9e34f-0464-421d-927c-ea69c4717c66",
   "metadata": {},
   "outputs": [],
   "source": [
    "#Plot proceso: 4 vars\n",
    "func_hist_plot_rest(vars_series=proceso_vars_series,title=\"proceso\",ncol=2,hue=None,colour=\"olive\")\n",
    "#NOTES: CurrentWidth and NetWeight bimodal maybe bc widthID"
   ]
  },
  {
   "cell_type": "markdown",
   "id": "a005d385cc2fb0c3",
   "metadata": {
    "collapsed": false,
    "jupyter": {
     "outputs_hidden": false
    }
   },
   "source": []
  },
  {
   "cell_type": "markdown",
   "id": "283627e2aab0724a",
   "metadata": {
    "collapsed": false,
    "jupyter": {
     "outputs_hidden": false
    }
   },
   "source": [
    "### Plot zone temp: 20 vars"
   ]
  },
  {
   "cell_type": "code",
   "execution_count": null,
   "id": "66302ae7188a87b1",
   "metadata": {},
   "outputs": [],
   "source": [
    "#Plot bosplot zone temp: 20 vars\n",
    "\n",
    "fig,axes = plt.subplots(figsize=(15,3))\n",
    "sns.boxplot(data=dfXY[zoneTemp_vars_series[zoneTemp_vars_series.str.contains(\"CV\",regex=False)]],orient='h',ax=axes,width=0.1)\n",
    "axes.set_xlabel(xlabel=zoneTemp_vars_series[zoneTemp_vars_series.str.contains(\"CV\",regex=False)][0],labelpad=10,fontsize=\"large\")\n",
    "axes.tick_params(axis='x', labelsize=15)\n",
    "fig.suptitle(\"Zone Temp Zone0 CV boxplot\",fontsize=20,y=1)\n",
    "#axes.set_xlim(0,4)\n",
    "#zone0_fg.map(sns.boxplot)\n",
    "sns.set_context('paper')\n",
    "#Remove ylabel\n",
    "#axes.set_ylabel(ylabel='')\n",
    "#plt.setp(axes, ylabel=\"\")\n",
    "#axes.set(ylabel=None)\n",
    "#plt.yticks(\"\")\n",
    "axes.yaxis.set_major_locator(ticker.NullLocator())"
   ]
  },
  {
   "cell_type": "code",
   "execution_count": null,
   "id": "b54f71239b735165",
   "metadata": {},
   "outputs": [],
   "source": [
    "#Plot bosplot zone temp: 20 vars\n",
    "fig,axes = plt.subplots(figsize=(20,15))\n",
    "sns.boxplot(data=dfXY[zoneTemp_vars_series[~zoneTemp_vars_series.str.contains(\"CV\",regex=False)]],orient='h',ax=axes)\n",
    "axes.tick_params(axis='x', labelsize=15)\n",
    "axes.tick_params(axis='y', labelsize=15)\n",
    "fig.suptitle(\"Zone Temp variables boxplot\",fontsize=30,y=1)\n",
    "#axes.set_xlim(0,4)\n",
    "#zone0_fg.map(sns.boxplot)\n",
    "sns.set_context('paper', rc={\"axes.labelsize\":10})\n",
    "#sns.set(font_scale=1)\n",
    "fig.tight_layout(pad=3)"
   ]
  },
  {
   "cell_type": "code",
   "execution_count": null,
   "id": "e9f9aa55-351f-41d9-bc75-d3decbabe6f0",
   "metadata": {},
   "outputs": [],
   "source": [
    "#Plot violinplot zone temp: 20 vars\n",
    "fig,axes = plt.subplots(figsize=(20,20))\n",
    "sns.violinplot(data=pd.melt(dfXY[zoneTemp_vars_series[~zoneTemp_vars_series.str.contains(\"CV\",regex=False)].tolist()+[\"SteelFamCluster\"]].reset_index(),id_vars=[\"ts\",\"SteelFamCluster\"]),orient='h',ax=axes,x=\"value\",y=\"variable\",hue=\"SteelFamCluster\",split=True,cut=0,inner_kws=dict(box_width=6, whis_width=2),density_norm=\"count\")#,hue=\"SteelFamCluster\"\n",
    "axes.tick_params(axis='x', labelsize=15)\n",
    "axes.tick_params(axis='y', labelsize=15)\n",
    "axes.set_xlabel(\"value\",fontsize=20)\n",
    "axes.set_ylabel(\"variable\",fontsize=20)\n",
    "fig.suptitle(\"Zone Temp variables violinplot\",fontsize=30,y=1)\n",
    "#axes.set_xlim(0,4)\n",
    "#zone0_fg.map(sns.boxplot)\n",
    "sns.set_context('paper')\n",
    "#sns.set(font_scale=1)\n",
    "fig.tight_layout(pad=3)"
   ]
  },
  {
   "cell_type": "code",
   "execution_count": null,
   "id": "cb6b8bc78790fc87",
   "metadata": {},
   "outputs": [],
   "source": [
    "#Plot zone temp: 20 vars  \n",
    "func_hist_plot_rest(vars_series=zoneTemp_vars_series,title=\"ZoneTemp\",ncol=4,colour=\"lime\")\n",
    "#NOTES: bimodal maybe bc steelgradefamily. pyro2goals are clustered by steelgradefam, so use pyro2goals to make famID and use it as hue with thermocouples"
   ]
  },
  {
   "cell_type": "code",
   "execution_count": null,
   "id": "a1604f3008c884d9",
   "metadata": {},
   "outputs": [],
   "source": [
    "#Plot zone temp by hue=pyro2Clusters(sort of steelgradefam clusters): 20 vars\n",
    "func_hist_plot_rest(vars_series=zoneTemp_vars_series,title=\"ZoneTemp\",ncol=4,hue=\"SteelFamCluster\")\n",
    "#NOTES: bimodal maybe bc steelgradefamily. pyro2goals are clustered by steelgradefam, so use pyro2goals to make famID and use it as hue with thermocouples"
   ]
  },
  {
   "cell_type": "code",
   "execution_count": null,
   "id": "72eec9c5-6e37-46a6-a392-fe0c14824dcd",
   "metadata": {},
   "outputs": [],
   "source": [
    "tbl_desc[zoneTemp_vars_series[~zoneTemp_vars_series.str.contains(\"CV\",regex=False)]]"
   ]
  },
  {
   "cell_type": "markdown",
   "id": "206b85fdcf0b1391",
   "metadata": {
    "collapsed": false,
    "jupyter": {
     "outputs_hidden": false
    }
   },
   "source": [
    "### Plot recuperator: 11 vars"
   ]
  },
  {
   "cell_type": "code",
   "execution_count": null,
   "id": "186198f9d59fa361",
   "metadata": {},
   "outputs": [],
   "source": [
    "#Plot boxplot recuperator: 11 vars\n",
    "\n",
    "fig,axes = plt.subplots(5,1,figsize=(20,15))\n",
    "#sns.boxplot(data=dfXY[zoneTemp_vars_series[~zoneTemp_vars_series.str.contains(\"CV\",regex=False)]],orient='h',ax=axes)\n",
    "sns.boxplot(data=dfXY[recuperator_vars_series[0]],orient='h',ax=axes[0],width=0.5)\n",
    "axes[0].tick_params(axis='x', labelsize=15)\n",
    "axes[0].tick_params(axis='y', labelsize=15)\n",
    "axes[0].set_ylabel(ylabel=recuperator_vars_series[0],rotation='horizontal',horizontalalignment='right',fontsize=15)\n",
    "axes[0].set_xlabel(xlabel=\"\")\n",
    "\n",
    "sns.boxplot(data=dfXY[recuperator_vars_series[[1,2]]],orient='h',ax=axes[1],width=0.5)\n",
    "axes[1].tick_params(axis='x', labelsize=15)\n",
    "axes[1].tick_params(axis='y', labelsize=15)\n",
    "\n",
    "sns.boxplot(data=dfXY[recuperator_vars_series[[3,4,5,6]]],orient='h',ax=axes[2],width=0.8)\n",
    "axes[2].tick_params(axis='x', labelsize=15)\n",
    "axes[2].tick_params(axis='y', labelsize=15)\n",
    "\n",
    "sns.boxplot(data=dfXY[recuperator_vars_series[[7,8]]],orient='h',ax=axes[3],width=0.5)\n",
    "axes[3].tick_params(axis='x', labelsize=15)\n",
    "axes[3].tick_params(axis='y', labelsize=15)\n",
    "\n",
    "sns.boxplot(data=dfXY[recuperator_vars_series[[9,10]]],orient='h',ax=axes[4],width=0.5)\n",
    "axes[4].tick_params(axis='x', labelsize=15)\n",
    "axes[4].tick_params(axis='y', labelsize=15)\n",
    "\n",
    "fig.suptitle(\"Recuperator variables boxplot\",fontsize=30,y=1)\n",
    "#axes.set_xlim(0,4)\n",
    "#zone0_fg.map(sns.boxplot)\n",
    "sns.set_context('paper',font_scale=1.5)\n",
    "#sns.set(font_scale=1.5)\n",
    "fig.tight_layout(pad=3)"
   ]
  },
  {
   "cell_type": "code",
   "execution_count": null,
   "id": "ef0343bbc649da41",
   "metadata": {},
   "outputs": [],
   "source": [
    "#Plot recuperator: 11 vars\n",
    "func_hist_plot_rest(vars_series=recuperator_vars_series,title=\"Recuperator\",ncol=2,colour=\"purple\")\n",
    "#NOTES: bimodal maybe bc steelgradefamily. pyro2goals are clustered by steelgradefam, so use pyro2goals to make famID and use it as hue with thermocouples"
   ]
  },
  {
   "cell_type": "code",
   "execution_count": null,
   "id": "ac1ebc5833682156",
   "metadata": {},
   "outputs": [],
   "source": [
    "#Plot recuperator: 11 vars\n",
    "func_hist_plot_rest(vars_series=recuperator_vars_series,title=\"Recuperator\",ncol=2,hue=\"SteelFamCluster\")\n",
    "#NOTES: bimodal maybe bc steelgradefamily. pyro2goals are clustered by steelgradefam, so use pyro2goals to make famID and use it as hue with thermocouples"
   ]
  },
  {
   "cell_type": "code",
   "execution_count": null,
   "id": "39f2484e414708f",
   "metadata": {},
   "outputs": [],
   "source": [
    "dfXY[recuperator_vars_series].head()#.value_counts()\n",
    "np.round(dfXY.AP1_FurnaceCombustionAirPressureCV.value_counts().index.values,1)\n",
    "dfXY[[\"AP1_FurnaceCombustionAirPressureCV\",\"AP1_FurnaceRWPExitTemp\",\"AP1_FurnaceRWPEntryTemp\",\"AP1_FurnaceCombustionAirPressureSetPoint\",\"AP1_FurnaceDilutionAirTemperatureCV\",\"AP1_FurnaceDilutionAirTemperatureSetPoint\"]].apply(pd.Series.value_counts,axis=0)\n",
    "\n",
    "#We see that those vars have cte and unique values\n"
   ]
  },
  {
   "cell_type": "markdown",
   "id": "99404c6e5e6fc0b0",
   "metadata": {
    "collapsed": false,
    "jupyter": {
     "outputs_hidden": false
    }
   },
   "source": [
    "### Plot pyro: 3 vars"
   ]
  },
  {
   "cell_type": "code",
   "execution_count": null,
   "id": "8328e78058165027",
   "metadata": {},
   "outputs": [],
   "source": [
    "#Plot boxplot pyro: 3 vars\n",
    "\n",
    "fig,axes = plt.subplots(figsize=(20,5))\n",
    "#sns.boxplot(data=dfXY[zoneTemp_vars_series[~zoneTemp_vars_series.str.contains(\"CV\",regex=False)]],orient='h',ax=axes)\n",
    "sns.boxplot(data=dfXY[pyro_vars_series],orient='h',ax=axes,width=0.2)\n",
    "axes.tick_params(axis='x', labelsize=15)\n",
    "axes.tick_params(axis='y', labelsize=15)\n",
    "fig.suptitle(\"Pyro variables boxplot\",fontsize=30,y=1)\n",
    "#axes.set_xlim(0,4)\n",
    "#zone0_fg.map(sns.boxplot)\n",
    "sns.set_context('paper')\n",
    "sns.set(font_scale=1)\n",
    "fig.tight_layout(pad=3)"
   ]
  },
  {
   "cell_type": "code",
   "execution_count": null,
   "id": "bc50d0bbd38fe68c",
   "metadata": {},
   "outputs": [],
   "source": [
    "#Plot pyro: 3 vars\n",
    "ncol=3\n",
    "nrow=dfXY[pyro_vars_series].shape[1]//ncol+1\n",
    "var=0\n",
    "\n",
    "fig,axes = plt.subplots(nrow,ncol,figsize=(25,nrow*20/4))\n",
    "fig.suptitle(\"Distribution of numerical pyro variables\",fontsize=30)\n",
    "\n",
    "for r in range(nrow):\n",
    "    for c in range(ncol):\n",
    "        if var<len(pyro_vars_series.to_list()):\n",
    "            hist_container=sns.histplot(data=dfXY,x=pyro_vars_series[var],ax=axes[r,c],kde=True,color=\"darkorange\")\n",
    "            axes[r,c].set_title(label=pyro_vars_series[var],loc='center',pad=10,fontsize=\"x-large\")\n",
    "            axes[r,c].set_xlabel(xlabel=\"\",labelpad=10)\n",
    "            axes[r,c].set_ylabel(ylabel=\"\",labelpad=15)\n",
    "            axes[r,c].axvline(tbl_desc.loc['cut-',pyro_vars_series[var]], color=\"red\", dashes=(6, 2)) #Cut-\n",
    "            axes[r,c].axvline(tbl_desc.loc['cut+',pyro_vars_series[var]], color=\"red\", dashes=(6, 2)) #Cut+\n",
    "            axes[r,c].tick_params(axis='x', labelsize=15)\n",
    "            axes[r,c].tick_params(axis='y', labelsize=15)\n",
    "\n",
    "            if pyro_vars_series[var]==\"pyro2\":\n",
    "                #Better show graph\n",
    "                axes[r,c].set_xlim(dfXY.pyro2.min()-50,dfXY.pyro2.max()+50)\n",
    "                #sns.barplot method will return a list of sub methods, use containers method to access the text label of each bar by passing it through the ax.bar_label function use for loop to iterate through the list of labels and assign each bar to a different label.\n",
    "                #If using seaborn hist instead of plot.hist, it will add labels to the bins with 0 counts\n",
    "                #axes[r,c].bar_label(container=hist_container.containers[0])\n",
    "                barRectangles = axes[r,c].patches\n",
    "                labels = dfXY.pyro2.value_counts().sort_index().values\n",
    "                label_i=0\n",
    "                #Cannot loop through zip(barRectangles,labels) bc barRect is larger as there are rect in the bins with 0 counts\n",
    "                for rect in barRectangles:#zip()stop when the shortest list ends, iterate through rect bars\n",
    "                    height = rect.get_height()\n",
    "                    if height != 0:\n",
    "                        #print(rect.get_x(),height+6,label)\n",
    "                        axes[r,c].text(x=rect.get_x()+rect.get_width()/2,y=height+6,s=str(int(height)),ha=\"center\",va=\"bottom\",color=\"black\",fontsize=15)#s=str(labels[label_i])\n",
    "                        label_i+=1\n",
    "\n",
    "                #Make room for all labels in plot\n",
    "                axes[r,c].set_ylim(top=max(labels)+1500)\n",
    "                #Other way, but not centered horizontally as u dont have the width of the bars\n",
    "                #for index, value in dfXY.pyro2.value_counts().sort_index().items():\n",
    "                #    axes[r,c].text(x=index, y=value, s=value, color='yellow', ha='center')\n",
    "\n",
    "            if c==0:\n",
    "                axes[r,c].set_ylabel(ylabel=\"Counts\",labelpad=15,fontsize=\"large\")\n",
    "\n",
    "            var+=1\n",
    "        #remove unused axes\n",
    "        #print(len(axes[r,c].get_children()))\n",
    "        if len(axes[r,c].get_children()) <=10:#empty plots have 10 children\n",
    "            axes[r,c].set_visible(False)\n",
    "\n",
    "\n",
    "# for ax in axes.flatten(): #axes.flatten() is a np.array of matplotlib.axes._axes.Axes\n",
    "#     if not ax.lines: #ax.lines is a matplotlib.axes._base._AxesBase.ArtistList,tells u number of lines in the subplot, if 0 then is empty\n",
    "#         ax.set_visible(False)\n",
    "\n",
    "#Keep outer labels\n",
    "# for ax in fig.get_axes():\n",
    "#     ax.label_outer()\n",
    "\n",
    "#Make space between subplots\n",
    "fig.tight_layout(pad=3)"
   ]
  },
  {
   "cell_type": "code",
   "execution_count": null,
   "id": "7dda3591d2b74b0d",
   "metadata": {},
   "outputs": [],
   "source": [
    "dfXY.pyro2.value_counts().sort_index().index#.iloc[:1].values[0]#.index[0]\n",
    "dfXY.pyro2.value_counts().sort_index().values"
   ]
  },
  {
   "cell_type": "code",
   "execution_count": null,
   "id": "b5e94b5d24be2952",
   "metadata": {},
   "outputs": [],
   "source": [
    "#7 different goals:I think in 3 clusters\n",
    "dfXY.pyro2.value_counts().sort_values()"
   ]
  },
  {
   "cell_type": "markdown",
   "id": "1cdf9d45d67a27d0",
   "metadata": {
    "collapsed": false,
    "jupyter": {
     "outputs_hidden": false
    }
   },
   "source": [
    "### Plot rest vars: 11 vars"
   ]
  },
  {
   "cell_type": "code",
   "execution_count": null,
   "id": "34d481f9ce62fc3c",
   "metadata": {},
   "outputs": [],
   "source": [
    "#Plot boxplot rest vars: 11 vars\n",
    "\n",
    "fig,axes = plt.subplots(11,1,figsize=(20,20))\n",
    "#sns.boxplot(data=dfXY[zoneTemp_vars_series[~zoneTemp_vars_series.str.contains(\"CV\",regex=False)]],orient='h',ax=axes)\n",
    "#axes[0].yaxis.set_major_locator(ticker.NullLocator())\n",
    "sns.boxplot(data=dfXY[rest_vars_series[0]],orient='h',ax=axes[0],width=0.2)\n",
    "axes[0].tick_params(axis='x', labelsize=15)\n",
    "axes[0].set_xlabel(rest_vars_series[0], fontsize=15)\n",
    "\n",
    "sns.boxplot(data=dfXY[rest_vars_series[1]],orient='h',ax=axes[1],width=0.2)\n",
    "axes[1].tick_params(axis='x', labelsize=15)\n",
    "axes[1].set_xlabel(rest_vars_series[1], fontsize=15)\n",
    "\n",
    "sns.boxplot(data=dfXY[rest_vars_series[2]],orient='h',ax=axes[2],width=0.2)\n",
    "axes[2].tick_params(axis='x', labelsize=15)\n",
    "axes[2].set_xlabel(rest_vars_series[2], fontsize=15)\n",
    "\n",
    "sns.boxplot(data=dfXY[rest_vars_series[3]],orient='h',ax=axes[3],width=0.2)\n",
    "axes[3].tick_params(axis='x', labelsize=15)\n",
    "axes[3].set_xlabel(rest_vars_series[3], fontsize=15)\n",
    "\n",
    "sns.boxplot(data=dfXY[rest_vars_series[4]],orient='h',ax=axes[4],width=0.2)\n",
    "axes[4].tick_params(axis='x', labelsize=15)\n",
    "axes[4].set_xlabel(rest_vars_series[4], fontsize=15)\n",
    "\n",
    "sns.boxplot(data=dfXY[rest_vars_series[5]],orient='h',ax=axes[5],width=0.2)\n",
    "axes[5].tick_params(axis='x', labelsize=15)\n",
    "axes[5].set_xlabel(rest_vars_series[5], fontsize=15)\n",
    "\n",
    "sns.boxplot(data=dfXY[rest_vars_series[6]],orient='h',ax=axes[6],width=0.2)\n",
    "axes[6].tick_params(axis='x', labelsize=15)\n",
    "axes[6].set_xlabel(rest_vars_series[6], fontsize=15)\n",
    "\n",
    "sns.boxplot(data=dfXY[rest_vars_series[7]],orient='h',ax=axes[7],width=0.2)\n",
    "axes[7].tick_params(axis='x', labelsize=15)\n",
    "axes[7].set_xlabel(rest_vars_series[7], fontsize=15)\n",
    "\n",
    "sns.boxplot(data=dfXY[rest_vars_series[8]],orient='h',ax=axes[8],width=0.2)\n",
    "axes[8].tick_params(axis='x', labelsize=15)\n",
    "axes[8].set_xlabel(rest_vars_series[8], fontsize=15)\n",
    "\n",
    "sns.boxplot(data=dfXY[rest_vars_series[9]],orient='h',ax=axes[9],width=0.2)\n",
    "axes[9].tick_params(axis='x', labelsize=15)\n",
    "axes[9].set_xlabel(rest_vars_series[9], fontsize=15)\n",
    "\n",
    "sns.boxplot(data=dfXY[rest_vars_series[10]],orient='h',ax=axes[10],width=0.2)\n",
    "axes[10].tick_params(axis='x', labelsize=15)\n",
    "axes[10].set_xlabel(rest_vars_series[10], fontsize=15)\n",
    "\n",
    "fig.suptitle(\"Rest of variables boxplot\",fontsize=30,y=1)\n",
    "#axes.set_xlim(0,4)\n",
    "#zone0_fg.map(sns.boxplot)\n",
    "sns.set_context('paper')\n",
    "#sns.set(font_scale=1.3)\n",
    "fig.tight_layout(pad=3)"
   ]
  },
  {
   "cell_type": "code",
   "execution_count": null,
   "id": "d5dc51525e739f3b",
   "metadata": {},
   "outputs": [],
   "source": [
    "#Plot rest vars: 11 vars\n",
    "func_hist_plot_rest(vars_series=rest_vars_series,title=\"Rest Furnace\",ncol=3,hue=\"SteelFamCluster\",colour=\"fuchsia\")"
   ]
  },
  {
   "cell_type": "code",
   "execution_count": null,
   "id": "7274a7d47a23bc16",
   "metadata": {},
   "outputs": [],
   "source": [
    "#AP1_FurnacePressureSetPoint is cte\n",
    "dfXY[[\"AP1_FurnacePressureSetPoint\",\"AP1_FurnacePressureCV\"]].apply(pd.Series.value_counts,axis=0)"
   ]
  },
  {
   "cell_type": "code",
   "execution_count": null,
   "id": "7ea13956ede7ad66",
   "metadata": {},
   "outputs": [],
   "source": []
  },
  {
   "cell_type": "code",
   "execution_count": null,
   "id": "e304f756-827c-4bf9-bd27-f3895b220796",
   "metadata": {},
   "outputs": [],
   "source": []
  },
  {
   "cell_type": "markdown",
   "id": "7cf35d20-1a38-4b9b-9fe4-5b406c2d68f8",
   "metadata": {},
   "source": [
    "## Categorical features"
   ]
  },
  {
   "cell_type": "code",
   "execution_count": null,
   "id": "2f17a9ac-f19b-43f1-845a-870efbc14bbf",
   "metadata": {},
   "outputs": [],
   "source": [
    "# Values check with .unique()\n",
    "# \n",
    "# Grouped by record counts/bar charts\n",
    "# \n",
    "# Split distribution charts of associated numeric features"
   ]
  },
  {
   "cell_type": "code",
   "execution_count": null,
   "id": "b6ee576c-c47a-4239-b436-81471c2b649b",
   "metadata": {},
   "outputs": [],
   "source": [
    "#Categorical vars\n",
    "categorical_var=dfXY[dfXY.columns[dfXY.dtypes == \"category\"]].columns.to_list()\n",
    "categorical_var"
   ]
  },
  {
   "cell_type": "code",
   "execution_count": null,
   "id": "3b4f1e82-6a42-4d4b-a2bd-9989ab053e5f",
   "metadata": {},
   "outputs": [],
   "source": [
    "#Barplot for AP_1 vars\n",
    "nrow=3\n",
    "ncol=3\n",
    "var=0\n",
    "fig, axes = plt.subplots(nrow, ncol,figsize=(15,10))\n",
    "\n",
    "for r in range(nrow):\n",
    "    for c in range(ncol):\n",
    "        if var<len(categorical_var) and var!=\"grade\":\n",
    "            #plt.subplot_tool()\n",
    "            #bar=dfXY.loc[:,categorical_var[var]].value_counts().plot(kind=\"bar\",ax=axes[r,c],figsize=(15,10),rot=0,color=\"green\",xlabel='')#,title=var\n",
    "            counts=dfXY.loc[:,categorical_var[var]].value_counts().values#to make it a list\n",
    "            values=dfXY.loc[:,categorical_var[var]].value_counts().index.astype(str).values\n",
    "            bar=axes[r,c].bar(x=values,height=counts,color=\"green\")\n",
    "            axes[r,c].set_title(label=categorical_var[var],loc='center',pad=10)\n",
    "            axes[r,c].bar_label(bar,padding=4)\n",
    "            axes[r,c].set_ylim(top=max(counts)+5000)\n",
    "            if c==0:\n",
    "                axes[r,c].set_ylabel(ylabel=\"counts\",labelpad=15)\n",
    "            if r==2:\n",
    "                axes[r,c].set_xlabel(xlabel=\"values\",labelpad=5)\n",
    "            var+=1\n",
    "#Hide x labels and tick labels for top plots and y ticks for right plots.\n",
    "#for ax in axes.flat:\n",
    "#    ax.label_outer()\n",
    "\n",
    "#Make space between subplots\n",
    "fig.suptitle(\"Distribution of categorical variables\",fontsize=30)\n",
    "sns.set(font_scale=1)\n",
    "fig.tight_layout(pad=3)\n",
    "#Other way\n",
    "# set the spacing between subplots\n",
    "# plt.subplots_adjust(left=0.1,\n",
    "#                     bottom=0.1, \n",
    "#                     right=0.9, \n",
    "#                     top=0.9, \n",
    "#                     wspace=0.4, \n",
    "#                     hspace=0.4)"
   ]
  },
  {
   "cell_type": "code",
   "execution_count": null,
   "id": "a04e0acc-89a6-4566-abec-4bc83093810b",
   "metadata": {},
   "outputs": [],
   "source": [
    "#Plot grades\n",
    "#ax = dfXY.loc[:,\"grade\"].value_counts().plot(kind=\"bar\",figsize=(20,5),title=\"GRADES\",color=\"orange\",rot=0)\n",
    "fig,axes = plt.subplots(2,1,figsize=(15,12))\n",
    "fig.suptitle(\"Distribution of grades\",fontsize=20)\n",
    "#sns.set_style(style='whitegrid')\n",
    "#Barplot grades\n",
    "values = dfXY.loc[:,\"grade\"].value_counts().index.astype(str).values\n",
    "counts = dfXY.loc[:,\"grade\"].value_counts().values\n",
    "bar_container = axes[0].bar(x=values,height=counts,color=\"orange\")\n",
    "axes[0].set_title(label=\"GRADES\",pad=15)\n",
    "axes[0].set_ylabel(ylabel=\"Counts\",labelpad=15)\n",
    "axes[0].set_xlabel(xlabel=\"Grade\",labelpad=15)\n",
    "axes[0].bar_label(container=bar_container,fontsize=12)\n",
    "axes[0].set_ylim(top=max(counts)+400)\n",
    "#Barplot cumpercentage grades\n",
    "Percentage = np.round(counts/counts.sum()*100,2)\n",
    "CumPercentage = np.round(counts.cumsum()/counts.sum()*100,2)\n",
    "bar_containerPG = axes[1].bar(x=values,height=Percentage,color=\"green\")\n",
    "#%\n",
    "axes[1].yaxis.set_major_formatter(PercentFormatter())\n",
    "axes[1].set_title(label=\"GRADES CUMULATIVE PERCENTAGE\",pad=15)\n",
    "axes[1].set_ylabel(ylabel=\"Percentage\",labelpad=15)\n",
    "axes[1].set_xlabel(xlabel=\"Grade\",labelpad=15)\n",
    "axes[1].bar_label(container=bar_containerPG,fmt='%.2f%%',fontsize=11)\n",
    "axes[1].set_ylim(top=max(Percentage)+3)\n",
    "#Cum%\n",
    "axcum=axes[1].twinx()\n",
    "axcum.plot(values, CumPercentage, marker = '8', color = 'm',linestyle='solid')\n",
    "axcum.yaxis.set_major_formatter(PercentFormatter())\n",
    "axcum.set_ylabel(ylabel=\"Cumulative Percentage\",labelpad=15)\n",
    "\n",
    "#sns.set(font_scale=1)\n",
    "fig.tight_layout(pad=3)"
   ]
  },
  {
   "cell_type": "code",
   "execution_count": null,
   "id": "bf11f5341684a5b8",
   "metadata": {},
   "outputs": [],
   "source": [
    "dfXY.loc[:,\"grade\"].value_counts().values\n",
    "Percentage\n",
    "CumPercentage"
   ]
  },
  {
   "cell_type": "code",
   "execution_count": null,
   "id": "1ddb3145-de4a-43cc-92f7-6a4f45937198",
   "metadata": {},
   "outputs": [],
   "source": []
  },
  {
   "cell_type": "code",
   "execution_count": null,
   "id": "4b429d27-3774-4ac7-a59e-715f6dec8e07",
   "metadata": {},
   "outputs": [],
   "source": []
  },
  {
   "cell_type": "code",
   "execution_count": null,
   "id": "46e1aaee-c5ff-4aea-bfce-36ae526f05f1",
   "metadata": {},
   "outputs": [],
   "source": []
  },
  {
   "cell_type": "markdown",
   "id": "358b47cb-1e90-41be-bb44-a2e5e80ac4a3",
   "metadata": {},
   "source": [
    "## Group analysis"
   ]
  },
  {
   "cell_type": "code",
   "execution_count": null,
   "id": "399c80db-f97b-4528-9fab-46aaf97a520d",
   "metadata": {},
   "outputs": [],
   "source": [
    "# Correlation plot analysis\n",
    "# \n",
    "# Pairplot analysis (seaborn package has a really good plot for this)"
   ]
  },
  {
   "cell_type": "markdown",
   "id": "2a0f00c8-a23b-496b-a3e3-0484c9cd06ab",
   "metadata": {},
   "source": [
    "# Observation summary\n",
    "\n",
    "Record high level comments about what you discovered"
   ]
  },
  {
   "cell_type": "code",
   "execution_count": null,
   "id": "e984cf20e7f038bb",
   "metadata": {},
   "outputs": [],
   "source": []
  }
 ],
 "metadata": {
  "kernelspec": {
   "display_name": "Python 3.10 (my_jupyterlab_env)",
   "language": "python",
   "name": "my_jupyterlab_env"
  },
  "language_info": {
   "codemirror_mode": {
    "name": "ipython",
    "version": 3
   },
   "file_extension": ".py",
   "mimetype": "text/x-python",
   "name": "python",
   "nbconvert_exporter": "python",
   "pygments_lexer": "ipython3",
   "version": "3.10.0"
  }
 },
 "nbformat": 4,
 "nbformat_minor": 5
}
