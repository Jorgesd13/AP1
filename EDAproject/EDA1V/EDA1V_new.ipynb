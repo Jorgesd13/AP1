{
 "cells": [
  {
   "cell_type": "code",
   "execution_count": null,
   "id": "f183c766-f43b-448b-bad9-50bdd17f636e",
   "metadata": {},
   "outputs": [],
   "source": [
    "import seaborn as sns\n",
    "import pandas as pd\n",
    "import numpy as np\n",
    "import matplotlib.pyplot as plt\n",
    "from matplotlib.ticker import PercentFormatter\n",
    "from scipy import stats as st\n",
    "from scipy.stats import norm, beta\n",
    "from sklearn.mixture import GaussianMixture"
   ]
  },
  {
   "cell_type": "code",
   "execution_count": null,
   "id": "1d07cdb9-895c-48d9-b2e4-119391fe89c7",
   "metadata": {},
   "outputs": [],
   "source": [
    "####CHECK STORED DF#####\n",
    "# Deserialization\n",
    "with open(\"dfXY.pickle\", \"rb\") as infile:\n",
    "    dfXYPickle = pickle.load(infile)\n",
    "#print(\"Reconstructed object\", dfXYPickle)"
   ]
  },
  {
   "cell_type": "code",
   "execution_count": null,
   "id": "ee8be72f-a061-47ea-827f-ca4dc14a60d2",
   "metadata": {},
   "outputs": [],
   "source": [
    "dfXY = dfXYPickle.copy()"
   ]
  },
  {
   "cell_type": "markdown",
   "id": "3719e703-e250-41db-9e79-54db145584d4",
   "metadata": {},
   "source": [
    " # Analysis\n",
    "\n"
   ]
  },
  {
   "cell_type": "code",
   "execution_count": null,
   "id": "4f4ec0cb-ae3a-47a2-82e6-effaafe0c61a",
   "metadata": {},
   "outputs": [],
   "source": [
    "#Make sure exports are okay"
   ]
  },
  {
   "cell_type": "code",
   "execution_count": null,
   "id": "3d8353a1-8aae-457b-b277-f6ccc18df975",
   "metadata": {},
   "outputs": [],
   "source": [
    "print(dfXY.shape)\n",
    "dfXY.head(2)"
   ]
  },
  {
   "cell_type": "code",
   "execution_count": null,
   "id": "e85ee9c1f570dc30",
   "metadata": {},
   "outputs": [],
   "source": [
    "#Strip column names\n",
    "dfXY.columns=dfXY.columns.str.strip(' \\t\\n')"
   ]
  },
  {
   "cell_type": "code",
   "execution_count": null,
   "id": "10d7d625-793d-444a-bb32-3706e218e061",
   "metadata": {},
   "outputs": [],
   "source": [
    "dfXY.dtypes.tail()"
   ]
  },
  {
   "cell_type": "code",
   "execution_count": null,
   "id": "f856f736-e50e-4533-a46b-4a2357b53d52",
   "metadata": {},
   "outputs": [],
   "source": [
    "dfXY.isna().sum().head()"
   ]
  },
  {
   "cell_type": "code",
   "execution_count": null,
   "id": "cdd0cb97c11061af",
   "metadata": {},
   "outputs": [],
   "source": [
    "dfXY[dfXY.columns[dfXY.dtypes == \"category\"]].head(2)"
   ]
  },
  {
   "cell_type": "code",
   "execution_count": null,
   "id": "e579694c-978b-4245-ad2a-b4735c7b1d23",
   "metadata": {},
   "outputs": [],
   "source": [
    "#Remove decimals in categorical\n",
    "dfXY[dfXY.columns[dfXY.dtypes == \"category\"]]=dfXY[dfXY.columns[dfXY.dtypes == \"category\"]].astype(np.int64)\n",
    "dfXY[[\"AP1_FurnaceWeldInFurnace\",\"AP1_FurnaceZone1TurndownOn\",\"AP1_FurnaceZone2TurndownOn\",\"AP1_FurnaceZone3TurndownOn\",\"AP1_FurnaceZone4TurndownOn\",\"AP1_FurnaceZone5TurndownOn\",\"AP1_FurnaceZone6TurndownOn\",\"AP1_FurnaceZone7TurndownOn\",\"AP1_FurnaceZone8TurndownOn\",\"grade\",\"SteelGradeID\"]]=dfXY[[\"AP1_FurnaceWeldInFurnace\",\"AP1_FurnaceZone1TurndownOn\",\"AP1_FurnaceZone2TurndownOn\",\"AP1_FurnaceZone3TurndownOn\",\"AP1_FurnaceZone4TurndownOn\",\"AP1_FurnaceZone5TurndownOn\",\"AP1_FurnaceZone6TurndownOn\",\"AP1_FurnaceZone7TurndownOn\",\"AP1_FurnaceZone8TurndownOn\",\"grade\",\"SteelGradeID\"]].astype(\"category\")\n",
    "#dfXY.dtypes#info(verbose=True)\n",
    "dfXY[dfXY.columns[dfXY.dtypes == \"category\"]].head(2)"
   ]
  },
  {
   "cell_type": "code",
   "execution_count": null,
   "id": "58f9560d-2d7a-4b6a-9105-c3186f6dbfe5",
   "metadata": {},
   "outputs": [],
   "source": [
    "#Remove SteelGradeID\n",
    "SteelGradeID=dfXY.SteelGradeID\n",
    "SteelGradeID.head()"
   ]
  },
  {
   "cell_type": "code",
   "execution_count": null,
   "id": "4c78c96e-5481-499e-ac50-46516198ca86",
   "metadata": {},
   "outputs": [],
   "source": [
    "dfXY.drop(\"SteelGradeID\",inplace=True,axis=1)\n",
    "dfXY.head(2)"
   ]
  },
  {
   "cell_type": "code",
   "execution_count": null,
   "id": "21226b75e9a2af6a",
   "metadata": {},
   "outputs": [],
   "source": [
    "#Make a copy of dfXY in case\n",
    "dfXYold = dfXY.copy()\n",
    "dfXYold.head(2)"
   ]
  },
  {
   "cell_type": "markdown",
   "id": "2dc01853-e884-456d-974b-e1acf3c20317",
   "metadata": {},
   "source": [
    "## Continuous numeric features"
   ]
  },
  {
   "cell_type": "code",
   "execution_count": null,
   "id": "13b9b569-e09f-4264-b395-011e15223c6c",
   "metadata": {},
   "outputs": [],
   "source": [
    "# Numeric variable .description() check\n",
    "# \n",
    "# min/max vs quantiles, mean, and standard deviation – looking for outliers/sensible results\n",
    "# \n",
    "# Distribution plot examination\n",
    "# \n",
    "# can use .hist() command or a more customized subplot group or for-each loop to plot a seperate histogram of each variable"
   ]
  },
  {
   "cell_type": "code",
   "execution_count": null,
   "id": "ae7777a2-0c8c-4d70-980f-dd3972cd3cc3",
   "metadata": {},
   "outputs": [],
   "source": [
    "#Numeric vars\n",
    "numerical_var_series=dfXY[dfXY.columns[dfXY.dtypes == np.float64]].columns#.to_list()#[0:5]\n",
    "print(type(numerical_var_series))\n",
    "print(len(numerical_var_series))\n",
    "numerical_var_series"
   ]
  },
  {
   "cell_type": "code",
   "execution_count": null,
   "id": "93f75a0ea96d9ff3",
   "metadata": {},
   "outputs": [],
   "source": [
    "#Create the different groups of columns to plot\n",
    "proceso_vars_series=dfXY[numerical_var_series[(~numerical_var_series.str.contains(\"AP1_Furnace\",regex=False)) & (~numerical_var_series.str.contains(\"pyro2\",regex=False))]].columns#.head(1)\n",
    "zoneTemp_vars_series=dfXY[numerical_var_series[numerical_var_series.str.contains(\".*Zone.*Temp.*\",regex=True)]].columns#.head(1)\n",
    "\n",
    "zoneAirGas_vars_series=dfXY[numerical_var_series[numerical_var_series.str.contains(\".*Zone.*Air.*|.*Zone.*Gas.*\",regex=True)]].columns#.head(1)\n",
    "\n",
    "recuperator_vars_series=dfXY[numerical_var_series[numerical_var_series.str.contains(\"AP1_Furnace.*Dilution|Recuperator|RWP|Combustion.*\",regex=True)]].columns#.head(1)\n",
    "\n",
    "pyro_vars_series=dfXY[numerical_var_series[numerical_var_series.str.contains(\".*pyro.*|.*Pyro.*\",regex=True)]].columns#.head(1)\n",
    "\n",
    "rest_vars_series=dfXY[[var for var in numerical_var_series.to_list() if var not in proceso_vars_series.to_list() and var not in zoneTemp_vars_series.to_list() and var not in zoneAirGas_vars_series.to_list() and var not in recuperator_vars_series.to_list() and var not in pyro_vars_series.to_list()]].columns#.head(1)"
   ]
  },
  {
   "cell_type": "code",
   "execution_count": null,
   "id": "8b66890ad56da459",
   "metadata": {},
   "outputs": [],
   "source": [
    "#Statistic description of numeric vars\n",
    "dfXYold_description=dfXYold.describe()\n",
    "dfXYold_description"
   ]
  },
  {
   "cell_type": "code",
   "execution_count": null,
   "id": "7715a723749761c",
   "metadata": {},
   "outputs": [],
   "source": [
    "#Cuts to consider outliers\n",
    "cut_neg = dfXYold_description.iloc[1] - 3*dfXYold_description.iloc[2] #mean-3*std\n",
    "cut_pos = dfXYold_description.iloc[1] + 3*dfXYold_description.iloc[2] #mean+3*std\n",
    "cut_neg.name = 'cut-'\n",
    "cut_pos.name = 'cut+'\n",
    "cut_neg = pd.DataFrame(cut_neg).T\n",
    "cut_pos = pd.DataFrame(cut_pos).T\n",
    "tbl_desc = pd.concat([dfXYold_description,cut_neg, cut_pos])\n",
    "tbl_desc"
   ]
  },
  {
   "cell_type": "markdown",
   "id": "488f32264f21de3a",
   "metadata": {
    "collapsed": false,
    "jupyter": {
     "outputs_hidden": false
    }
   },
   "source": [
    "dfXY=dfXYold.copy()"
   ]
  },
  {
   "cell_type": "code",
   "execution_count": null,
   "id": "57d2a97f8451777",
   "metadata": {},
   "outputs": [],
   "source": [
    "#Ini Tune cut\n",
    "for c in range(tbl_desc.shape[1]):\n",
    "    if tbl_desc.loc['cut-',tbl_desc.columns[c]]<0:\n",
    "        tbl_desc.loc['cut-',tbl_desc.columns[c]]=0\n",
    "    if tbl_desc.columns[c]=='AP1_FurnaceWidth':\n",
    "        tbl_desc.loc['cut-',tbl_desc.columns[c]]=0 #some widthIDs are smaller than the actual cut-\n",
    "    elif tbl_desc.columns[c]=='NetWeight':\n",
    "        tbl_desc.loc['cut-',tbl_desc.columns[c]]=5000 #min around 20k, if cut for defects would be 10k. To be conservative 5k\n",
    "    elif tbl_desc.columns[c] in tbl_desc.columns[tbl_desc.columns.str.contains('Ratio',regex=False)]:\n",
    "        tbl_desc.loc['cut-',tbl_desc.columns[c]]=0\n",
    "        tbl_desc.loc['cut+',tbl_desc.columns[c]]=4\n",
    "    elif tbl_desc.columns[c] in tbl_desc.columns[tbl_desc.columns.str.contains(\"P1_FurnaceZone.*[C].*[V].*\",regex=True)]:\n",
    "        tbl_desc.loc['cut-',tbl_desc.columns[c]]=0\n",
    "        tbl_desc.loc['cut+',tbl_desc.columns[c]]=100 #CV vars are in %\n",
    "    elif  tbl_desc.columns[c] in zoneAirGas_vars_series[zoneAirGas_vars_series.str.contains(\"Zone0\",regex=False) & ~zoneAirGas_vars_series.str.contains(\"Ratio\",regex=False)]:\n",
    "        tbl_desc.loc['cut-',tbl_desc.columns[c]]=0\n",
    "        tbl_desc.loc['cut+',tbl_desc.columns[c]]=100 #Zone0 airgas vars are in %\n",
    "    elif tbl_desc.columns[c] in zoneTemp_vars_series[~zoneTemp_vars_series.str.contains(\"CV\",regex=False)]:\n",
    "        if tbl_desc.loc['cut-',tbl_desc.columns[c]]<=500:\n",
    "            tbl_desc.loc['cut-',tbl_desc.columns[c]]=500 #Zone 0 seems to have many values near 0 that are outside the bell\n",
    "    elif tbl_desc.columns[c] in pyro_vars_series[pyro_vars_series.str.contains(\"Temp\",regex=False)]:\n",
    "        tbl_desc.loc['cut-',tbl_desc.columns[c]]=1400 #pyro sensors seem to have many values at 1200 that are outside the bimodal bell, p() bc it is the lower limit of the sensor\n",
    "tbl_desc"
   ]
  },
  {
   "cell_type": "code",
   "execution_count": null,
   "id": "6bec932b-f3c8-47e5-b6d0-0a6a2f5fe9e0",
   "metadata": {},
   "outputs": [],
   "source": [
    "zoneTemp_vars_series"
   ]
  },
  {
   "cell_type": "markdown",
   "id": "68305a8896c7bce7",
   "metadata": {
    "collapsed": false,
    "jupyter": {
     "outputs_hidden": false
    }
   },
   "source": [
    "#### Make Air/Gas Flows in 0-100%\n",
    "Air/Gas ratios are in 0-4 scale\n",
    "Zone0: Already in %\n",
    "Zone1: Bottom/Top Air Flow in 0-47565 ($59655$)SCFH scale, Bottom/Top Gas Flow in 0-5170 SCFH scale\n",
    "Zone2: Bottom/Top Air Flow in 0-47565 ($59655$)SCFH scale, Bottom/Top Gas Flow in 0-5170 SCFH scale\n",
    "Zone3: Bottom/Top Air Flow in 0-34880 ($52831$)SCFH scale, Bottom/Top Gas Flow in 0-3350 SCFH scale\n",
    "Zone4: Bottom/Top Air Flow in 0-34880 ($51951$)SCFH scale, Bottom/Top Gas Flow in 0-3685 SCFH scale\n",
    "Zone5: Bottom/Top Air Flow in 0-27070 ($40318$)SCFH scale, Bottom/Top Gas Flow in 0-2860 SCFH scale\n",
    "Zone6: Bottom/Top Air Flow in 0-27070 ($41004$)SCFH scale, Bottom/Top Gas Flow in 0-2860 SCFH scale\n",
    "Zone7: Bottom Air Flow in 0-17490 ($26050$)SCFH scale, Bottom Gas Flow in 0-1680 SCFH scale\n",
    "       Top Air Flow in 0-20400 ($30384$)SCFH scale, Top Gas Flow in 0-1960 SCFH scale\n",
    "Zone8: Bottom Air Flow in 0-20400 ($30384$)SCFH scale, Bottom Gas Flow in 0-1960 SCFH scale\n",
    "       Top Air Flow in 0-17490 ($26050$)SCFH scale, Top Gas Flow in 0-1680 SCFH scale\n"
   ]
  },
  {
   "cell_type": "markdown",
   "id": "65e47bc9f6e08f9a",
   "metadata": {
    "collapsed": false,
    "jupyter": {
     "outputs_hidden": false
    }
   },
   "source": [
    "#AirGasRatios are already adimensional so no need of scaling\n",
    "dfXY.loc[:,dfXY.columns[dfXY.columns.str.contains(\"Ratio\",regex=False)]] = dfXY.loc[:,dfXY.columns[dfXY.columns.str.contains(\"Ratio\",regex=False)]]/4*100"
   ]
  },
  {
   "cell_type": "code",
   "execution_count": null,
   "id": "7bc87b73b090d0f2",
   "metadata": {},
   "outputs": [],
   "source": [
    "#Zone1\n",
    "#Air\n",
    "#dfXY.loc[:,dfXY.columns[(dfXY.columns.str.contains(\".*Zone1BottomAirFlowFeedback.*|.*Zone1TopAirFlowFeedback.*\",regex=True)) & (~dfXY.columns.str.contains(\"ControlValve\",regex=False))]].head(2)\n",
    "dfXY.loc[:,dfXY.columns[(dfXY.columns.str.contains(\".*Zone1BottomAirFlowFeedback.*|.*Zone1TopAirFlowFeedback.*\",regex=True)) & (~dfXY.columns.str.contains(\"ControlValve\",regex=False))]] = dfXY.loc[:,dfXY.columns[(dfXY.columns.str.contains(\".*Zone1BottomAirFlowFeedback.*|.*Zone1TopAirFlowFeedback.*\",regex=True)) & (~dfXY.columns.str.contains(\"ControlValve\",regex=False))]]/59655*100\n",
    "#Gas\n",
    "#dfXY.loc[:,dfXY.columns[(dfXY.columns.str.contains(\".*Zone1BottomGasFlow.*|.*Zone1TopGasFlow.*\",regex=True)) & (~dfXY.columns.str.contains(\"ControlValve\",regex=False))]].head(2)\n",
    "dfXY.loc[:,dfXY.columns[(dfXY.columns.str.contains(\".*Zone1BottomGasFlow.*|.*Zone1TopGasFlow.*\",regex=True)) & (~dfXY.columns.str.contains(\"ControlValve\",regex=False))]] = dfXY.loc[:,dfXY.columns[(dfXY.columns.str.contains(\".*Zone1BottomGasFlow.*|.*Zone1TopGasFlow.*\",regex=True)) & (~dfXY.columns.str.contains(\"ControlValve\",regex=False))]]/5170*100"
   ]
  },
  {
   "cell_type": "code",
   "execution_count": null,
   "id": "d2937d72df4df5cf",
   "metadata": {},
   "outputs": [],
   "source": [
    "#Zone2\n",
    "#Air\n",
    "#dfXY.loc[:,dfXY.columns[(dfXY.columns.str.contains(\".*Zone2BottomAirFlowFeedback.*|.*Zone2TopAirFlowFeedback.*\",regex=True)) & (~dfXY.columns.str.contains(\"ControlValve\",regex=False))]].head(2)\n",
    "dfXY.loc[:,dfXY.columns[(dfXY.columns.str.contains(\".*Zone2BottomAirFlowFeedback.*|.*Zone2TopAirFlowFeedback.*\",regex=True)) & (~dfXY.columns.str.contains(\"ControlValve\",regex=False))]] = dfXY.loc[:,dfXY.columns[(dfXY.columns.str.contains(\".*Zone2BottomAirFlowFeedback.*|.*Zone2TopAirFlowFeedback.*\",regex=True)) & (~dfXY.columns.str.contains(\"ControlValve\",regex=False))]]/59655*100\n",
    "#Gas\n",
    "#dfXY.loc[:,dfXY.columns[(dfXY.columns.str.contains(\".*Zone2BottomGasFlow.*|.*Zone2TopGasFlow.*\",regex=True)) & (~dfXY.columns.str.contains(\"ControlValve\",regex=False))]].head(2)\n",
    "dfXY.loc[:,dfXY.columns[(dfXY.columns.str.contains(\".*Zone2BottomGasFlow.*|.*Zone2TopGasFlow.*\",regex=True)) & (~dfXY.columns.str.contains(\"ControlValve\",regex=False))]] = dfXY.loc[:,dfXY.columns[(dfXY.columns.str.contains(\".*Zone2BottomGasFlow.*|.*Zone2TopGasFlow.*\",regex=True)) & (~dfXY.columns.str.contains(\"ControlValve\",regex=False))]]/5170*100"
   ]
  },
  {
   "cell_type": "code",
   "execution_count": null,
   "id": "d8c671f4c22a6e18",
   "metadata": {},
   "outputs": [],
   "source": [
    "#Zone3\n",
    "#Air\n",
    "#dfXY.loc[:,dfXY.columns[(dfXY.columns.str.contains(\".*Zone3BottomAirFlowFeedback.*|.*Zone3TopAirFlowFeedback.*\",regex=True)) & (~dfXY.columns.str.contains(\"ControlValve\",regex=False))]].head(2)\n",
    "dfXY.loc[:,dfXY.columns[(dfXY.columns.str.contains(\".*Zone3BottomAirFlowFeedback.*|.*Zone3TopAirFlowFeedback.*\",regex=True)) & (~dfXY.columns.str.contains(\"ControlValve\",regex=False))]] = dfXY.loc[:,dfXY.columns[(dfXY.columns.str.contains(\".*Zone3BottomAirFlowFeedback.*|.*Zone3TopAirFlowFeedback.*\",regex=True)) & (~dfXY.columns.str.contains(\"ControlValve\",regex=False))]]/52831*100\n",
    "#Gas\n",
    "#dfXY.loc[:,dfXY.columns[(dfXY.columns.str.contains(\".*Zone3BottomGasFlow.*|.*Zone3TopGasFlow.*\",regex=True)) & (~dfXY.columns.str.contains(\"ControlValve\",regex=False))]].head(2)\n",
    "dfXY.loc[:,dfXY.columns[(dfXY.columns.str.contains(\".*Zone3BottomGasFlow.*|.*Zone3TopGasFlow.*\",regex=True)) & (~dfXY.columns.str.contains(\"ControlValve\",regex=False))]] = dfXY.loc[:,dfXY.columns[(dfXY.columns.str.contains(\".*Zone3BottomGasFlow.*|.*Zone3TopGasFlow.*\",regex=True)) & (~dfXY.columns.str.contains(\"ControlValve\",regex=False))]]/3350*100"
   ]
  },
  {
   "cell_type": "code",
   "execution_count": null,
   "id": "667c558bfd4783aa",
   "metadata": {},
   "outputs": [],
   "source": [
    "#Zone4\n",
    "#Air\n",
    "#dfXY.loc[:,dfXY.columns[(dfXY.columns.str.contains(\".*Zone4BottomAirFlowFeedback.*|.*Zone4TopAirFlowFeedback.*\",regex=True)) & (~dfXY.columns.str.contains(\"ControlValve\",regex=False))]].head(2)\n",
    "dfXY.loc[:,dfXY.columns[(dfXY.columns.str.contains(\".*Zone4BottomAirFlowFeedback.*|.*Zone4TopAirFlowFeedback.*\",regex=True)) & (~dfXY.columns.str.contains(\"ControlValve\",regex=False))]] = dfXY.loc[:,dfXY.columns[(dfXY.columns.str.contains(\".*Zone4BottomAirFlowFeedback.*|.*Zone4TopAirFlowFeedback.*\",regex=True)) & (~dfXY.columns.str.contains(\"ControlValve\",regex=False))]]/51951*100\n",
    "#Gas\n",
    "#dfXY.loc[:,dfXY.columns[(dfXY.columns.str.contains(\".*Zone4BottomGasFlow.*|.*Zone4TopGasFlow.*\",regex=True)) & (~dfXY.columns.str.contains(\"ControlValve\",regex=False))]].head(2)\n",
    "dfXY.loc[:,dfXY.columns[(dfXY.columns.str.contains(\".*Zone4BottomGasFlow.*|.*Zone4TopGasFlow.*\",regex=True)) & (~dfXY.columns.str.contains(\"ControlValve\",regex=False))]] = dfXY.loc[:,dfXY.columns[(dfXY.columns.str.contains(\".*Zone4BottomGasFlow.*|.*Zone4TopGasFlow.*\",regex=True)) & (~dfXY.columns.str.contains(\"ControlValve\",regex=False))]]/3685*100"
   ]
  },
  {
   "cell_type": "code",
   "execution_count": null,
   "id": "427639fbbee0b89d",
   "metadata": {},
   "outputs": [],
   "source": [
    "#Zone5\n",
    "#Air\n",
    "#dfXY.loc[:,dfXY.columns[(dfXY.columns.str.contains(\".*Zone5BottomAirFlowFeedback.*|.*Zone5TopAirFlowFeedback.*\",regex=True)) & (~dfXY.columns.str.contains(\"ControlValve\",regex=False))]].head(2)\n",
    "dfXY.loc[:,dfXY.columns[(dfXY.columns.str.contains(\".*Zone5BottomAirFlowFeedback.*|.*Zone5TopAirFlowFeedback.*\",regex=True)) & (~dfXY.columns.str.contains(\"ControlValve\",regex=False))]] = dfXY.loc[:,dfXY.columns[(dfXY.columns.str.contains(\".*Zone5BottomAirFlowFeedback.*|.*Zone5TopAirFlowFeedback.*\",regex=True)) & (~dfXY.columns.str.contains(\"ControlValve\",regex=False))]]/40318*100\n",
    "#Gas\n",
    "#dfXY.loc[:,dfXY.columns[(dfXY.columns.str.contains(\".*Zone5BottomGasFlow.*|.*Zone5TopGasFlow.*\",regex=True)) & (~dfXY.columns.str.contains(\"ControlValve\",regex=False))]].head(2)\n",
    "dfXY.loc[:,dfXY.columns[(dfXY.columns.str.contains(\".*Zone5BottomGasFlow.*|.*Zone5TopGasFlow.*\",regex=True)) & (~dfXY.columns.str.contains(\"ControlValve\",regex=False))]] = dfXY.loc[:,dfXY.columns[(dfXY.columns.str.contains(\".*Zone5BottomGasFlow.*|.*Zone5TopGasFlow.*\",regex=True)) & (~dfXY.columns.str.contains(\"ControlValve\",regex=False))]]/2860*100"
   ]
  },
  {
   "cell_type": "code",
   "execution_count": null,
   "id": "75608814ff3eb2c5",
   "metadata": {},
   "outputs": [],
   "source": [
    "#Zone6\n",
    "#Air\n",
    "#dfXY.loc[:,dfXY.columns[(dfXY.columns.str.contains(\".*Zone6BottomAirFlowFeedback.*|.*Zone6TopAirFlowFeedback.*\",regex=True)) & (~dfXY.columns.str.contains(\"ControlValve\",regex=False))]].head(2)\n",
    "dfXY.loc[:,dfXY.columns[(dfXY.columns.str.contains(\".*Zone6BottomAirFlowFeedback.*|.*Zone6TopAirFlowFeedback.*\",regex=True)) & (~dfXY.columns.str.contains(\"ControlValve\",regex=False))]] = dfXY.loc[:,dfXY.columns[(dfXY.columns.str.contains(\".*Zone6BottomAirFlowFeedback.*|.*Zone6TopAirFlowFeedback.*\",regex=True)) & (~dfXY.columns.str.contains(\"ControlValve\",regex=False))]]/41004*100\n",
    "#Gas\n",
    "#dfXY.loc[:,dfXY.columns[(dfXY.columns.str.contains(\".*Zone6BottomGasFlow.*|.*Zone6TopGasFlow.*\",regex=True)) & (~dfXY.columns.str.contains(\"ControlValve\",regex=False))]].head(2)\n",
    "dfXY.loc[:,dfXY.columns[(dfXY.columns.str.contains(\".*Zone6BottomGasFlow.*|.*Zone6TopGasFlow.*\",regex=True)) & (~dfXY.columns.str.contains(\"ControlValve\",regex=False))]] = dfXY.loc[:,dfXY.columns[(dfXY.columns.str.contains(\".*Zone6BottomGasFlow.*|.*Zone6TopGasFlow.*\",regex=True)) & (~dfXY.columns.str.contains(\"ControlValve\",regex=False))]]/2860*100"
   ]
  },
  {
   "cell_type": "code",
   "execution_count": null,
   "id": "155afb16ecc58072",
   "metadata": {},
   "outputs": [],
   "source": [
    "#Zone7\n",
    "#AirBottom\n",
    "#dfXY.loc[:,dfXY.columns[(dfXY.columns.str.contains(\".*Zone7BottomAirFlowFeedback.*\",regex=True)) & (~dfXY.columns.str.contains(\"ControlValve\",regex=False))]].head(2)\n",
    "dfXY.loc[:,dfXY.columns[(dfXY.columns.str.contains(\".*Zone7BottomAirFlowFeedback.*\",regex=True)) & (~dfXY.columns.str.contains(\"ControlValve\",regex=False))]] = dfXY.loc[:,dfXY.columns[(dfXY.columns.str.contains(\".*Zone7BottomAirFlowFeedback.*\",regex=True)) & (~dfXY.columns.str.contains(\"ControlValve\",regex=False))]]/26050*100\n",
    "#AirTop\n",
    "#dfXY.loc[:,dfXY.columns[(dfXY.columns.str.contains(\".*Zone7TopAirFlowFeedback.*\",regex=True)) & (~dfXY.columns.str.contains(\"ControlValve\",regex=False))]].head(2)\n",
    "dfXY.loc[:,dfXY.columns[(dfXY.columns.str.contains(\".*Zone7TopAirFlowFeedback.*\",regex=True)) & (~dfXY.columns.str.contains(\"ControlValve\",regex=False))]] = dfXY.loc[:,dfXY.columns[(dfXY.columns.str.contains(\".*Zone7TopAirFlowFeedback.*\",regex=True)) & (~dfXY.columns.str.contains(\"ControlValve\",regex=False))]]/30384*100\n",
    "#GasBottom\n",
    "#dfXY.loc[:,dfXY.columns[(dfXY.columns.str.contains(\".*Zone7BottomGasFlow.*\",regex=True)) & (~dfXY.columns.str.contains(\"ControlValve\",regex=False))]].head(2)\n",
    "dfXY.loc[:,dfXY.columns[(dfXY.columns.str.contains(\".*Zone7BottomGasFlow.*\",regex=True)) & (~dfXY.columns.str.contains(\"ControlValve\",regex=False))]] = dfXY.loc[:,dfXY.columns[(dfXY.columns.str.contains(\".*Zone7BottomGasFlow.*\",regex=True)) & (~dfXY.columns.str.contains(\"ControlValve\",regex=False))]]/1680*100\n",
    "#GasTop\n",
    "#dfXY.loc[:,dfXY.columns[(dfXY.columns.str.contains(\".*Zone7TopGasFlow.*\",regex=True)) & (~dfXY.columns.str.contains(\"ControlValve\",regex=False))]].head(2)\n",
    "dfXY.loc[:,dfXY.columns[(dfXY.columns.str.contains(\".*Zone7TopGasFlow.*\",regex=True)) & (~dfXY.columns.str.contains(\"ControlValve\",regex=False))]] = dfXY.loc[:,dfXY.columns[(dfXY.columns.str.contains(\".*Zone7TopGasFlow.*\",regex=True)) & (~dfXY.columns.str.contains(\"ControlValve\",regex=False))]]/1960*100"
   ]
  },
  {
   "cell_type": "code",
   "execution_count": null,
   "id": "87f2c378b45eb5bd",
   "metadata": {},
   "outputs": [],
   "source": [
    "#Zone8\n",
    "#AirBottom\n",
    "#dfXY.loc[:,dfXY.columns[(dfXY.columns.str.contains(\".*Zone8BottomAirFlowFeedback.*\",regex=True)) & (~dfXY.columns.str.contains(\"ControlValve\",regex=False))]].head(2)\n",
    "dfXY.loc[:,dfXY.columns[(dfXY.columns.str.contains(\".*Zone8BottomAirFlowFeedback.*\",regex=True)) & (~dfXY.columns.str.contains(\"ControlValve\",regex=False))]] = dfXY.loc[:,dfXY.columns[(dfXY.columns.str.contains(\".*Zone8BottomAirFlowFeedback.*\",regex=True)) & (~dfXY.columns.str.contains(\"ControlValve\",regex=False))]]/30384*100\n",
    "#AirTop\n",
    "#dfXY.loc[:,dfXY.columns[(dfXY.columns.str.contains(\".*Zone8TopAirFlowFeedback.*\",regex=True)) & (~dfXY.columns.str.contains(\"ControlValve\",regex=False))]].head(2)\n",
    "dfXY.loc[:,dfXY.columns[(dfXY.columns.str.contains(\".*Zone8TopAirFlowFeedback.*\",regex=True)) & (~dfXY.columns.str.contains(\"ControlValve\",regex=False))]] = dfXY.loc[:,dfXY.columns[(dfXY.columns.str.contains(\".*Zone8TopAirFlowFeedback.*\",regex=True)) & (~dfXY.columns.str.contains(\"ControlValve\",regex=False))]]/26050*100\n",
    "#GasBottom\n",
    "#dfXY.loc[:,dfXY.columns[(dfXY.columns.str.contains(\".*Zone8BottomGasFlow.*\",regex=True)) & (~dfXY.columns.str.contains(\"ControlValve\",regex=False))]].head(2)\n",
    "dfXY.loc[:,dfXY.columns[(dfXY.columns.str.contains(\".*Zone8BottomGasFlow.*\",regex=True)) & (~dfXY.columns.str.contains(\"ControlValve\",regex=False))]] = dfXY.loc[:,dfXY.columns[(dfXY.columns.str.contains(\".*Zone8BottomGasFlow.*\",regex=True)) & (~dfXY.columns.str.contains(\"ControlValve\",regex=False))]]/1960*100\n",
    "#GasTop\n",
    "#dfXY.loc[:,dfXY.columns[(dfXY.columns.str.contains(\".*Zone8TopGasFlow.*\",regex=True)) & (~dfXY.columns.str.contains(\"ControlValve\",regex=False))]].head(2)\n",
    "dfXY.loc[:,dfXY.columns[(dfXY.columns.str.contains(\".*Zone8TopGasFlow.*\",regex=True)) & (~dfXY.columns.str.contains(\"ControlValve\",regex=False))]] = dfXY.loc[:,dfXY.columns[(dfXY.columns.str.contains(\".*Zone8TopGasFlow.*\",regex=True)) & (~dfXY.columns.str.contains(\"ControlValve\",regex=False))]]/1680*100"
   ]
  },
  {
   "cell_type": "code",
   "execution_count": null,
   "id": "f05bccc6db3af3c1",
   "metadata": {},
   "outputs": [],
   "source": [
    "#Show columns with NaN\n",
    "dfXYold.columns[dfXYold.isna().sum().gt(0)]\n",
    "dfXY.columns[dfXY.isna().sum().gt(0)]"
   ]
  },
  {
   "cell_type": "markdown",
   "id": "f2e5d257f8aab0f2",
   "metadata": {
    "collapsed": false,
    "jupyter": {
     "outputs_hidden": false
    }
   },
   "source": [
    "#### Create sort of SteelFamID: clustersGMM"
   ]
  },
  {
   "cell_type": "markdown",
   "id": "42e39fb9c70392e0",
   "metadata": {
    "collapsed": false,
    "jupyter": {
     "outputs_hidden": false
    }
   },
   "source": [
    "#Create sort of SteelFamID\n",
    "#CLUSTERING PYRO2GOALS\n",
    "from sklearn.cluster import DBSCAN\n",
    "from sklearn.mixture import GaussianMixture\n",
    "clustersDBSCAN = DBSCAN(eps=50, min_samples=5).fit_predict(dfXY.pyro2.to_numpy().reshape(-1,1))\n",
    "print(np.unique(clustersDBSCAN))\n",
    "clustersGMM = GaussianMixture(n_components=2).fit(dfXY.pyro2.to_numpy().reshape(-1,1)).predict(dfXY.pyro2.to_numpy().reshape(-1,1))\n",
    "print(np.unique(clustersGMM))\n",
    "\n",
    "fig,axes = plt.subplots(1,2,figsize=(15,6))\n",
    "fig.suptitle(\"Clustering\",fontsize=15)\n",
    "clusteringDBSCAN=pd.merge(right=pd.concat([pd.DataFrame(dfXY.pyro2).reset_index(drop=True),pd.DataFrame(clustersDBSCAN,columns=['clustersDBSCAN'])],axis=1).drop_duplicates(),left=pd.DataFrame(dfXY.pyro2.value_counts()).reset_index(), how='inner',on='pyro2')\n",
    "#sns.scatterplot(data=clustering,x='pyro2',y='count',hue='clusters')\n",
    "ax=sns.barplot(data=clusteringDBSCAN,x='pyro2',y='count',hue='clustersDBSCAN',palette=\"Set2\",ax=axes[0])\n",
    "ax.bar_label(ax.containers[0],fontsize=10)\n",
    "\n",
    "clusteringGMM=pd.merge(right=pd.concat([pd.DataFrame(dfXY.pyro2).reset_index(drop=True),pd.DataFrame(clustersGMM,columns=['clustersGMM'])],axis=1).drop_duplicates(),left=pd.DataFrame(dfXY.pyro2.value_counts()).reset_index(), how='inner',on='pyro2')\n",
    "ax=sns.barplot(data=clusteringGMM,x='pyro2',y='count',hue='clustersGMM',palette=\"Set2\",ax=axes[1],width=.2)#,ax=ax[1]\n",
    "ax.bar_label(ax.containers[0],fontsize=10)\n",
    "fig.tight_layout(pad=3)"
   ]
  },
  {
   "cell_type": "code",
   "execution_count": null,
   "id": "96b160c426a374e6",
   "metadata": {},
   "outputs": [],
   "source": [
    "modelGMM = GaussianMixture(n_components=2).fit(dfXY.pyro2.to_numpy().reshape(-1,1))\n",
    "clustersGMM = modelGMM.predict(dfXY.pyro2.to_numpy().reshape(-1,1))\n",
    "print(np.unique(clustersGMM))\n",
    "\n",
    "fig,ax = plt.subplots(1,1,figsize=(10,4))\n",
    "fig.suptitle(\"Clustering of pyro2goals with GMM\",fontsize=20)\n",
    "#Compute df\n",
    "clusteringGMM=pd.merge(right=pd.concat([pd.DataFrame(dfXY.pyro2).reset_index(drop=True),pd.DataFrame(clustersGMM,columns=['clustersGMM'])],axis=1).drop_duplicates(),left=pd.DataFrame(dfXY.pyro2.value_counts()).reset_index(), how='inner',on='pyro2').sort_values(by=['pyro2'])\n",
    "#Plor barplot\n",
    "sns.barplot(data=clusteringGMM,x='pyro2',y='count',hue='clustersGMM',palette=\"Set2\",width=.2,ax=ax)#,ax=ax[1]\n",
    "#Add labels\n",
    "barRectangles = ax.patches\n",
    "labels = clusteringGMM['count'].values\n",
    "label_i=0\n",
    "#Cannot loop through zip(barRectangles,labels) bc barRect is larger as there are rect in the bins with 0 counts\n",
    "for rect in barRectangles:#zip()stop when the shortest list ends, iterate through rect bars\n",
    "    height = rect.get_height()\n",
    "    if height != 0:\n",
    "        #print(rect.get_x(),height+6,label)\n",
    "        ax.text(x=rect.get_x()+rect.get_width()/2,y=height+6,s=str(int(height)),ha=\"center\",va=\"bottom\",color=\"black\",fontsize=10)#s=str(labels[label_i])\n",
    "        label_i+=1\n",
    "\n",
    "#Make room for all labels in plot\n",
    "ax.set_ylim(top=max(labels)+1500)\n",
    "#Other way, but not centered horizontally as u dont have the width of the bars\n",
    "#for index, value in dfXY.pyro2.value_counts().sort_index().items():\n",
    "#    axes[r,c].text(x=index, y=value, s=value, color='yellow', ha='center')\n",
    "\n",
    "fig.tight_layout(pad=3)"
   ]
  },
  {
   "cell_type": "code",
   "execution_count": null,
   "id": "372860cc8124a1cc",
   "metadata": {},
   "outputs": [],
   "source": [
    "clusteringGMM"
   ]
  },
  {
   "cell_type": "code",
   "execution_count": null,
   "id": "f30cd917d16a813e",
   "metadata": {},
   "outputs": [],
   "source": [
    "#Assign meaningfull labels to clusters\n",
    "a=pd.DataFrame(modelGMM.means_,columns=[\"center\"]).assign(label = lambda x: x.iloc[:,0].map(lambda y: \"HighGoal\" if y==x.max()[0] else \"LowGoal\")).reset_index(names=\"cluster\")\n",
    "a"
   ]
  },
  {
   "cell_type": "code",
   "execution_count": null,
   "id": "6c0e0b82ef348645",
   "metadata": {},
   "outputs": [],
   "source": [
    "#Print pyro2 clusters with new label\n",
    "fig,ax = plt.subplots(1,1,figsize=(10,4))\n",
    "fig.suptitle(\"Clustering of pyro2goals with GMM\",fontsize=20)\n",
    "#Compute df\n",
    "clusteringGMM=clusteringGMM.assign(label=lambda x: x.clustersGMM.map(lambda y: \"HighGoal\" if y==a.loc[a.label==\"HighGoal\",\"cluster\"].values[0] else \"LowGoal\").astype(\"category\"))\n",
    "#Plor barplot\n",
    "sns.barplot(data=clusteringGMM,x='pyro2',y='count',hue='label',palette=\"Set2\",width=.2,ax=ax)#,ax=ax[1]\n",
    "#Add labels\n",
    "barRectangles = ax.patches\n",
    "labels = clusteringGMM['count'].values\n",
    "label_i=0\n",
    "#Cannot loop through zip(barRectangles,labels) bc barRect is larger as there are rect in the bins with 0 counts\n",
    "for rect in barRectangles:#zip()stop when the shortest list ends, iterate through rect bars\n",
    "    height = rect.get_height()\n",
    "    if height != 0:\n",
    "        #print(rect.get_x(),height+6,label)\n",
    "        ax.text(x=rect.get_x()+rect.get_width()/2,y=height+6,s=str(int(height)),ha=\"center\",va=\"bottom\",color=\"black\",fontsize=10)#s=str(labels[label_i])\n",
    "        label_i+=1\n",
    "\n",
    "#Make room for all labels in plot\n",
    "ax.set_ylim(top=max(labels)+1500)\n",
    "fig.tight_layout(pad=3)"
   ]
  },
  {
   "cell_type": "code",
   "execution_count": null,
   "id": "215c8acb1aeff1ef",
   "metadata": {},
   "outputs": [],
   "source": [
    "#Add clusters to dfXY\n",
    "#if dfXY.SteelFamCluster.shape: dfXY.drop(\"SteelFamCluster\",axis=1,inplace=True)\n",
    "dfXY.loc[:,'SteelFamCluster']=pd.DataFrame(clustersGMM,columns=['clustersGMM'],index=dfXY.index,dtype=np.int64).map(lambda y: \"HighGoal\" if y==a.loc[a.label==\"HighGoal\",\"cluster\"].values[0] else \"LowGoal\").astype(\"category\")\n",
    "dfXY=dfXY.copy()\n",
    "dfXY.SteelFamCluster.dtypes"
   ]
  },
  {
   "cell_type": "code",
   "execution_count": null,
   "id": "79b571cf-5633-41e1-9c75-d668fcf8ab46",
   "metadata": {},
   "outputs": [],
   "source": [
    "#Statistic description of numeric vars\n",
    "dfXY_description=dfXY.describe()\n",
    "dfXY_description"
   ]
  },
  {
   "cell_type": "code",
   "execution_count": null,
   "id": "fca43aff-9910-484b-bc44-4268c8f453e7",
   "metadata": {},
   "outputs": [],
   "source": [
    "#Cuts to consider outliers\n",
    "cut_neg = dfXY_description.iloc[1] - 3*dfXY_description.iloc[2] #mean-3*std\n",
    "cut_pos = dfXY_description.iloc[1] + 3*dfXY_description.iloc[2] #mean+3*std\n",
    "cut_neg.name = 'cut-'\n",
    "cut_pos.name = 'cut+'\n",
    "cut_neg = pd.DataFrame(cut_neg).T\n",
    "cut_pos = pd.DataFrame(cut_pos).T\n",
    "tbl_desc = pd.concat([dfXY_description,cut_neg, cut_pos])\n",
    "tbl_desc"
   ]
  },
  {
   "cell_type": "code",
   "execution_count": null,
   "id": "ac28f6220ebabd9d",
   "metadata": {},
   "outputs": [],
   "source": [
    "#Final Tune cut\n",
    "for c in range(tbl_desc.shape[1]):\n",
    "    if tbl_desc.loc['cut-',tbl_desc.columns[c]]<0:\n",
    "        tbl_desc.loc['cut-',tbl_desc.columns[c]]=0\n",
    "    if tbl_desc.columns[c]=='CurrentWidth':\n",
    "        tbl_desc.loc['cut-',tbl_desc.columns[c]]=0 #some widthIDs are smaller than the actual cut-\n",
    "    elif tbl_desc.columns[c]=='NetWeight':\n",
    "        tbl_desc.loc['cut-',tbl_desc.columns[c]]=5000 #min around 20k, if cut for defects would be 10k. To be conservative 5k\n",
    "    elif tbl_desc.columns[c] in tbl_desc.columns[tbl_desc.columns.str.contains('Ratio',regex=False)]:\n",
    "        tbl_desc.loc['cut-',tbl_desc.columns[c]]=0\n",
    "        tbl_desc.loc['cut+',tbl_desc.columns[c]]=4\n",
    "    elif tbl_desc.columns[c] in tbl_desc.columns[tbl_desc.columns.str.contains('.*ControlValve.*|.*CV.*',regex=True)]:\n",
    "        tbl_desc.loc['cut-',tbl_desc.columns[c]]=0\n",
    "        tbl_desc.loc['cut+',tbl_desc.columns[c]]=100\n",
    "    elif tbl_desc.columns[c] in tbl_desc.columns[tbl_desc.columns.str.contains('.*Zone0.*',regex=True) & ~tbl_desc.columns.str.contains('.*Zone0.*Ratio.*',regex=True) & ~tbl_desc.columns.str.contains('.*Temp.*',regex=True)]:#Zone0 is in %\n",
    "        tbl_desc.loc['cut-',tbl_desc.columns[c]]=0\n",
    "        tbl_desc.loc['cut+',tbl_desc.columns[c]]=100\n",
    "    elif tbl_desc.columns[c] in zoneTemp_vars_series[~zoneTemp_vars_series.str.contains(\"CV\",regex=False)]:\n",
    "        if tbl_desc.loc['cut-',tbl_desc.columns[c]]<=500:\n",
    "            tbl_desc.loc['cut-',tbl_desc.columns[c]]=500 #Zone 0 seems to have many values near 0 that are outside the bell\n",
    "    elif tbl_desc.columns[c] in pyro_vars_series[pyro_vars_series.str.contains(\"Temp\",regex=False)]:\n",
    "        tbl_desc.loc['cut-',tbl_desc.columns[c]]=1400 #pyro sensors seem to have many values at 1200 that are outside the bimodal bell, p() bc it is the lower limit of the sensor\n",
    "tbl_desc"
   ]
  },
  {
   "cell_type": "code",
   "execution_count": null,
   "id": "a38fe219b583eda3",
   "metadata": {},
   "outputs": [],
   "source": [
    "tbl_desc.columns[tbl_desc.columns.str.contains('.*ControlValve.*|.*CV.*',regex=True)]"
   ]
  },
  {
   "cell_type": "code",
   "execution_count": null,
   "id": "880219ebf58de6fa",
   "metadata": {},
   "outputs": [],
   "source": [
    "#We see that only Feedback vars have been affected by escalation\n",
    "pd.concat([dfXYold_description.loc[[\"mean\",\"25%\",\"50%\",\"75%\"],zoneAirGas_vars_series],dfXY_description.loc[[\"mean\",\"25%\",\"50%\",\"75%\"],zoneAirGas_vars_series]])\n",
    "pd.concat([dfXYold_description.loc[[\"mean\"],zoneAirGas_vars_series],dfXY_description.loc[[\"mean\"],zoneAirGas_vars_series]])"
   ]
  }
 ],
 "metadata": {
  "kernelspec": {
   "display_name": "Python 3.10 (my_jupyterlab_env)",
   "language": "python",
   "name": "my_jupyterlab_env"
  },
  "language_info": {
   "codemirror_mode": {
    "name": "ipython",
    "version": 3
   },
   "file_extension": ".py",
   "mimetype": "text/x-python",
   "name": "python",
   "nbconvert_exporter": "python",
   "pygments_lexer": "ipython3",
   "version": "3.10.0"
  }
 },
 "nbformat": 4,
 "nbformat_minor": 5
}
