{
 "cells": [
  {
   "cell_type": "code",
   "execution_count": null,
   "id": "9ee80f07e23007ab",
   "metadata": {},
   "outputs": [],
   "source": [
    "import numpy as np\n",
    "import pandas as pd\n",
    "import seaborn as sns\n",
    "import matplotlib.pyplot as plt\n",
    "from sklearn.mixture import GaussianMixture\n",
    "from sklearn.metrics import mean_squared_error, r2_score\n",
    "from sklearn.linear_model import LinearRegression\n",
    "from matplotlib.ticker import PercentFormatter\n",
    "from scipy import stats as st\n",
    "from scipy.stats import norm, beta\n",
    "import matplotlib.ticker as ticker\n",
    "import re\n",
    "import math\n",
    "#from statsmodels.stats.outliers_influence import variance_inflation_factor \n",
    "from statsmodels.tools.tools import add_constant\n",
    "from statsmodels.regression.linear_model import OLS\n",
    "from sklearn.preprocessing import OneHotEncoder\n",
    "from sklearn.preprocessing import OrdinalEncoder"
   ]
  },
  {
   "cell_type": "code",
   "execution_count": null,
   "id": "efcc2c84a7d507a1",
   "metadata": {},
   "outputs": [],
   "source": [
    "####CHECK STORED DF#####\n",
    "# Deserialization\n",
    "with open(\"dfXY.pickle\", \"rb\") as infile:\n",
    "    dfXYPickle = pickle.load(infile)\n",
    "#print(\"Reconstructed object\", dfXYPickle)"
   ]
  },
  {
   "cell_type": "code",
   "execution_count": null,
   "id": "fcb7a070-4c03-4175-8955-13c7d1950f31",
   "metadata": {},
   "outputs": [],
   "source": [
    "dfXY = dfXYPickle.copy()"
   ]
  },
  {
   "cell_type": "code",
   "execution_count": null,
   "id": "4f4d64f64370bfe2",
   "metadata": {},
   "outputs": [],
   "source": [
    "print(dfXY.shape)\n",
    "dfXY.head()"
   ]
  },
  {
   "cell_type": "code",
   "execution_count": null,
   "id": "6fb32896739bd45a",
   "metadata": {},
   "outputs": [],
   "source": [
    "#dfXY.dtypes"
   ]
  },
  {
   "cell_type": "code",
   "execution_count": null,
   "id": "858f70a353a7ac99",
   "metadata": {},
   "outputs": [],
   "source": [
    "dfXYold=dfXY.copy()"
   ]
  },
  {
   "cell_type": "code",
   "execution_count": null,
   "id": "ef94c47b97076fd2",
   "metadata": {},
   "outputs": [],
   "source": [
    "#Remove steelgradeid\n",
    "dfSteelGradeID=dfXY.SteelGradeID.copy()\n",
    "dfXY.drop(\"SteelGradeID\",inplace=True,axis=1)"
   ]
  },
  {
   "cell_type": "code",
   "execution_count": null,
   "id": "e46620b62af434e0",
   "metadata": {},
   "outputs": [],
   "source": [
    "#Drop RWP sensors: not in use\n",
    "dfRWP=dfXY[['AP1_FurnaceRWPEntryTemp','AP1_FurnaceRWPExitTemp']].copy()\n",
    "dfXY.drop(['AP1_FurnaceRWPEntryTemp','AP1_FurnaceRWPExitTemp'],axis=1,inplace=True)"
   ]
  },
  {
   "cell_type": "code",
   "execution_count": null,
   "id": "2960e31f9a25f7bc",
   "metadata": {},
   "outputs": [],
   "source": [
    "#Check for nan\n",
    "dfXY.isna().sum().sum()"
   ]
  },
  {
   "cell_type": "code",
   "execution_count": null,
   "id": "482620651e6cb898",
   "metadata": {},
   "outputs": [],
   "source": [
    "#Numeric vars\n",
    "numerical_var_series=dfXY[dfXY.columns[dfXY.dtypes == np.float64]].columns#.to_list()#[0:5]\n",
    "print(type(numerical_var_series))\n",
    "print(len(numerical_var_series))\n",
    "numerical_var_series"
   ]
  },
  {
   "cell_type": "code",
   "execution_count": null,
   "id": "61dfbb9d06566941",
   "metadata": {},
   "outputs": [],
   "source": [
    "#Create the different groups of columns to plot\n",
    "proceso_vars_series=dfXY[numerical_var_series[(~numerical_var_series.str.contains(\"AP1_Furnace\",regex=False)) & (~numerical_var_series.str.contains(\"pyro2\",regex=False))]].columns#.head(1)\n",
    "zoneTemp_vars_series=dfXY[numerical_var_series[numerical_var_series.str.contains(\".*Zone.*Temp.*\",regex=True)]].columns#.head(1)\n",
    "\n",
    "zoneAirGas_vars_series=dfXY[numerical_var_series[numerical_var_series.str.contains(\".*Zone.*Air.*|.*Zone.*Gas.*\",regex=True)]].columns#.head(1)\n",
    "\n",
    "recuperator_vars_series=dfXY[numerical_var_series[numerical_var_series.str.contains(\"AP1_Furnace.*Dilution|Recuperator|RWP|Combustion.*\",regex=True)]].columns#.head(1)\n",
    "\n",
    "pyro_vars_series=dfXY[numerical_var_series[numerical_var_series.str.contains(\".*pyro.*|.*Pyro.*\",regex=True)]].columns#.head(1)\n",
    "\n",
    "rest_vars_series=dfXY[[var for var in numerical_var_series.to_list() if var not in proceso_vars_series.to_list() and var not in zoneTemp_vars_series.to_list() and var not in zoneAirGas_vars_series.to_list() and var not in recuperator_vars_series.to_list() and var not in pyro_vars_series.to_list()]].columns#.head(1)"
   ]
  },
  {
   "cell_type": "code",
   "execution_count": null,
   "id": "a8eff21b0ddc7982",
   "metadata": {},
   "outputs": [],
   "source": [
    "#Zone1 air SP are scaled with outdated scale, rescale:outdated scale: 47565 SCFH->updated scale: 59655 SCFH\n",
    "dfXY.loc[:,zoneAirGas_vars_series[zoneAirGas_vars_series.str.contains(\".*Zone1.*AirFlowSet[Pp]oint.*\",regex=True)]]=dfXY.loc[:,zoneAirGas_vars_series[zoneAirGas_vars_series.str.contains(\".*Zone1.*AirFlowSet[Pp]oint.*\",regex=True)]]*47565/59655"
   ]
  },
  {
   "cell_type": "code",
   "execution_count": null,
   "id": "c700b25d04cba7f4",
   "metadata": {},
   "outputs": [],
   "source": [
    "#Zone2 air SP are scaled with outdated scale, rescale:outdated scale: 47565 SCFH->updated scale: 59655 SCFH\n",
    "dfXY.loc[:,zoneAirGas_vars_series[zoneAirGas_vars_series.str.contains(\".*Zone2.*AirFlowSet[Pp]oint.*\",regex=True)]]=dfXY.loc[:,zoneAirGas_vars_series[zoneAirGas_vars_series.str.contains(\".*Zone2.*AirFlowSet[Pp]oint.*\",regex=True)]]*47565/59655"
   ]
  },
  {
   "cell_type": "markdown",
   "id": "c95b7b28-8fbd-4d10-b241-63b909b9b516",
   "metadata": {
    "collapsed": false,
    "jupyter": {
     "outputs_hidden": false
    }
   },
   "source": [
    "dfXY=dfXYold.copy()"
   ]
  },
  {
   "cell_type": "markdown",
   "id": "1e149b5c-1307-4e0b-addc-b8d4e323c9ba",
   "metadata": {},
   "source": [
    "## Remove outliers"
   ]
  },
  {
   "cell_type": "markdown",
   "id": "02e5cc6b-a6e1-4e4e-bc30-50a38ffb0c1d",
   "metadata": {
    "ExecuteTime": {
     "end_time": "2024-06-10T13:15:07.569161Z",
     "start_time": "2024-06-10T13:15:07.491545Z"
    },
    "collapsed": false,
    "jupyter": {
     "outputs_hidden": false
    },
    "scrolled": true
   },
   "source": [
    "#Make Ratio outliers nan to not loose data\n",
    "dfXY.loc[:,dfXY.columns[dfXY.columns.str.contains(\"Ratio\",regex=False)]] = dfXY.loc[:,dfXY.columns[dfXY.columns.str.contains(\"Ratio\",regex=False)]].map(lambda x: x if ((x>=0) & (x<=4)) else np.nan,na_action='ignore')\n",
    "#Check Ratios below 4\n",
    "dfXY[dfXY.columns[dfXY.columns.str.contains(\"Ratio\",regex=False)]].gt(4).sum(axis=0)\n",
    "#Check now nans where ratios were above 4\n",
    "dfXY[dfXY.columns[dfXY.columns.str.contains(\"Ratio\",regex=False)]].isna().sum(axis=0)"
   ]
  },
  {
   "cell_type": "code",
   "execution_count": null,
   "id": "63edc164-5382-46e7-8de8-1f05dd8ba458",
   "metadata": {},
   "outputs": [],
   "source": [
    "dfXY_description=dfXY.describe()\n",
    "dfXY_description"
   ]
  },
  {
   "cell_type": "code",
   "execution_count": null,
   "id": "aff91f8c-6add-47be-bc8b-0205d0162958",
   "metadata": {},
   "outputs": [],
   "source": [
    "#Cuts to consider outliers\n",
    "cut_neg = dfXY_description.iloc[1] - 3*dfXY_description.iloc[2] #mean-3*std\n",
    "cut_pos = dfXY_description.iloc[1] + 3*dfXY_description.iloc[2] #mean+3*std\n",
    "cut_neg.name = 'cut-'\n",
    "cut_pos.name = 'cut+'\n",
    "cut_neg = pd.DataFrame(cut_neg).T\n",
    "cut_pos = pd.DataFrame(cut_pos).T\n",
    "tbl_desc = pd.concat([dfXY_description,cut_neg, cut_pos])\n",
    "tbl_desc"
   ]
  },
  {
   "cell_type": "code",
   "execution_count": null,
   "id": "6ee0e977-d7f9-4fb6-8fec-74f507547ade",
   "metadata": {},
   "outputs": [],
   "source": [
    "#Tune cut\n",
    "for c in range(tbl_desc.shape[1]):\n",
    "    if tbl_desc.loc['cut-',tbl_desc.columns[c]]<0:\n",
    "        tbl_desc.loc['cut-',tbl_desc.columns[c]]=0\n",
    "    if tbl_desc.columns[c]=='AP1_FurnaceWidth':\n",
    "        tbl_desc.loc['cut-',tbl_desc.columns[c]]=0 #some widthIDs are smaller than the actual cut-\n",
    "    elif tbl_desc.columns[c]=='NetWeight':\n",
    "        tbl_desc.loc['cut-',tbl_desc.columns[c]]=5000 #min around 20k, if cut for defects would be 10k. To be conservative 5k\n",
    "    elif tbl_desc.columns[c] in tbl_desc.columns[tbl_desc.columns.str.contains('Ratio',regex=False)]:\n",
    "        tbl_desc.loc['cut-',tbl_desc.columns[c]]=0\n",
    "        tbl_desc.loc['cut+',tbl_desc.columns[c]]=4\n",
    "    elif tbl_desc.columns[c] in tbl_desc.columns[tbl_desc.columns.str.contains(\"P1_FurnaceZone.*[C].*[V].*\",regex=True)]:\n",
    "        tbl_desc.loc['cut-',tbl_desc.columns[c]]=0\n",
    "        tbl_desc.loc['cut+',tbl_desc.columns[c]]=100 #CV vars are in %\n",
    "    elif  tbl_desc.columns[c] in zoneAirGas_vars_series[zoneAirGas_vars_series.str.contains(\"Zone0\",regex=False) & ~zoneAirGas_vars_series.str.contains(\"Ratio\",regex=False)]:\n",
    "        tbl_desc.loc['cut-',tbl_desc.columns[c]]=0\n",
    "        tbl_desc.loc['cut+',tbl_desc.columns[c]]=100 #Zone0 airgas vars are in %\n",
    "    elif tbl_desc.columns[c] in zoneTemp_vars_series[~zoneTemp_vars_series.str.contains(\"CV\",regex=False)]:\n",
    "        if tbl_desc.loc['cut-',tbl_desc.columns[c]]<=500:\n",
    "            tbl_desc.loc['cut-',tbl_desc.columns[c]]=500 #Zone 0 seems to have many values near 0 that are outside the bell\n",
    "    elif tbl_desc.columns[c] in pyro_vars_series[pyro_vars_series.str.contains(\"Temp\",regex=False)]:\n",
    "        tbl_desc.loc['cut-',tbl_desc.columns[c]]=1400 #pyro sensors seem to have many values at 1200 that are outside the bimodal bell, p() bc it is the lower limit of the sensor\n",
    "tbl_desc"
   ]
  },
  {
   "cell_type": "code",
   "execution_count": null,
   "id": "01cc7707-d7c0-4397-baff-6bae9d6c92d9",
   "metadata": {},
   "outputs": [],
   "source": [
    "#Remove outliers\n",
    "for var in tbl_desc.columns:\n",
    "    dfXY.loc[:,var]=dfXY.loc[:,var].map(lambda x: x if ((x>=tbl_desc.loc[\"cut-\",var]) & (x<=tbl_desc.loc[\"cut+\",var])) else np.nan,na_action='ignore')\n",
    "dfXY.isna().sum(axis=0)"
   ]
  },
  {
   "cell_type": "code",
   "execution_count": null,
   "id": "d8d2b5fd-1cd3-4012-9a51-286447610ce8",
   "metadata": {},
   "outputs": [],
   "source": [
    "#Remove outliers when LineSpeed=0\n",
    "for t in dfXY.index:\n",
    "    if (dfXY.loc[t,\"AP1_FurnaceLineSpeed\"]==0) | (np.isnan(dfXY.loc[t,\"AP1_FurnaceLineSpeed\"])):\n",
    "        dfXY.loc[t,dfXY.columns[~dfXY.columns.str.contains(\"AP1_FurnaceLineSpeed\")]] = np.nan\n",
    "dfXY.isna().sum(axis=0)"
   ]
  },
  {
   "cell_type": "markdown",
   "id": "9e0b963af1cdeb3b",
   "metadata": {
    "collapsed": false,
    "jupyter": {
     "outputs_hidden": false
    }
   },
   "source": [
    "## Create sort of SteelFamID: SteelFamCluster"
   ]
  },
  {
   "cell_type": "code",
   "execution_count": null,
   "id": "a4927bf5fba491df",
   "metadata": {},
   "outputs": [],
   "source": [
    "modelGMM = GaussianMixture(n_components=2).fit(dfXY.pyro2.dropna().to_numpy().reshape(-1,1))\n",
    "clustersGMM = modelGMM.predict(dfXY.pyro2.dropna().to_numpy().reshape(-1,1))\n",
    "print(np.unique(clustersGMM))\n",
    "c=0\n",
    "fig,ax = plt.subplots(1,1,figsize=(10,4),facecolor='white')\n",
    "fig.suptitle(\"Clustering of pyro2goals with GMM\",fontsize=20)\n",
    "#Compute df\n",
    "clusteringGMM_Long = pd.DataFrame(dfXY.pyro2,columns=['pyro2'])#.reset_index(drop=True)\n",
    "for t in dfXY.index:\n",
    "    if np.isnan(clusteringGMM_Long.loc[t,\"pyro2\"]):\n",
    "        clusteringGMM_Long.loc[t,\"SteelFamCluster\"] = np.nan\n",
    "    else:\n",
    "        clusteringGMM_Long.loc[t,\"SteelFamCluster\"] = clustersGMM[c]\n",
    "        c+=1\n",
    "clusteringGMM=pd.merge(right=clusteringGMM_Long.drop_duplicates().reset_index(drop=True),left=pd.DataFrame(dfXY.pyro2.value_counts()).reset_index(), how='inner',on='pyro2').sort_values(by=['pyro2'])\n",
    "  \n",
    "#Plor barplot\n",
    "sns.barplot(data=clusteringGMM,x='pyro2',y='count',hue='SteelFamCluster',palette=\"Set2\",width=.2,ax=ax)#,ax=ax[1]\n",
    "#Add labels\n",
    "barRectangles = ax.patches\n",
    "labels = clusteringGMM['count'].values\n",
    "label_i=0\n",
    "#Cannot loop through zip(barRectangles,labels) bc barRect is larger as there are rect in the bins with 0 counts\n",
    "for rect in barRectangles:#zip()stop when the shortest list ends, iterate through rect bars\n",
    "    height = rect.get_height()\n",
    "    if height != 0:\n",
    "        #print(rect.get_x(),height+6,label)\n",
    "        ax.text(x=rect.get_x()+rect.get_width()/2,y=height+6,s=str(int(height)),ha=\"center\",va=\"bottom\",color=\"black\",fontsize=10)#s=str(labels[label_i])\n",
    "        label_i+=1\n",
    "\n",
    "#Make room for all labels in plot\n",
    "ax.set_ylim(top=max(labels)+1500)\n",
    "#Other way, but not centered horizontally as u dont have the width of the bars\n",
    "#for index, value in dfXY.pyro2.value_counts().sort_index().items():\n",
    "#    axes[r,c].text(x=index, y=value, s=value, color='yellow', ha='center')\n",
    "\n",
    "fig.tight_layout(pad=3)\n",
    "clusteringGMM"
   ]
  },
  {
   "cell_type": "code",
   "execution_count": null,
   "id": "9052ed1ab0415f43",
   "metadata": {},
   "outputs": [],
   "source": [
    "#Assign meaningfull labels to clusters\n",
    "a=pd.DataFrame(modelGMM.means_,columns=[\"center\"]).assign(label = lambda x: x.iloc[:,0].map(lambda y: \"HighGoal\" if y==x.max()[0] else \"LowGoal\")).reset_index(names=\"cluster\")\n",
    "a"
   ]
  },
  {
   "cell_type": "code",
   "execution_count": null,
   "id": "353c19c47530cd58",
   "metadata": {},
   "outputs": [],
   "source": [
    "#Check mapping works before applying to df\n",
    "# Defining all the conditions for labelling\n",
    "def condition(y):\n",
    "    if y==a.loc[a.label==\"HighGoal\",\"cluster\"].values[0]:\n",
    "        return \"HighGoal\"\n",
    "    elif np.isnan(y):\n",
    "        return np.nan\n",
    "    elif y==a.loc[a.label==\"LowGoal\",\"cluster\"].values[0]:\n",
    "        return \"LowGoal\"\n",
    "    else:\n",
    "        pass\n",
    "clusteringGMM_Long.assign(labelsGMM = lambda x: x.SteelFamCluster.map(condition).astype(\"category\")).drop_duplicates()\n",
    "#pd.DataFrame(clustersGMM,columns=['clustersGMM'],index=dfXY.index,dtype=np.int64).map(lambda y: \"HighGoal\" if y==a.loc[a.label==\"HighGoal\",\"cluster\"][0] else \"LowGoal\").astype(\"category\").copy()"
   ]
  },
  {
   "cell_type": "code",
   "execution_count": null,
   "id": "59159949bb52a7c1",
   "metadata": {},
   "outputs": [],
   "source": [
    "#Print pyro2 clusters with new label\n",
    "fig,ax = plt.subplots(1,1,figsize=(10,4))\n",
    "fig.suptitle(\"Clustering of pyro2goals with GMM\",fontsize=20)\n",
    "#Compute df\n",
    "clusteringGMM=clusteringGMM.assign(labelsGMM = lambda x: x.SteelFamCluster.map(condition).astype(\"category\"))\n",
    "#Plor barplot\n",
    "sns.barplot(data=clusteringGMM,x='pyro2',y='count',hue='labelsGMM',palette=\"Set2\",width=.2,ax=ax)#,ax=ax[1]\n",
    "#Add labels\n",
    "barRectangles = ax.patches\n",
    "labels = clusteringGMM['count'].values\n",
    "label_i=0\n",
    "#Cannot loop through zip(barRectangles,labels) bc barRect is larger as there are rect in the bins with 0 counts\n",
    "for rect in barRectangles:#zip()stop when the shortest list ends, iterate through rect bars\n",
    "    height = rect.get_height()\n",
    "    if height != 0:\n",
    "        #print(rect.get_x(),height+6,label)\n",
    "        ax.text(x=rect.get_x()+rect.get_width()/2,y=height+6,s=str(int(height)),ha=\"center\",va=\"bottom\",color=\"black\",fontsize=10)#s=str(labels[label_i])\n",
    "        label_i+=1\n",
    "\n",
    "#Make room for all labels in plot\n",
    "ax.set_ylim(top=max(labels)+1500)\n",
    "fig.tight_layout(pad=3)"
   ]
  },
  {
   "cell_type": "code",
   "execution_count": null,
   "id": "fdd27a820832ad2f",
   "metadata": {},
   "outputs": [],
   "source": [
    "#Add clusters to dfXY\n",
    "#if dfXY.SteelFamCluster.shape: dfXY.drop(\"SteelFamCluster\",axis=1,inplace=True)\n",
    "dfXY.loc[:,'SteelFamCluster']=clusteringGMM_Long.SteelFamCluster.map(condition).astype(\"category\")\n",
    "dfXY=dfXY.copy()\n",
    "dfXY.SteelFamCluster.dtypes"
   ]
  },
  {
   "cell_type": "code",
   "execution_count": null,
   "id": "2f930361741accfa",
   "metadata": {},
   "outputs": [],
   "source": [
    "dfXY.head()"
   ]
  },
  {
   "cell_type": "markdown",
   "id": "1ea7849a7a358087",
   "metadata": {
    "collapsed": false,
    "jupyter": {
     "outputs_hidden": false
    }
   },
   "source": [
    "## Create sort of WidthFamilyID: WidthFamCluster"
   ]
  },
  {
   "cell_type": "code",
   "execution_count": null,
   "id": "965364e83b8cdc8c",
   "metadata": {},
   "outputs": [],
   "source": [
    "WidthFamCluster = GaussianMixture(n_components=2,random_state=1).fit(dfXY.CurrentWidth.dropna().to_numpy().reshape(-1,1)).predict(dfXY.CurrentWidth.dropna().to_numpy().reshape(-1,1))\n",
    "print(np.unique(WidthFamCluster))\n",
    "c=0\n",
    "fig,ax = plt.subplots(1,1,figsize=(10,5),facecolor='white')\n",
    "fig.suptitle(\"Clustering of WidthFamilyID with GMM\",fontsize=20)\n",
    "#Compute df\n",
    "clusteringGMM = pd.DataFrame(dfXY.CurrentWidth,columns=['CurrentWidth'])#.reset_index(drop=True)\n",
    "for t in dfXY.index:\n",
    " #clusteringGMM=pd.concat([pd.DataFrame(dfXY.CurrentWidth.dropna(),columns=['CurrentWidth']).reset_index(drop=True),pd.DataFrame(WidthFamCluster,columns=['WidthFamCluster'])],axis=1)\n",
    "    if np.isnan(clusteringGMM.loc[t,\"CurrentWidth\"]):\n",
    "        clusteringGMM.loc[t,\"WidthFamCluster\"] = np.nan\n",
    "    else:\n",
    "        clusteringGMM.loc[t,\"WidthFamCluster\"] = WidthFamCluster[c]\n",
    "        c+=1\n",
    "    #Plor histogram\n",
    "sns.histplot(data=clusteringGMM,x='CurrentWidth',hue='WidthFamCluster',palette=\"Set2\",ax=ax,kde=True)#,ax=ax[1]\n",
    "\n",
    "fig.tight_layout(pad=3)\n",
    "print(dfXY.shape,clusteringGMM.shape)\n",
    "print(clusteringGMM.WidthFamCluster.unique())\n",
    "clusteringGMM"
   ]
  },
  {
   "cell_type": "code",
   "execution_count": null,
   "id": "a9475b84e2ce2c31",
   "metadata": {},
   "outputs": [],
   "source": [
    "#Add clusters to dfXY\n",
    "dfXY.loc[:,'WidthFamCluster']=clusteringGMM[[\"WidthFamCluster\"]].astype(\"category\")\n",
    "dfXY=dfXY.copy()\n",
    "dfXY.WidthFamCluster.dtypes"
   ]
  },
  {
   "cell_type": "code",
   "execution_count": null,
   "id": "885cf2f5daebb0d3",
   "metadata": {},
   "outputs": [],
   "source": [
    "dfXY.head(1)"
   ]
  },
  {
   "cell_type": "markdown",
   "id": "b7c09675ba27761",
   "metadata": {
    "collapsed": false,
    "jupyter": {
     "outputs_hidden": false
    }
   },
   "source": [
    "## Create rampFdbk, soakFdbk, CSdeltaTmin features"
   ]
  },
  {
   "cell_type": "code",
   "execution_count": null,
   "id": "b7523c587c703e6f",
   "metadata": {},
   "outputs": [],
   "source": [
    "#CSdeltaT:Cross Section Time in Fce\n",
    "#iterate timestamps of dfXY, not dfXY_coils\n",
    "v0=0\n",
    "time = dfXY.index[0]\n",
    "dfXY['CSdeltaTmin'] = np.nan\n",
    "frow0=0\n",
    "for i,t in enumerate(dfXY.index): #compute CS t of coil in Fce\n",
    "    if (i==0) & (dfXY.AP1_FurnaceLineSpeed.loc[t] == 0): #First row:\n",
    "        frow0=1\n",
    "        \n",
    "    if (dfXY.AP1_FurnaceLineSpeed.loc[t] == 0) & (frow0==1):\n",
    "        dfXY.loc[t,'CSdeltaTmin']=np.nan #dont know how much time will remain v=0\n",
    "    elif (dfXY.AP1_FurnaceLineSpeed.loc[t] != 0) & (frow0==1):\n",
    "        frow0=0\n",
    "        \n",
    "    if (dfXY.AP1_FurnaceLineSpeed.loc[t] == 0) & (v0==0) & (frow0!=1): #CS t inf\n",
    "        v0=1\n",
    "        time = t #update timeindex when v=0\n",
    "    elif (v0==1) & (dfXY.AP1_FurnaceLineSpeed.loc[t] != 0):\n",
    "       dfXY.loc[time:dfXY.index[i-1],'CSdeltaTmin'] = (dfXY.index[i]-time).total_seconds()/60 #if (dfXY.index[i-1]-time).total_seconds()/60 when v=0 only 1row, CSdeltaTmin=0.0 \n",
    "       dfXY.loc[t,'CSdeltaTmin']=160/dfXY.loc[t,'AP1_FurnaceLineSpeed']\n",
    "       v0=0\n",
    "    elif (v0==0) & (dfXY.AP1_FurnaceLineSpeed.loc[t] != 0): \n",
    "        dfXY.loc[t,'CSdeltaTmin']=160/dfXY.loc[t,'AP1_FurnaceLineSpeed'] \n",
    "        \n",
    "    if i == dfXY.shape[0]-1: #Last row\n",
    "        if (v0==1) & (dfXY.AP1_FurnaceLineSpeed.loc[t] == 0):\n",
    "            dfXY.loc[t,'CSdeltaTmin']=np.nan #dont know how much time will remain v=0 \n",
    "#dfXY.CSdeltaTmin\n",
    "dfXY=dfXY.copy()\n",
    "dfXY.head(1)"
   ]
  },
  {
   "cell_type": "code",
   "execution_count": null,
   "id": "3a9d86d7c3fd777d",
   "metadata": {},
   "outputs": [],
   "source": [
    "dfXY.CSdeltaTmin.describe()"
   ]
  },
  {
   "cell_type": "code",
   "execution_count": null,
   "id": "e5f6f6ea0c9753ee",
   "metadata": {},
   "outputs": [],
   "source": [
    "#Check nan values in CSdeltaTmin\n",
    "print(\"Nan in CSdeltaTmin:\", dfXY.CSdeltaTmin.isna().sum())\n",
    "#Check inf values in CSdeltaTmin\n",
    "print(\"inf in CSdeltaTmin:\",dfXY.CSdeltaTmin[dfXY.CSdeltaTmin.isin([np.inf,-np.inf])].count())\n",
    "#Check Linespeed 0: inf CSdeltaTmin are bc LineSpeed=0\n",
    "print(\"Rows linespeed=0:\", dfXY[dfXY.AP1_FurnaceLineSpeed==0].AP1_FurnaceLineSpeed.count())\n",
    "#Check coils when linespeed 0\n",
    "print(\"unique coils when linespeed 0:\",dfXY_coils.loc[dfXY[dfXY.AP1_FurnaceLineSpeed==0].index].unique())\n",
    "#Change inf by nan\n",
    "# dfXY.CSdeltaTmin=dfXY.CSdeltaTmin.map(lambda x: np.nan if np.isinf(x) else x,na_action='ignore')\n",
    "# dfXY.CSdeltaTmin[dfXY.CSdeltaTmin.isin([np.inf,-np.inf])].count()\n",
    "#Check statistical measure values in CSdeltaTmin\n",
    "dfXY[dfXY.AP1_FurnaceLineSpeed==0][['AP1_FurnaceLineSpeed','CSdeltaTmin']]"
   ]
  },
  {
   "cell_type": "code",
   "execution_count": null,
   "id": "2054e3bcbc394607",
   "metadata": {},
   "outputs": [],
   "source": [
    "#Coil Time in Fce: len dfXY_coils!=dfXY bc of grades mismatches\n",
    "#iterate timestamps of dfXY, not dfXY_coils\n",
    "coil = dfXY_coils.loc[dfXY.index[0]]\n",
    "time = dfXY.index[0]\n",
    "dfCoilInFce = pd.DataFrame(dfXY_coils.loc[dfXY.index].copy())\n",
    "dfCoilInFce['TFce'] = 0 \n",
    "dfCoilInFce.TFce = pd.to_timedelta(dfCoilInFce.TFce)#dataframe with coil number and t of coil in fce\n",
    "for i,t in enumerate(dfXY.index): #compute t of coil in fce\n",
    "    if dfCoilInFce.AP1_FurnaceCoilID.loc[t] != coil: #new coil entered furnace\n",
    "        dfCoilInFce.loc[time:dfCoilInFce.index[i-1],'TFce'] = dfCoilInFce.index[i-1]-time\n",
    "        coil = dfCoilInFce.AP1_FurnaceCoilID.loc[t] #update coil in furnace\n",
    "        time = t #update timeindex when actual coil enters furnace\n",
    "    if i == dfCoilInFce.shape[0]-1: #Last row\n",
    "        dfCoilInFce.loc[time:dfCoilInFce.index[i],'TFce'] = dfCoilInFce.index[i]-time\n",
    "\n",
    "dfCoilInFce.drop_duplicates()           "
   ]
  },
  {
   "cell_type": "markdown",
   "id": "1b6ddf588aaed06d",
   "metadata": {
    "collapsed": false,
    "jupyter": {
     "outputs_hidden": false
    }
   },
   "source": [
    "coil = dfXY_coils.unique()[6]#6,4,5,7,8,9,10,11,13,14,15,...\n",
    "dfcoil=pd.DataFrame(dfXY_coils)[pd.DataFrame(dfXY_coils).AP1_FurnaceCoilID==coil]\n",
    "dfcoil\n",
    "#dfXY.loc[dfcoil.index[0]:dfcoil.index[len(dfcoil.index)-1],[dfXY.columns[dfXY.columns.str.contains('.*Zone.*Temp.*Setpoint',regex=True)].values.tolist()]] \n",
    "TempFdbk=pd.melt(dfXY.loc[dfcoil.index[0]:dfcoil.index[len(dfcoil.index)-1],dfXY.columns.str.contains('.*Zone.TopTemp|AP1_FurnaceZone0MasterTempFdbk',regex=True)].reset_index(),id_vars=['ts'])\n",
    "TempSP=pd.melt(dfXY.loc[dfcoil.index[0]:dfcoil.index[len(dfcoil.index)-1],dfXY.columns.str.contains('.*Zone.*Temp.*Setpoint',regex=True)].reset_index(),id_vars=['ts'])\n",
    "#Plot\n",
    "fig, ax = plt.subplots(2,1,figsize=(20,15),facecolor='white')\n",
    "fig.suptitle(\"Zone Temp\",fontsize=20)\n",
    "#SP\n",
    "ax[0].set_title(\"SP for {}\".format(coil),fontsize=10)\n",
    "sns.lineplot(data=TempSP,x='variable',y='value',estimator=np.median,ax=ax[0],lw=1,errorbar='sd')#,hue='variable',estimator=np.median\n",
    "sns.scatterplot(data=TempSP,x='variable',y='value',ax=ax[0],markers={'s':20,'marker':'o'},hue='ts')#,hue='variable'\n",
    "#Fbk\n",
    "ax[1].set_title(\"Fdbk for {}\".format(coil),fontsize=10)\n",
    "sns.lineplot(data=TempFdbk,x='variable',y='value',ax=ax[1],estimator=np.median,lw=1,errorbar='sd')#,hue='variable'\n",
    "sns.scatterplot(data=TempFdbk,x='variable',y='value',ax=ax[1],markers={'s':20,'marker':'o'},hue='ts')#,hue='variable'\n",
    "#dfXY.loc[dfcoil.index[0]:dfcoil.index[len(dfcoil.index)-1],dfXY.columns.str.contains('.*Zone.TopTemp|AP1_FurnaceZone0MasterTempFdbk',regex=True)]\n",
    "#dfXY.loc[dfcoil.index[0]:dfcoil.index[len(dfcoil.index)-1],dfXY.columns.str.contains('.*Zone.*Temp.*Setpoint',regex=True)]"
   ]
  },
  {
   "cell_type": "code",
   "execution_count": null,
   "id": "68d97203d8edf113",
   "metadata": {},
   "outputs": [],
   "source": [
    "#Iterate all coils and count weird/davay distributions (include TurndownOn var to see if its related):len dfXY_coils!=dfXY bc of grades mismatches\n",
    "#iterate timestamps of dfXY, not dfXY_coils\n",
    "coil = dfXY_coils.loc[dfXY.index[0]]\n",
    "time = dfXY.index[0]\n",
    "tot=1\n",
    "weirdList = []#(initime,endtime,coil,TurndownOn.bool)\n",
    "davayList = []#(initime,endtime,coil,TurndownOn.bool)\n",
    "for i,t in enumerate(dfXY.index):\n",
    "    if dfXY_coils.loc[t] != coil: #new coil entered furnace\n",
    "        #Long-format DF SP & Fdbk\n",
    "        TempFdbk=pd.melt(dfXY.loc[time:dfXY.index[i-1],dfXY.columns.str.contains('.*Zone.TopTemp|AP1_FurnaceZone0MasterTempFdbk',regex=True)].reset_index(),id_vars=['ts'])\n",
    "        TempSP=pd.melt(dfXY.loc[time:dfXY.index[i-1],dfXY.columns.str.contains('.*Zone.*Temp.*Setpoint',regex=True)].reset_index(),id_vars=['ts'])\n",
    "        \n",
    "        if (TempFdbk.groupby(['variable']).mean('value').min()==TempFdbk.groupby(['variable']).mean('value').iloc[0]).value: #if shape not weird (Z0 is min)\n",
    "            #Check if reason of weird shape is TurndownOn variable\n",
    "            TurndownOn = dfXY.loc[time:dfXY.index[i-1],dfXY.columns.str.contains('.*Zone.*TurndownOn',regex=True)].astype(np.float64).sum(axis=0).sum()>0#.apply(pd.unique,axis=0)\n",
    "            davayList.append((time,dfXY.index[i-1],coil,TurndownOn))\n",
    "            \n",
    "        else: \n",
    "            #Check if reason of weird shape is TurndownOn variable\n",
    "            TurndownOn = dfXY.loc[time:dfXY.index[i-1],dfXY.columns.str.contains('.*Zone.*TurndownOn',regex=True)].astype(np.float64).sum(axis=0).sum()>0#.apply(pd.unique,axis=0)\n",
    "            weirdList.append((time,dfXY.index[i-1],coil,TurndownOn))\n",
    "        \n",
    "        tot+=1\n",
    "        coil = dfXY_coils.loc[t] #update coil in furnace\n",
    "        time = t #update timeindex when actual coil enters furnace\n",
    "        \n",
    "    if i == dfXY.shape[0]-1: #Last row\n",
    "        #Long-format DF SP & Fdbk\n",
    "        TempFdbk=pd.melt(dfXY.loc[time:dfXY.index[i],dfXY.columns.str.contains('.*Zone.TopTemp|AP1_FurnaceZone0MasterTempFdbk',regex=True)].reset_index(),id_vars=['ts'])\n",
    "        TempSP=pd.melt(dfXY.loc[time:dfXY.index[i],dfXY.columns.str.contains('.*Zone.*Temp.*Setpoint',regex=True)].reset_index(),id_vars=['ts'])\n",
    "\n",
    "        if (TempFdbk.groupby(['variable']).mean('value').min()==TempFdbk.groupby(['variable']).mean('value').iloc[0]).value: #if shape not weird (Z0 is min)\n",
    "            #Check if reason of weird shape is TurndownOn variable\n",
    "            TurndownOn = dfXY.loc[time:dfXY.index[i],dfXY.columns.str.contains('.*Zone.*TurndownOn',regex=True)].astype(np.float64).sum(axis=0).sum()>0#.apply(pd.unique,axis=0)\n",
    "            davayList.append((time,dfXY.index[i],coil,TurndownOn))\n",
    "        else: \n",
    "            #Check if reason of weird shape is TurndownOn variable\n",
    "            TurndownOn = dfXY.loc[time:dfXY.index[i],dfXY.columns.str.contains('.*Zone.*TurndownOn',regex=True)].astype(np.float64).sum(axis=0).sum()>0#.apply(pd.unique,axis=0)\n",
    "            weirdList.append((time,dfXY.index[i],coil,TurndownOn))\n",
    "        \n",
    "if tot == len(weirdList)+len(davayList):\n",
    "    print(\"There are {} weird temp distributions and {} davay distributions, which make a total of {}\".format(len(weirdList),len(davayList),tot))\n",
    "    print(\"There are {} unique coils\".format(len(dfXY_coils.loc[dfXY.index].unique())))\n",
    "else:\n",
    "    print(\"WARNING: There are {} weird temp distributions and {} davay distributions, which make a total of {}\".format(len(weirdList),len(davayList),len(weirdList)+len(davayList)))\n",
    "    print(\"There are {} total temp distributions\".format(tot))\n",
    "\n",
    "#Print ex\n",
    "fig,ax=plt.subplots(2,1,figsize=(20,10),facecolor='white')\n",
    "fig.suptitle('Example of temp distributions',fontsize=20)\n",
    "#Print an example of weird distribution\n",
    "coil = weirdList[1]#first tuple (tini,tend,coil)\n",
    "TempFdbkWeird=pd.melt(dfXY.loc[coil[0]:coil[1],dfXY.columns.str.contains('.*Zone.TopTemp|AP1_FurnaceZone0MasterTempFdbk',regex=True)].reset_index(),id_vars=['ts'])\n",
    "ax[0].set_title(\"Fdbk of weird temp distribution for coil {}, with TurndownOn {}\".format(coil[2],coil[3]),fontsize=10)\n",
    "sns.lineplot(data=TempFdbkWeird,x='variable',y='value',ax=ax[0],estimator=np.mean,lw=1,errorbar='sd')#,hue='variable'\n",
    "sns.scatterplot(data=TempFdbkWeird,x='variable',y='value',ax=ax[0],markers={'s':20,'marker':'o'},hue='ts')#,hue='variable'\n",
    "ax[0].set_ylabel(\"Temp\",fontsize=10,labelpad=15)\n",
    "ax[0].set_xlabel(\"Variable\",fontsize=10,labelpad=15)\n",
    "ax[0].tick_params('x', labelrotation=45)\n",
    "#Print an example of davay distribution\n",
    "coil = davayList[1]#first tuple (tini,tend,coil)\n",
    "TempFdbkDavay=pd.melt(dfXY.loc[coil[0]:coil[1],dfXY.columns.str.contains('.*Zone.TopTemp|AP1_FurnaceZone0MasterTempFdbk',regex=True)].reset_index(),id_vars=['ts'])\n",
    "ax[1].set_title(\"Fdbk of davay temp distribution for coil {}, with TurndownOn {}\".format(coil[2],coil[3]),fontsize=10)\n",
    "sns.scatterplot(data=TempFdbkDavay,x='variable',y='value',ax=ax[1],markers={'s':20,'marker':'o'},hue='ts')#,hue='variable'\n",
    "#sns.scatterplot(data=TempFdbkDavay.groupby(\"variable\").mean().reset_index(),x='variable',y='value',ax=ax[1],marker='x',size=300,color='fuchsia')#,hue='variable','c':'black',markers={'s':80,'marker':'x'}\n",
    "sns.lineplot(data=TempFdbkDavay,x='variable',y='value',ax=ax[1],estimator=np.mean,lw=1,errorbar='sd',markers=True,marker='x')#,hue='variable',color='red'\n",
    "ax[1].set_ylabel(\"Temp\",fontsize=10,labelpad=15)#,markers={'s':80,'marker':'x','color':'red'}\n",
    "ax[1].set_xlabel(\"Variable\",fontsize=10,labelpad=15)\n",
    "#plt.xticks(rotation=45)\n",
    "ax[1].tick_params('x', labelrotation=45)\n",
    "fig.tight_layout(pad=3)\n",
    "plt.savefig(r\"C:\\Users\\js5296\\Desktop\\NAS\\Projects\\AP1_Furnace_Control\\EDAs\\new\\MV\\newTempRampSoak.png\", bbox_inches=\"tight\")"
   ]
  },
  {
   "cell_type": "code",
   "execution_count": null,
   "id": "393f5dd6-f59d-45ce-8f3b-b6654d2eea55",
   "metadata": {},
   "outputs": [],
   "source": [
    "#SHOW TEM DISTRIBUTION FOR SP\n",
    "#sns.scatterplot(data=TempFdbkDavay.groupby(\"variable\").mean().reset_index(),x='variable',y='value',marker='x',size=200,color='fuchsia',markers={'s':200,'marker':'x'})#,hue='variable','c':'black'\n",
    "coil = davayList[2]\n",
    "TempSPDavay=pd.melt(dfXY.loc[coil[0]:coil[1],dfXY.columns.str.contains('.*Zone.*Temp.*Setpoint',regex=True)].reset_index(),id_vars=['ts'])\n",
    "#TempFdbkDavay=pd.melt(dfXY.loc[coil[0]:coil[1],dfXY.columns.str.contains('.*Zone.TopTemp|AP1_FurnaceZone0MasterTempFdbk',regex=True)].reset_index(),id_vars=['ts'])\n",
    "fig,ax=plt.subplots(1,1,figsize=(20,10),facecolor='white')\n",
    "fig.suptitle('Example of tempSP distributions',fontsize=20)\n",
    "ax.set_title(\"SP of temp distribution for coil {}, with TurndownOn {}\".format(coil[2],coil[3]),fontsize=10)\n",
    "ax.set_ylabel(\"Temp\",fontsize=10,labelpad=15)\n",
    "ax.set_xlabel(\"Variable\",fontsize=10,labelpad=15)\n",
    "sns.lineplot(data=TempSPDavay,x='variable',y='value',ax=ax,estimator=np.mean,lw=1,errorbar='sd')#,hue='variable'\n",
    "sns.scatterplot(data=TempSPDavay,x='variable',y='value',ax=ax,markers={'s':20,'marker':'o'},hue='ts')#,hue='variable'\n",
    "plt.xticks(rotation=45)\n",
    "fig.tight_layout(pad=3)"
   ]
  },
  {
   "cell_type": "code",
   "execution_count": null,
   "id": "aa20a075-9446-4ab2-9291-b4c7639eb35c",
   "metadata": {},
   "outputs": [],
   "source": [
    "#SHOW TEM DISTRIBUTION AVERAGED BY STEELGRADEFAM (2 DISTRIBUTIONS): USE IT TO CREATE rampFdbk/soakFdbk VARIABLES\n",
    "#TempFdbk=pd.melt(dfXY.loc[time:dfXY.index[i-1],dfXY.columns.str.contains('.*Zone.TopTemp|AP1_FurnaceZone0MasterTempFdbk',regex=True)].reset_index(),id_vars=['ts'])\n",
    "#dfXY[dfXY.columns[dfXY.columns.str.contains('.*Zone.TopTemp|AP1_FurnaceZone0MasterTempFdbk|SteelFamCluster',regex=True)]].groupby(\"SteelFamCluster\").std().reset_index()\n",
    "fig,axes=plt.subplots(figsize=(20,7))\n",
    "#sns.lineplot(data=pd.melt(dfXY[dfXY.columns[dfXY.columns.str.contains('.*Zone.TopTemp|AP1_FurnaceZone0MasterTempFdbk|SteelFamCluster',regex=True)]].groupby(\"SteelFamCluster\").mean().reset_index(),id_vars=['SteelFamCluster']),x='variable',y='value',hue='SteelFamCluster',lw=1,marker='o',errorbar='sd',markers=True,palette=\"dark:#5A9_r\",ax=axes)#markers={'s':20,'marker':'o'}\n",
    "dfRampSoak = dfXY[dfXY.columns[dfXY.columns.str.contains('.*Zone.TopTemp|AP1_FurnaceZone0MasterTempFdbk|SteelFamCluster',regex=True)]]#.groupby(\"SteelFamCluster\").mean().reset_index()\n",
    "sns.lineplot(data=pd.melt(dfRampSoak,id_vars=['SteelFamCluster']),x='variable',y='value',hue='SteelFamCluster',estimator=np.mean,err_style=\"band\",errorbar='sd',markers=True,lw=1.5,marker='o',palette=\"dark:#5A9_r\",ax=axes)#markers={'s':20,'marker':'o'}\n",
    "fig.suptitle('Temp distributions by SteelFamCluster',fontsize=30)\n",
    "axes.tick_params(axis='x', labelsize=10)\n",
    "axes.tick_params(axis='y', labelsize=10)\n",
    "axes.set_xlabel(\"VARIABLE\",fontsize=10,labelpad=10)\n",
    "axes.set_ylabel(\"VALUE\",fontsize=10,labelpad=15)\n",
    "plt.xticks(rotation=45)\n",
    "fig.tight_layout(pad=3)\n",
    "plt.savefig(r\"C:\\Users\\js5296\\Desktop\\NAS\\Projects\\AP1_Furnace_Control\\EDAs\\new\\MV\\newAvgTempRampSoak.png\", bbox_inches=\"tight\")\n",
    "\n",
    "#Add variables to dfXY\n",
    "dfRampSoak = dfRampSoak.groupby(\"SteelFamCluster\").mean().reset_index()\n",
    "dfRampSoak = dfXY[dfXY.columns[dfXY.columns.str.contains('.*Zone.TopTemp|AP1_FurnaceZone0MasterTempFdbk|SteelFamCluster',regex=True)]].groupby(\"SteelFamCluster\").mean()#.reset_index()\n",
    "dfRampSoak[\"rampFdbk\"] = dfRampSoak.apply(lambda x: x[\"AP1_FurnaceZone1TopTemp\"]-x[\"AP1_FurnaceZone0MasterTempFdbk\"],axis=1)\n",
    "dfRampSoak[\"soakFdbk\"] = dfRampSoak.iloc[:,1:-2].mean(axis=1)\n",
    "\n",
    "dfXY.loc[:,\"rampFdbk\"] = dfXY.loc[:,\"SteelFamCluster\"].cat.rename_categories({\"HighGoal\":1,\"LowGoal\":0}).astype(float)\n",
    "dfXY.loc[:,'rampFdbk']=dfXY[[\"rampFdbk\"]].map(lambda y: dfRampSoak.loc[\"HighGoal\",\"rampFdbk\"] if y==1 else dfRampSoak.loc[\"LowGoal\",\"rampFdbk\"]) \n",
    "\n",
    "dfXY.loc[:,\"soakFdbk\"] = dfXY.loc[:,\"SteelFamCluster\"].cat.rename_categories({\"HighGoal\":1,\"LowGoal\":0}).astype(float)\n",
    "dfXY.loc[:,'soakFdbk']=dfXY[[\"soakFdbk\"]].map(lambda y: dfRampSoak.loc[\"HighGoal\",\"soakFdbk\"] if y==1 else dfRampSoak.loc[\"LowGoal\",\"soakFdbk\"])\n",
    "dfRampSoak"
   ]
  },
  {
   "cell_type": "code",
   "execution_count": null,
   "id": "33c2d2b9-fcf9-406d-a65e-9e3429fbecb5",
   "metadata": {},
   "outputs": [],
   "source": []
  },
  {
   "cell_type": "markdown",
   "id": "f306e334f22e5d76",
   "metadata": {
    "collapsed": false,
    "jupyter": {
     "outputs_hidden": false
    }
   },
   "source": [
    "## Create TurndownOn compressed column"
   ]
  },
  {
   "cell_type": "code",
   "execution_count": null,
   "id": "16a4d8a809075213",
   "metadata": {},
   "outputs": [],
   "source": [
    "TurnDownOn = dfXY[dfXY.columns[dfXY.columns.str.contains('.*TurndownOn',regex=True)]].copy()\n",
    "TurnDownOnCompressed=(dfXY[dfXY.columns[dfXY.columns.str.contains('.*TurndownOn',regex=True)]]==1).sum(axis=1).astype(np.int64).map(lambda x: int(1) if (x>0) else int(x),na_action='ignore').astype(\"category\")\n",
    "dfXY.drop(dfXY.columns[dfXY.columns.str.contains('.*TurndownOn',regex=True)],axis=1,inplace=True)\n",
    "dfXY = pd.merge(left=dfXY,right=pd.DataFrame(TurnDownOnCompressed,columns=['TurnDownOnCompressed'],dtype=\"category\"),how='inner',right_index=True,left_index=True)\n",
    "dfXY.head(1)"
   ]
  },
  {
   "cell_type": "code",
   "execution_count": null,
   "id": "fda85dde2567b2db",
   "metadata": {},
   "outputs": [],
   "source": [
    "#Check no duplicated values introduced\n",
    "dfXY.isna().sum(axis=0)\n",
    "dfXY.index.duplicated().sum()"
   ]
  },
  {
   "cell_type": "markdown",
   "id": "0824671d-368a-407b-8720-01619a377de5",
   "metadata": {},
   "source": [
    "## Final outlier detection"
   ]
  },
  {
   "cell_type": "code",
   "execution_count": null,
   "id": "83f58316-1853-465a-bd22-d01f17d5150e",
   "metadata": {},
   "outputs": [],
   "source": [
    "#Remove outliers when LineSpeed=0\n",
    "for t in dfXY.index:\n",
    "    if (dfXY.loc[t,\"AP1_FurnaceLineSpeed\"]==0) | (np.isnan(dfXY.loc[t,\"AP1_FurnaceLineSpeed\"])):\n",
    "        dfXY.loc[t,dfXY.columns[~dfXY.columns.str.contains(\"AP1_FurnaceLineSpeed\")]] = np.nan\n",
    "dfXY.isna().sum(axis=0)"
   ]
  },
  {
   "cell_type": "code",
   "execution_count": null,
   "id": "008b03e5-b289-4b08-b4ca-d5d3a60890eb",
   "metadata": {},
   "outputs": [],
   "source": [
    "CSdeltaTmin_describe=pd.DataFrame(dfXY.CSdeltaTmin.describe())\n",
    "CSdeltaTmin_describe.loc[\"cut-\",\"CSdeltaTmin\"]=CSdeltaTmin_describe.loc[\"mean\",\"CSdeltaTmin\"]-3*CSdeltaTmin_describe.loc[\"std\",\"CSdeltaTmin\"]\n",
    "CSdeltaTmin_describe.loc[\"cut+\",\"CSdeltaTmin\"]=CSdeltaTmin_describe.loc[\"mean\",\"CSdeltaTmin\"]+3*CSdeltaTmin_describe.loc[\"std\",\"CSdeltaTmin\"]\n",
    "CSdeltaTmin_describe\n",
    "tbl_desc.loc[:,\"CSdeltaTmin\"]=CSdeltaTmin_describe\n",
    "tbl_desc"
   ]
  },
  {
   "cell_type": "code",
   "execution_count": null,
   "id": "394564e3-c0bd-404e-ad26-a77dd73b6962",
   "metadata": {},
   "outputs": [],
   "source": [
    "#Tune cut\n",
    "for c in range(tbl_desc.shape[1]):\n",
    "    if tbl_desc.loc['cut-',tbl_desc.columns[c]]<0:\n",
    "        tbl_desc.loc['cut-',tbl_desc.columns[c]]=0\n",
    "    if tbl_desc.columns[c]=='AP1_FurnaceWidth':\n",
    "        tbl_desc.loc['cut-',tbl_desc.columns[c]]=0 #some widthIDs are smaller than the actual cut-\n",
    "    elif tbl_desc.columns[c]=='NetWeight':\n",
    "        tbl_desc.loc['cut-',tbl_desc.columns[c]]=5000 #min around 20k, if cut for defects would be 10k. To be conservative 5k\n",
    "    elif tbl_desc.columns[c] in tbl_desc.columns[tbl_desc.columns.str.contains('Ratio',regex=False)]:\n",
    "        tbl_desc.loc['cut-',tbl_desc.columns[c]]=0\n",
    "        tbl_desc.loc['cut+',tbl_desc.columns[c]]=4\n",
    "    elif tbl_desc.columns[c] in tbl_desc.columns[tbl_desc.columns.str.contains(\"P1_FurnaceZone.*[C].*[V].*\",regex=True)]:\n",
    "        tbl_desc.loc['cut-',tbl_desc.columns[c]]=0\n",
    "        tbl_desc.loc['cut+',tbl_desc.columns[c]]=100 #CV vars are in %\n",
    "    elif  tbl_desc.columns[c] in zoneAirGas_vars_series[zoneAirGas_vars_series.str.contains(\"Zone0\",regex=False) & ~zoneAirGas_vars_series.str.contains(\"Ratio\",regex=False)]:\n",
    "        tbl_desc.loc['cut-',tbl_desc.columns[c]]=0\n",
    "        tbl_desc.loc['cut+',tbl_desc.columns[c]]=100 #Zone0 airgas vars are in %\n",
    "    elif tbl_desc.columns[c] in zoneTemp_vars_series[~zoneTemp_vars_series.str.contains(\"CV\",regex=False)]:\n",
    "        if tbl_desc.loc['cut-',tbl_desc.columns[c]]<=500:\n",
    "            tbl_desc.loc['cut-',tbl_desc.columns[c]]=500 #Zone 0 seems to have many values near 0 that are outside the bell\n",
    "    elif tbl_desc.columns[c] in pyro_vars_series[pyro_vars_series.str.contains(\"Temp\",regex=False)]:\n",
    "        tbl_desc.loc['cut-',tbl_desc.columns[c]]=1400 #pyro sensors seem to have many values at 1200 that are outside the bimodal bell, p() bc it is the lower limit of the sensor\n",
    "tbl_desc"
   ]
  },
  {
   "cell_type": "code",
   "execution_count": null,
   "id": "e6297967-4046-4fac-aec4-65d9e0075366",
   "metadata": {},
   "outputs": [],
   "source": [
    "#Remove outliers from CSdeltaTmin\n",
    "dfXY.loc[:,\"CSdeltaTmin\"]=dfXY.loc[:,\"CSdeltaTmin\"].map(lambda x: x if ((x>=tbl_desc.loc[\"cut-\",\"CSdeltaTmin\"]) & (x<=tbl_desc.loc[\"cut+\",\"CSdeltaTmin\"])) else np.nan,na_action='ignore')\n",
    "dfXY.isna().sum(axis=0)"
   ]
  },
  {
   "cell_type": "code",
   "execution_count": null,
   "id": "6fb374d2-0c6a-40e2-872f-1bfc82146420",
   "metadata": {},
   "outputs": [],
   "source": []
  },
  {
   "cell_type": "markdown",
   "id": "8247a10f-6bc2-4805-87f5-f2773a6eaf88",
   "metadata": {
    "ExecuteTime": {
     "end_time": "2024-06-10T13:15:27.419734Z",
     "start_time": "2024-06-10T13:15:27.404727Z"
    },
    "collapsed": false,
    "jupyter": {
     "outputs_hidden": false
    }
   },
   "source": [
    "## Group analysis"
   ]
  },
  {
   "cell_type": "code",
   "execution_count": null,
   "id": "dc268c94-4a9a-4786-96d0-0b9afa3446b4",
   "metadata": {},
   "outputs": [],
   "source": []
  },
  {
   "cell_type": "code",
   "execution_count": null,
   "id": "dc78dc40474a4ef5",
   "metadata": {},
   "outputs": [],
   "source": [
    "#Numeric vars\n",
    "numerical_var_series=dfXY[dfXY.columns[dfXY.dtypes == np.float64]].columns#.to_list()#[0:5]\n",
    "print(type(numerical_var_series))\n",
    "print(len(numerical_var_series))\n",
    "numerical_var_series"
   ]
  },
  {
   "cell_type": "code",
   "execution_count": null,
   "id": "ba1c0339dbf7cd8d",
   "metadata": {},
   "outputs": [],
   "source": [
    "#Categorical vars\n",
    "categorical_var=dfXY[dfXY.columns[dfXY.dtypes == \"category\"]].columns\n",
    "print(type(categorical_var))\n",
    "print(len(categorical_var))\n",
    "categorical_var"
   ]
  },
  {
   "cell_type": "code",
   "execution_count": null,
   "id": "7f04669d9215d4eb",
   "metadata": {},
   "outputs": [],
   "source": [
    "proceso_vars_series"
   ]
  },
  {
   "cell_type": "code",
   "execution_count": null,
   "id": "8fcdd6d07cfaf912",
   "metadata": {},
   "outputs": [],
   "source": [
    "# dfXY_mx=dfXY.corr()\n",
    "# sns.heatmap(dfXY_mx, annot=True, cmap='Blues')"
   ]
  },
  {
   "cell_type": "code",
   "execution_count": null,
   "id": "5cdc9c6806f19736",
   "metadata": {},
   "outputs": [],
   "source": [
    "dfXY=np.round(dfXY,2)\n",
    "dfXY.head(1)"
   ]
  },
  {
   "cell_type": "code",
   "execution_count": null,
   "id": "9db560e88af99018",
   "metadata": {},
   "outputs": [],
   "source": [
    "#Define func avg zones of furnace\n",
    "def func_get_dataReg(data:pd.DataFrame):# Expects [pyro2,pyro2Fdbk,zones], where data=df[pyro,pyroFdbk,zones].groupby(pyro2).mean().reset_index()\n",
    "    dataF=data.iloc[:,[0,1,2]].rename(columns={data.columns[2]:'X'})\n",
    "    for i in range(3,data.shape[1]):\n",
    "        data1=data.iloc[:,[0,1,i]].rename(columns={data.columns[i]:'X'})\n",
    "        dataF=pd.concat([dataF,data1],axis=0)\n",
    "    return dataF.groupby(\"pyro2\").mean().reset_index()#Returns the mean value of all vars (avg the furnace zones) for each pyro2goal [pyro2,pyro2Fdbk,X]."
   ]
  },
  {
   "cell_type": "code",
   "execution_count": null,
   "id": "a6dd2f8d71ab0104",
   "metadata": {},
   "outputs": [],
   "source": [
    "#Define func avg Bottom\\Top by Zone\n",
    "def func_avg_zone(l:list):#Averages Top/Bottom values for each zone\n",
    "    df=pd.DataFrame(np.zeros((dfXY.shape[0],len(l)//2)))\n",
    "    df.iloc[:,:]=np.nan\n",
    "    i=0\n",
    "    j=0\n",
    "    while i < len(l)//2:#j<9\n",
    "        df.iloc[:,i]=dfXY.loc[:,[l[j],l[j+1]]].mean(axis=1)\n",
    "        #print(\"{} vs {}\".format(l[j],l[j+1]))\n",
    "        j+=2\n",
    "        i+=1\n",
    "    df=pd.concat([df.reset_index(drop=True),pd.DataFrame(dfXY[[\"AP1_FurnacePyro2Temp\",\"grade\",\"TurnDownOnCompressed\",\"WidthFamCluster\",\"SteelFamCluster\"]].reset_index(drop=True))],axis=1)\n",
    "    df.columns=[\"Zone0\",\"Zone1\",\"Zone2\",\"Zone3\",\"Zone4\",\"Zone5\",\"Zone6\",\"Zone7\",\"Zone8\",\"AP1_FurnacePyro2Temp\",\"grade\",\"TurnDownOnCompressed\",\"WidthFamCluster\",\"SteelFamCluster\"]\n",
    "    return df"
   ]
  },
  {
   "cell_type": "markdown",
   "id": "c32e5d06441d8e9a",
   "metadata": {
    "collapsed": false,
    "jupyter": {
     "outputs_hidden": false
    }
   },
   "source": [
    "if None:\n",
    "    print(\"None\")\n",
    "    \n",
    "if [\"hdgsiu\",\"skudgs\"]:\n",
    "    print(\"List\")\n",
    "a=pd.DataFrame({\"A\": [1, 2, 3], \"B\": [4, 5, 6]}).rename(columns={\"A\":\"Peepe\"})[[\"Peepe\",\"B\",\"B\"]]\n",
    "a.loc[:,~a.columns.duplicated()]\n",
    "a.loc[:,[\"Peepe\"]]#.columns.duplicated()"
   ]
  },
  {
   "cell_type": "code",
   "execution_count": null,
   "id": "16c5113514ff7915",
   "metadata": {},
   "outputs": [],
   "source": [
    "#Define func plot regression\n",
    "def func_plot_reg(nrow:int,ncol:int,ylist:list,x1list:list,x2list:list=None,ylabel:str=None,x1label:str=None,x2label:str=None,Zone:bool=False,Avg:bool=False,totlist:list=None,title:str=\"scatter\",kde:bool=False):\n",
    "    if totlist:\n",
    "        tot=totlist\n",
    "        T=True\n",
    "    else: \n",
    "        T=False \n",
    "        tot=[0]#no tot plotted\n",
    "    t=0\n",
    "    col=ncol\n",
    "    row=nrow\n",
    "    #row=(len(zone)//col+1)+2#+2 for the 2 scatterplots of SP/Fdbk of all zones integrated\n",
    "    hue = [\"grade\",\"TurnDownOnCompressed\",\"WidthFamCluster\",\"SteelFamCluster\"]\n",
    "    X1 = True\n",
    "    \n",
    "    zone=[\"Zone0\",\"Zone1\",\"Zone2\",\"Zone3\",\"Zone4\",\"Zone5\",\"Zone6\",\"Zone7\",\"Zone8\"]\n",
    "    z=0\n",
    "    \n",
    "    #Initialize values\n",
    "    scatter=dfXY[ylist+x1list]\n",
    "    reg=dfXY[ylist+x1list]\n",
    "    scatter2=dfXY[ylist+x1list]\n",
    "    reg2=dfXY[ylist+x1list]\n",
    "    onevsone=False\n",
    "    onevsn=False\n",
    "    n1vsm_ZA=False\n",
    "\n",
    "    #Check if its 1vs1, 1vsn noZone or 1vsn Zone\n",
    "    if Zone & Avg:#nvsm,1vsn Zone & Avg\n",
    "        scatter=pd.concat([pd.DataFrame(dfXY[ylist+[\"pyro2\"]].reset_index(drop=True)),func_avg_zone(x1list).iloc[:,:]],axis=1)\n",
    "        scatter=scatter.loc[:,~scatter.columns.duplicated()]\n",
    "        reg=pd.concat([pd.DataFrame(dfXY[[\"pyro2\"]+ylist].reset_index(drop=True)),func_avg_zone(x1list).iloc[:,[0,1,2,3,4,5,6,7,8,9]]],axis=1)\n",
    "        reg=reg.loc[:,~reg.columns.duplicated()].groupby(\"pyro2\").mean().reset_index()#.iloc[:,[0,19]+list(range(1,19))]\n",
    "        n1vsm_ZA=True\n",
    "        if len(ylist)==1:\n",
    "            scatter.rename(columns={ylist[0]:\"Y\"},inplace=True)\n",
    "            reg.rename(columns={ylist[0]:\"Y\"},inplace=True)\n",
    "        if x2list:\n",
    "            scatter2=pd.concat([pd.DataFrame(dfXY[ylist+[\"pyro2\"]].reset_index(drop=True)),func_avg_zone(x2list).iloc[:,:]],axis=1)\n",
    "            scatter2=scatter2.loc[:,~scatter2.columns.duplicated()]\n",
    "            reg2=pd.concat([pd.DataFrame(dfXY[[\"pyro2\"]+ylist].reset_index(drop=True)),func_avg_zone(x2list).iloc[:,[0,1,2,3,4,5,6,7,8,9]]],axis=1)\n",
    "            reg2=reg2.loc[:,~reg2.columns.duplicated()].groupby(\"pyro2\").mean().reset_index()#.iloc[:,[0,19]+list(range(1,19))]\n",
    "            if len(ylist)==1:\n",
    "                scatter2.rename(columns={ylist[0]:\"Y\"},inplace=True)\n",
    "                reg2.rename(columns={ylist[0]:\"Y\"},inplace=True)\n",
    "    elif (~Zone) & (x2list==None):#(1vs1, 1vsn) noZone\n",
    "        if (len(ylist)==1) & (len(x1list)==1):#1vs1 noZone\n",
    "            zone=hue.copy()\n",
    "            onevsone=True\n",
    "            reg=dfXY[[\"pyro2\"]+ylist+x1list]\n",
    "            reg=reg.loc[:,~reg.columns.duplicated()].groupby(\"pyro2\").mean().reset_index().rename(columns={ylist[0]:\"Y\",x1list[0]:\"X\"})\n",
    "        elif (len(ylist)>1) & (len(x1list)>1):#mean(m)vsn noZone (tempvsX)\n",
    "            onevsn=True\n",
    "            zone=x1list.copy()\n",
    "            scatter=pd.concat([pd.DataFrame(dfXY[ylist].mean(axis=1),columns=[\"Y\"]),dfXY[zone+hue]],axis=1)\n",
    "            reg=pd.concat([pd.DataFrame(dfXY[ylist].mean(axis=1),columns=[\"Y\"]),dfXY[zone+[\"pyro2\"]]],axis=1).groupby(\"pyro2\").mean().reset_index()#.iloc[:,[len(zone)-1+2]+list(range(len(zone)-1+2))].groupby(...\n",
    "        elif (len(ylist)==1) & (len(x1list)>1):#1vsn (pyro2vsX)\n",
    "            onevsn=True\n",
    "            zone=x1list.copy()\n",
    "            scatter=(dfXY[[\"pyro2\"]+ylist+x1list+hue])\n",
    "            scatter=scatter.loc[:,~scatter.columns.duplicated()].rename(columns={ylist[0]:\"Y\"})\n",
    "            reg=(dfXY[[\"pyro2\"]+ylist+x1list])\n",
    "            reg=reg.loc[:,~reg.columns.duplicated()].groupby(\"pyro2\").mean().reset_index().rename(columns={ylist[0]:\"Y\"})\n",
    "            \n",
    "    #Remove duplicated columns added twice\n",
    "    scatter=scatter.loc[:,~scatter.columns.duplicated()]\n",
    "    reg=reg.loc[:,~reg.columns.duplicated()]\n",
    "    scatter2=scatter2.loc[:,~scatter2.columns.duplicated()]\n",
    "    reg2=reg2.loc[:,~reg2.columns.duplicated()]\n",
    "    \n",
    "    fig,axes = plt.subplots(row,col,figsize=(20,(row*20/5)+2),facecolor='white')\n",
    "    fig.suptitle(\"{} by {}\".format(title,hue[3]),fontsize=30)\n",
    "    for r in range(row):\n",
    "        for c in range(col):\n",
    "            if z<len(zone):\n",
    "                if X1:\n",
    "                    if n1vsm_ZA:#nvsm,1vsn Zone and Avg\n",
    "                        if len(ylist)==1:\n",
    "                            sns.scatterplot(data=scatter,x=zone[z],y=\"Y\",ax=axes[r,c],hue=hue[3],palette=\"pastel\")#,size=20\n",
    "                            if kde & (scatter[zone[z]].std()!=0) & (scatter[\"Y\"].std()!=0):\n",
    "                                sns.kdeplot(data=scatter,x=zone[z],y=\"Y\",levels=5,thresh=0.2,alpha=0.5,hue=hue[3],ax=axes[r,c],palette=[\"green\",\"purple\"])#,levels=5,thresh=0.2,palette=\"dark:#5A9_r\n",
    "                            sns.regplot(data=reg,x=zone[z],y=\"Y\",ax=axes[r,c],color='black',line_kws={'lw':2,'color':'fuchsia'},order=1,scatter=True,marker='x',scatter_kws={'s':40},x_ci=None,ci=None)#,marker='x',scatter_kws={'s':20}\n",
    "                            if (len(reg.Y.unique())>1) & (len(reg[zone[z]].unique())>1):\n",
    "                                nan = np.logical_or(reg.Y.isna().to_numpy(), reg[zone[z]].isna().to_numpy())#OR of na values in X and Y, as pearsonr doesnt like nans\n",
    "                                axes[r,c].legend(['r\\u00b2={:.2f}, p={:.2E}'.format(st.pearsonr(reg.Y[~nan],reg[zone[z]][~nan])[0]**2,st.pearsonr(reg.Y[~nan],reg[zone[z]][~nan])[1])],fontsize='large')\n",
    "                        else:\n",
    "                            sns.scatterplot(data=scatter,x=zone[z],y=ylist[z],ax=axes[r,c],hue=hue[3],palette=\"pastel\")#,size=20\n",
    "                            if kde & (scatter[zone[z]].std()!=0) & (scatter[ylist[z]].std()!=0):\n",
    "                                sns.kdeplot(data=scatter,x=zone[z],y=ylist[z],levels=5,thresh=0.2,alpha=0.5,hue=hue[3],ax=axes[r,c],palette=[\"green\",\"purple\"])#,levels=5,thresh=0.2,palette=\"dark:#5A9_r\n",
    "                            sns.regplot(data=reg,x=zone[z],y=ylist[z],ax=axes[r,c],color='black',line_kws={'lw':2,'color':'fuchsia'},order=1,scatter=True,marker='x',scatter_kws={'s':40},x_ci=None,ci=None)#,marker='x',scatter_kws={'s':20}\n",
    "                            if (len(reg[ylist[z]].unique())>1) & (len(reg[zone[z]].unique())>1):\n",
    "                                nan = np.logical_or(reg[ylist[z]].isna().to_numpy(), reg[zone[z]].isna().to_numpy())#OR of na values in X and Y, as pearsonr doesnt like nans\n",
    "                                axes[r,c].legend(['r\\u00b2={:.2f}, p={:.2E}'.format(st.pearsonr(reg[ylist[z]][~nan],reg[zone[z]][~nan])[0]**2,st.pearsonr(reg[ylist[z]][~nan],reg[zone[z]][~nan])[1])],fontsize='large')\n",
    "                            \n",
    "                    elif onevsn:#mean(Y)vsn or 1vsn\n",
    "                        sns.scatterplot(scatter,x=zone[z],y=\"Y\",ax=axes[r,c],hue=hue[3],palette=\"pastel\")#,size=20\n",
    "                        if kde & (scatter[zone[z]].std()!=0) & (scatter[\"Y\"].std()!=0):\n",
    "                            sns.kdeplot(data=scatter,x=zone[z],y=\"Y\",levels=5,thresh=0.2,alpha=0.5,hue=hue[3],ax=axes[r,c],palette=[\"green\",\"purple\"])#,levels=5,thresh=0.2,palette=\"dark:#5A9_r\n",
    "                        sns.regplot(data=reg,x=zone[z],y=\"Y\",ax=axes[r,c],color='black',line_kws={'lw':2,'color':'fuchsia'},order=1,scatter=True,marker='x',scatter_kws={'s':40},x_ci=None,ci=None)#,marker='x',scatter_kws={'s':20}  \n",
    "                        if (len(reg.Y.unique())>1) & (len(reg[zone[z]].unique())>1):\n",
    "                            nan = np.logical_or(reg.Y.isna().to_numpy(), reg[zone[z]].isna().to_numpy())#OR of na values in X and Y, as pearsonr doesnt like nans\n",
    "                            axes[r,c].legend(['r\\u00b2={:.2f}, p={:.2E}'.format(st.pearsonr(reg.Y[~nan],reg[zone[z]][~nan])[0]**2,st.pearsonr(reg.Y[~nan],reg[zone[z]][~nan])[1])],fontsize='large')\n",
    "                    elif onevsone:\n",
    "                        sns.scatterplot(dfXY,x=x1list[0],y=ylist[0],ax=axes[r,c],hue=hue[z])#,size=20\n",
    "                        #sns.kdeplot(data=scatter,x=x1list[0],y=ylist[0],levels=5,thresh=0.2,alpha=0.5,hue=hue[3],ax=axes[r,c],palette=[\"green\",\"purple\"])#,levels=5,thresh=0.2,palette=\"dark:#5A9_r\n",
    "                        sns.regplot(data=reg,x=\"X\",y=\"Y\",ax=axes[r,c],color='black',line_kws={'lw':2,'color':'fuchsia'},order=1,scatter=True,marker='x',scatter_kws={'s':40},x_ci=None,ci=None)#,marker='x',scatter_kws={'s':20}  \n",
    "                        if (len(reg.Y.unique())>1) & (len(reg.X.unique())>1):\n",
    "                            nan = np.logical_or(reg.Y.isna().to_numpy(), reg.X.isna().to_numpy())#OR of na values in X and Y, as pearsonr doesnt like nans\n",
    "                            axes[r,c].legend(['r\\u00b2={:.2f}, p={:.2E}'.format(st.pearsonr(reg.Y[~nan],reg.X[~nan])[0]**2,st.pearsonr(reg.Y[~nan],reg.X[~nan])[1])],fontsize='large')\n",
    "                    #axes[r,c].set_ylim(1000,2400)\n",
    "                    #axes[r,c].set_title(label='Pyro2 vs {} by {}'.format(var[v],hue[3]),loc='center',pad=10,fontsize=20)\n",
    "                    axes[r,c].set_title(label='{}'.format(zone[z]),loc='center',pad=10,fontsize=17)\n",
    "                    axes[r,c].set_xlabel(xlabel=x1label,labelpad=10,fontsize='x-large')\n",
    "                    axes[r,c].set_ylabel(ylabel=ylabel,labelpad=10,fontsize='x-large')\n",
    "\n",
    "                    if x2list:\n",
    "                        X1=False\n",
    "                    else: z+=1\n",
    "                else:#X2\n",
    "                    if len(ylist)==1:\n",
    "                        sns.scatterplot(data=scatter2,x=zone[z],y=\"Y\",ax=axes[r,c],hue=hue[3],palette=\"pastel\")#,size=20\n",
    "                        if kde & (scatter[zone[z]].std()!=0) & (scatter[\"Y\"].std()!=0):\n",
    "                            sns.kdeplot(data=scatter,x=zone[z],y=\"Y\",levels=5,thresh=0.2,alpha=0.5,hue=hue[3],ax=axes[r,c],palette=[\"green\",\"purple\"])#,levels=5,thresh=0.2,palette=\"dark:#5A9_r\n",
    "                        sns.regplot(data=reg2,x=zone[z],y=\"Y\",ax=axes[r,c],color='black',line_kws={'lw':2,'color':'fuchsia'},order=1,scatter=True,marker='x',scatter_kws={'s':40},x_ci=None,ci=None)#,marker='x',scatter_kws={'s':20}\n",
    "                        if (len(reg2.Y.unique())>1) & (len(reg2[zone[z]].unique())>1):\n",
    "                            nan = np.logical_or(reg2.Y.isna().to_numpy(), reg2[zone[z]].isna().to_numpy())#OR of na values in X and Y, as pearsonr doesnt like nans\n",
    "                            axes[r,c].legend(['r\\u00b2={:.2f}, p={:.2E}'.format(st.pearsonr(reg2.Y[~nan],reg2[zone[z]][~nan])[0]**2,st.pearsonr(reg2.Y[~nan],reg2[zone[z]][~nan])[1])],fontsize='large')\n",
    "                    else:\n",
    "                        sns.scatterplot(data=scatter2,x=zone[z],y=ylist[z],ax=axes[r,c],hue=hue[3],palette=\"pastel\")#,size=20\n",
    "                        if kde & (scatter[zone[z]].std()!=0) & (scatter[ylist[z]].std()!=0):\n",
    "                            sns.kdeplot(data=scatter,x=zone[z],y=ylist[z],levels=5,thresh=0.2,alpha=0.5,hue=hue[3],ax=axes[r,c],palette=[\"green\",\"purple\"])#,levels=5,thresh=0.2,palette=\"dark:#5A9_r\n",
    "                        sns.regplot(data=reg2,x=zone[z],y=ylist[z],ax=axes[r,c],color='black',line_kws={'lw':2,'color':'fuchsia'},order=1,scatter=True,marker='x',scatter_kws={'s':40},x_ci=None,ci=None)#,marker='x',scatter_kws={'s':20}\n",
    "                        if (len(reg2[ylist[z]].unique())>1) & (len(reg2[zone[z]].unique())>1):\n",
    "                            nan = np.logical_or(reg2[ylist[z]].isna().to_numpy(), reg2[zone[z]].isna().to_numpy())#OR of na values in X and Y, as pearsonr doesnt like nans\n",
    "                            axes[r,c].legend(['r\\u00b2={:.2f}, p={:.2E}'.format(st.pearsonr(reg2[ylist[z]][~nan],reg2[zone[z]][~nan])[0]**2,st.pearsonr(reg2[ylist[z]][~nan],reg2[zone[z]][~nan])[1])],fontsize='large')\n",
    "                    #axes[r,c].set_title(label='Pyro2 vs {} by {}'.format(var[v],hue[3]),loc='center',pad=10,fontsize=20)\n",
    "                    axes[r,c].set_title(label='{}'.format(zone[z]),loc='center',pad=10,fontsize=17)\n",
    "                    axes[r,c].set_xlabel(xlabel=x2label,labelpad=10,fontsize='x-large')\n",
    "                    axes[r,c].set_ylabel(ylabel=ylabel,labelpad=10,fontsize='x-large')\n",
    "                    \n",
    "                    X1=True\n",
    "                    z+=1\n",
    "                    \n",
    "                axes[r,c].tick_params(axis='x', labelsize=15)\n",
    "                axes[r,c].tick_params(axis='y', labelsize=15)\n",
    "                #axes[r,c].set_ylim(1000,2400)\n",
    "                #print(z>=len(zone),t<len(tot),T)\n",
    "            elif ((z>=len(zone)) & (t<len(tot)) & T): #Print SP/Fdbk zones alltoguether\n",
    "\n",
    "                #print(\"In Tot\")\n",
    "                if t==0:\n",
    "                    scatter=pd.concat([pd.DataFrame(dfXY[ylist+[\"pyro2\"]].reset_index(drop=True)),func_avg_zone(x1list).iloc[:,:]],axis=1)\n",
    "                    scatter=scatter.loc[:,~scatter.columns.duplicated()]\n",
    "                    for v,variable in enumerate(zone):\n",
    "                        if len(ylist)>1:\n",
    "                            sns.scatterplot(data=scatter,x=variable,y=ylist[v],ax=axes[r,c],hue=hue[3])#,size=2\n",
    "                        else:\n",
    "                            sns.scatterplot(data=scatter,x=variable,y=ylist[0],ax=axes[r,c],hue=hue[3])#,size=2\n",
    "                    if len(ylist)>1:#Temp    \n",
    "                        Y=pd.concat([pd.DataFrame(dfXY[[\"pyro2\"]+ylist].reset_index(drop=True)),func_avg_zone(x1list).iloc[:,[0,1,2,3,4,5,6,7,8,9]]],axis=1)\n",
    "                        Y=func_get_dataReg(Y.loc[:,~Y.columns.duplicated()].groupby(\"pyro2\").mean().reset_index().iloc[:,[0,19]+list(range(1,19))].iloc[:,:11]).X\n",
    "                        X=pd.concat([pd.DataFrame(dfXY[[\"pyro2\"]+ylist].reset_index(drop=True)),func_avg_zone(x1list).iloc[:,[0,1,2,3,4,5,6,7,8,9]]],axis=1)\n",
    "                        X=func_get_dataReg(X.loc[:,~X.columns.duplicated()].groupby(\"pyro2\").mean().reset_index().iloc[:,[0,19]+list(range(1,19))].iloc[:,[0,1]+list(range(11,20))]).X\n",
    "                    else:#pyro2\n",
    "                        Y=pd.concat([pd.DataFrame(dfXY[[\"pyro2\"]+ylist].reset_index(drop=True)),func_avg_zone(x1list).iloc[:,[0,1,2,3,4,5,6,7,8,9]]],axis=1)\n",
    "                        Y=Y.loc[:,~Y.columns.duplicated()].groupby(\"pyro2\").mean().reset_index().loc[:,ylist[0]]\n",
    "                        X=pd.concat([pd.DataFrame(dfXY[[\"pyro2\"]+ylist].reset_index(drop=True)),func_avg_zone(x1list).iloc[:,[0,1,2,3,4,5,6,7,8,9]]],axis=1)\n",
    "                        X=func_get_dataReg(X.loc[:,~X.columns.duplicated()].groupby(\"pyro2\").mean().reset_index().iloc[:,:]).X\n",
    "                    sns.regplot(x=X,y=Y,ax=axes[r,c],color='black',line_kws={'lw':2,'color':'red'},order=1,scatter=True,marker='x',scatter_kws={'s':40},x_ci=None,ci=None)#,marker='x',scatter_kws={'s':20} \n",
    "                    if (len(X.unique())>1) & (len(Y.unique())>1):\n",
    "                        nan = np.logical_or(Y.isna().to_numpy(), X.isna().to_numpy())#OR of na values in X and Y, as pearsonr doesnt like nans\n",
    "                        axes[r,c].legend(['r\\u00b2={:.2f}, p={:.2E}'.format(st.pearsonr(Y[~nan],X[~nan])[0]**2,st.pearsonr(Y[~nan],X[~nan])[1])],fontsize='medium')\n",
    "                    else: axes[r,c].legend([hue[3]],loc='best')\n",
    "                elif t==1:\n",
    "                    scatter=pd.concat([pd.DataFrame(dfXY[ylist+[\"pyro2\"]].reset_index(drop=True)),func_avg_zone(x2list).iloc[:,:]],axis=1)\n",
    "                    scatter=scatter.loc[:,~scatter.columns.duplicated()]\n",
    "                    for v,variable in enumerate(zone):\n",
    "                        if len(ylist)>1:\n",
    "                            sns.scatterplot(data=scatter,x=variable,y=ylist[v],ax=axes[r,c],hue=hue[3])#,size=2\n",
    "                        else:\n",
    "                            sns.scatterplot(data=scatter,x=variable,y=ylist[0],ax=axes[r,c],hue=hue[3])#,size=2\n",
    "                    \n",
    "                    if len(ylist)>1:#Temp    \n",
    "                        Y=pd.concat([pd.DataFrame(dfXY[[\"pyro2\"]+ylist].reset_index(drop=True)),func_avg_zone(x2list).iloc[:,[0,1,2,3,4,5,6,7,8,9]]],axis=1)\n",
    "                        Y=func_get_dataReg(Y.loc[:,~Y.columns.duplicated()].groupby(\"pyro2\").mean().reset_index().iloc[:,[0,19]+list(range(1,19))].iloc[:,:11]).X\n",
    "                        X=pd.concat([pd.DataFrame(dfXY[[\"pyro2\"]+ylist].reset_index(drop=True)),func_avg_zone(x2list).iloc[:,[0,1,2,3,4,5,6,7,8,9]]],axis=1)\n",
    "                        X=func_get_dataReg(X.loc[:,~X.columns.duplicated()].groupby(\"pyro2\").mean().reset_index().iloc[:,[0,19]+list(range(1,19))].iloc[:,[0,1]+list(range(11,20))]).X\n",
    "                    else:#pyro2\n",
    "                        Y=pd.concat([pd.DataFrame(dfXY[[\"pyro2\"]+ylist].reset_index(drop=True)),func_avg_zone(x2list).iloc[:,[0,1,2,3,4,5,6,7,8,9]]],axis=1)\n",
    "                        Y=Y.loc[:,~Y.columns.duplicated()].groupby(\"pyro2\").mean().reset_index().loc[:,ylist[0]]\n",
    "                        X=pd.concat([pd.DataFrame(dfXY[[\"pyro2\"]+ylist].reset_index(drop=True)),func_avg_zone(x2list).iloc[:,[0,1,2,3,4,5,6,7,8,9]]],axis=1)\n",
    "                        X=func_get_dataReg(X.loc[:,~X.columns.duplicated()].groupby(\"pyro2\").mean().reset_index().iloc[:,:]).X\n",
    "                    sns.regplot(x=X,y=Y,ax=axes[r,c],color='black',line_kws={'lw':2,'color':'red'},order=1,scatter=True,marker='x',scatter_kws={'s':40},x_ci=None,ci=None)#,marker='x',scatter_kws={'s':20}   \n",
    "                    if (len(X.unique())>1) & (len(Y.unique())>1):\n",
    "                        nan = np.logical_or(Y.isna().to_numpy(), X.isna().to_numpy())#OR of na values in X and Y, as pearsonr doesnt like nans\n",
    "                        axes[r,c].legend(['r\\u00b2={:.2f}, p={:.2E}'.format(st.pearsonr(Y[~nan],X[~nan])[0]**2,st.pearsonr(Y[~nan],X[~nan])[1])],fontsize='medium')\n",
    "                    else: axes[r,c].legend([hue[3]],loc='best')\n",
    "                axes[r,c].set_title(label='{}'.format(tot[t]),loc='center',pad=10,fontsize=17)\n",
    "                axes[r,c].set_xlabel(xlabel=tot[t],labelpad=10,fontsize='x-large')\n",
    "                axes[r,c].set_ylabel(ylabel=ylabel,labelpad=10,fontsize='x-large')\n",
    "                axes[r,c].tick_params(axis='x', labelsize=15)\n",
    "                axes[r,c].tick_params(axis='y', labelsize=15)\n",
    "                #axes[r,c].legend([hue[3]],loc='best')#,loc='best',hue[3]\n",
    "                #axes.legend(zoneTemp_vars_series[~zoneTemp_vars_series.str.contains(\".*CV.*|.*Setpoint.*\",regex=True)].tolist())#If not hue, show by zone\n",
    "                t+=1\n",
    "                \n",
    "            #remove unused axes\n",
    "            #print(len(axes[r,c].get_children()))\n",
    "            if len(axes[r,c].get_children()) <=10:#empty plots have 10 children\n",
    "                axes[r,c].set_visible(False)\n",
    "                \n",
    "    fig.tight_layout(pad=3)\n",
    "    sns.set_style(\"darkgrid\")\n",
    "    \n",
    "    plt.savefig(r\"C:\\Users\\js5296\\Desktop\\NAS\\Projects\\AP1_Furnace_Control\\EDAs\\new\\MV\\newTry{}.png\".format(title), bbox_inches=\"tight\")\n",
    "#\n",
    "\n",
    "# #ZoneTempFdbk vs zone AirFlow: avg Bottom/Top\n",
    "# varAirSP=zoneAirGas_vars_series[np.logical_and(zoneAirGas_vars_series.str.contains(\"AirFlow.*Set[Pp]oint.*\",regex=True), ~zoneAirGas_vars_series.str.contains(\".*ControlValve.*\",regex=True))].tolist()\n",
    "# varAir=zoneAirGas_vars_series[np.logical_and(zoneAirGas_vars_series.str.contains(\"AirFlow\",regex=False), ~zoneAirGas_vars_series.str.contains(\".*ControlValve.*|.*Set[Pp]oint.*\",regex=True))].tolist()\n",
    "# Temp=zoneTemp_vars_series[np.logical_and(~zoneTemp_vars_series.str.contains(\"CV\",regex=False), ~zoneTemp_vars_series.str.contains(\".*S.*[Pp].*\",regex=True))].tolist()#9\n",
    "# tot=[\"Total AirFlowSP\",\"Total AirFlowFdbk\"]\n",
    "# col=3\n",
    "# row=7\n",
    "# \n",
    "# func_plot_reg(ylist=Temp,ylabel=\"ZoneTempFdbk\",x1list=varAirSP,x1label=\"AirFlowSP\",x2list=varAir,x2label=\"AirFlow\",nrow=row,ncol=col,Zone=True,totlist=tot,tile=\"scatter\")"
   ]
  },
  {
   "cell_type": "code",
   "execution_count": null,
   "id": "ab077535f5ba21db",
   "metadata": {},
   "outputs": [],
   "source": []
  },
  {
   "cell_type": "code",
   "execution_count": null,
   "id": "2a586ba4201819d3",
   "metadata": {},
   "outputs": [],
   "source": []
  },
  {
   "cell_type": "code",
   "execution_count": null,
   "id": "337bb989588fb96c",
   "metadata": {},
   "outputs": [],
   "source": []
  },
  {
   "cell_type": "code",
   "execution_count": null,
   "id": "f77d424292611f45",
   "metadata": {},
   "outputs": [],
   "source": []
  },
  {
   "cell_type": "markdown",
   "id": "dfd3f84e866c5f6",
   "metadata": {
    "collapsed": false,
    "jupyter": {
     "outputs_hidden": false
    }
   },
   "source": [
    "### pyro2goal vs pyro2"
   ]
  },
  {
   "cell_type": "code",
   "execution_count": null,
   "id": "1175fc8eafa8db6",
   "metadata": {},
   "outputs": [],
   "source": [
    "x=[\"AP1_FurnacePyro2Temp\"]\n",
    "y=[\"pyro2\"]\n",
    "col=2\n",
    "row=2\n",
    "\n",
    "func_plot_reg(ylist=y,ylabel=\"pyro2\",x1list=x,x1label=\"AP1_FurnacePyro2Temp\",nrow=row,ncol=col,title=\"Pyro2Goal_vs_Fdbk\")"
   ]
  },
  {
   "cell_type": "code",
   "execution_count": null,
   "id": "6fcfee7d20eb8c51",
   "metadata": {},
   "outputs": [],
   "source": []
  },
  {
   "cell_type": "markdown",
   "id": "6256439dd5c8e7ba",
   "metadata": {
    "collapsed": false,
    "jupyter": {
     "outputs_hidden": false
    }
   },
   "source": [
    "dfXY[[\"pyro2\",\"AP1_FurnacePyro2Temp\"]].groupby(\"pyro2\").mean().reset_index()"
   ]
  },
  {
   "cell_type": "code",
   "execution_count": null,
   "id": "c0fde07acea959b",
   "metadata": {},
   "outputs": [],
   "source": []
  },
  {
   "cell_type": "markdown",
   "id": "11b647e9ec34b5ae",
   "metadata": {
    "collapsed": false,
    "jupyter": {
     "outputs_hidden": false
    }
   },
   "source": [
    "### Pyro2 vs ZoneTemp, ZoneAir/Gas, Recuperator, RestFurnace, CSdeltaTmin, rampFdbk, soakFdbk"
   ]
  },
  {
   "cell_type": "code",
   "execution_count": null,
   "id": "d6d1b31266863226",
   "metadata": {},
   "outputs": [],
   "source": [
    "#pyro2 vs ZoneTemp\n",
    "sns.set_style(\"darkgrid\")\n",
    "\n",
    "#var=zoneTemp_vars_series[~zoneTemp_vars_series.str.contains(\".*CV.*|.*Setpoint.*\",regex=True)].tolist()\n",
    "\n",
    "\n",
    "var=zoneTemp_vars_series[~zoneTemp_vars_series.str.contains(\".*CV.*\",regex=True)].tolist()\n",
    "v=0\n",
    "tot=[\"ZoneFdbk\",\"ZoneSetpoints\"]\n",
    "t=0\n",
    "col=3\n",
    "row=(len(var)//col+1)+2#+2 for the 2 scatterplots of SP/Fdbk of all zones integrated\n",
    "hue = [\"grade\",\"TurnDownOnCompressed\",\"WidthFamCluster\",\"SteelFamCluster\"]\n",
    "\n",
    "fig,axes = plt.subplots(row,col,figsize=(20,(row*20/5)+2),facecolor='white')\n",
    "#fig(facecolor='black')\n",
    "fig.suptitle(\"Pyro2 fdbk vs ZoneTemp by {}\".format(hue[3]),fontsize=30)\n",
    "for r in range(row):\n",
    "    for c in range(col):\n",
    "        if v<len(var):\n",
    "            data=dfXY[[\"pyro2\",\"AP1_FurnacePyro2Temp\"]+[var[v]]].groupby(\"pyro2\").mean().reset_index()\n",
    "            sns.scatterplot(dfXY,x=var[v],y=\"AP1_FurnacePyro2Temp\",ax=axes[r,c],hue=hue[3],palette=\"pastel\")#,size=20\n",
    "            sns.kdeplot(data=dfXY,x=var[v],y=\"AP1_FurnacePyro2Temp\",levels=5,thresh=0.2,alpha=0.5,hue=hue[3],ax=axes[r,c],palette=[\"green\",\"purple\"])#,levels=5,thresh=0.2,palette=\"dark:#5A9_r\n",
    "            sns.regplot(data=data,x=var[v],y=\"AP1_FurnacePyro2Temp\",ax=axes[r,c],color='black',line_kws={'lw':2,'color':'fuchsia'},order=1,scatter=True,marker='x',scatter_kws={'s':40})#,marker='x',scatter_kws={'s':20}\n",
    "            #axes[r,c].set_title(label='Pyro2 vs {} by {}'.format(var[v],hue[3]),loc='center',pad=10,fontsize=20)\n",
    "            axes[r,c].set_title(label='{}'.format(var[v]),loc='center',pad=10,fontsize=17)\n",
    "            axes[r,c].set_xlabel(xlabel=var[v],labelpad=10,fontsize='x-large')\n",
    "            axes[r,c].set_ylabel(ylabel=\"AP1_FurnacePyro2Temp\",labelpad=10,fontsize='x-large')\n",
    "            nan = np.logical_or(data[\"AP1_FurnacePyro2Temp\"].isna().to_numpy(), data[var[v]].isna().to_numpy())#OR of na values in X and Y, as pearsonr doesnt like nans\n",
    "            axes[r,c].legend(['r\\u00b2={:.2f}, p={:.2E}'.format(st.pearsonr(data[\"AP1_FurnacePyro2Temp\"][~nan],data[var[v]][~nan])[0]**2,st.pearsonr(data[\"AP1_FurnacePyro2Temp\"][~nan],data[var[v]][~nan])[1])],fontsize='medium')\n",
    "            axes[r,c].tick_params(axis='x', labelsize=15)\n",
    "            axes[r,c].tick_params(axis='y', labelsize=15)\n",
    "            #axes[r,c].set_facecolor('black')\n",
    "            v+=1\n",
    "        elif (v>=len(var)) & (t<len(tot)):#Print SP/Fdbk zones alltoguether\n",
    "            if t==0:\n",
    "                data=dfXY[[\"pyro2\",\"AP1_FurnacePyro2Temp\"]+zoneTemp_vars_series[~zoneTemp_vars_series.str.contains(\".*CV.*|.*Setpoint.*\",regex=True)].tolist()].groupby(\"pyro2\").mean().reset_index()\n",
    "                for variable in zoneTemp_vars_series[~zoneTemp_vars_series.str.contains(\".*CV.*|.*Setpoint.*\",regex=True)].tolist():\n",
    "                    sns.scatterplot(dfXY,x=variable,y=\"AP1_FurnacePyro2Temp\",ax=axes[r,c],hue=hue[3])#,size=2\n",
    "                \n",
    "                sns.regplot(data=func_get_dataReg(data),x='X',y=\"AP1_FurnacePyro2Temp\",ax=axes[r,c],color='black',line_kws={'lw':2,'color':'red'},order=1,scatter=True,marker='x',scatter_kws={'s':40})#,marker='x',scatter_kws={'s':20}   \n",
    "                nan = np.logical_or(func_get_dataReg(data)[\"AP1_FurnacePyro2Temp\"].isna().to_numpy(), func_get_dataReg(data)['X'].isna().to_numpy())#OR of na values in X and Y, as pearsonr doesnt like nans\n",
    "                axes[r,c].legend(['r\\u00b2={:.2f}, p={:.2E}'.format(st.pearsonr(func_get_dataReg(data)[\"AP1_FurnacePyro2Temp\"][~nan],func_get_dataReg(data)['X'][~nan])[0]**2,st.pearsonr(func_get_dataReg(data)[\"AP1_FurnacePyro2Temp\"][~nan],func_get_dataReg(data)['X'][~nan])[1])],fontsize='medium')\n",
    "            elif t==1:\n",
    "                data=dfXY[[\"pyro2\",\"AP1_FurnacePyro2Temp\"]+zoneTemp_vars_series[zoneTemp_vars_series.str.contains(\".*Setpoint.*\",regex=True)].tolist()].groupby(\"pyro2\").mean().reset_index()\n",
    "                for variable in zoneTemp_vars_series[zoneTemp_vars_series.str.contains(\".*Setpoint.*\",regex=True)].tolist():\n",
    "                    sns.scatterplot(dfXY,x=variable,y=\"AP1_FurnacePyro2Temp\",ax=axes[r,c],hue=hue[3])#,size=2\n",
    "                \n",
    "                sns.regplot(data=func_get_dataReg(data),x='X',y=\"AP1_FurnacePyro2Temp\",ax=axes[r,c],color='black',line_kws={'lw':2,'color':'red'},order=1,scatter=True,marker='x',scatter_kws={'s':40})#,marker='x',scatter_kws={'s':20}   \n",
    "                nan = np.logical_or(func_get_dataReg(data)[\"AP1_FurnacePyro2Temp\"].isna().to_numpy(), func_get_dataReg(data)['X'].isna().to_numpy())#OR of na values in X and Y, as pearsonr doesnt like nans\n",
    "                axes[r,c].legend(['r\\u00b2={:.2f}, p={:.2E}'.format(st.pearsonr(func_get_dataReg(data)[\"AP1_FurnacePyro2Temp\"][~nan],func_get_dataReg(data)['X'][~nan])[0]**2,st.pearsonr(func_get_dataReg(data)[\"AP1_FurnacePyro2Temp\"][~nan],func_get_dataReg(data)['X'][~nan])[1])],fontsize='medium')\n",
    "                \n",
    "            axes[r,c].set_title(label='{}'.format(tot[t]),loc='center',pad=10,fontsize=17)\n",
    "            axes[r,c].set_xlabel(xlabel=tot[t],labelpad=10,fontsize='x-large')\n",
    "            axes[r,c].set_ylabel(ylabel=\"AP1_FurnacePyro2Temp\",labelpad=10,fontsize='x-large')\n",
    "            axes[r,c].tick_params(axis='x', labelsize=15)\n",
    "            axes[r,c].tick_params(axis='y', labelsize=15)\n",
    "            #axes[r,c].legend([hue[3]],loc='best')#,loc='best',hue[3]\n",
    "            #axes.legend(zoneTemp_vars_series[~zoneTemp_vars_series.str.contains(\".*CV.*|.*Setpoint.*\",regex=True)].tolist())#If not hue, show by zone\n",
    "            t+=1\n",
    "            \n",
    "        #remove unused axes\n",
    "        #print(len(axes[r,c].get_children()))\n",
    "        if len(axes[r,c].get_children()) <=10:#empty plots have 10 children\n",
    "            axes[r,c].set_visible(False)\n",
    "            \n",
    "fig.tight_layout(pad=3)\n",
    "#sns.set(rc={'axes.facecolor':'dark', 'figure.facecolor':'dark'})\n",
    "\n",
    "plt.savefig(r\"C:\\Users\\js5296\\Desktop\\NAS\\Projects\\AP1_Furnace_Control\\EDAs\\new\\MV\\newPyro2_vs_ZoneTemp.png\", bbox_inches=\"tight\")"
   ]
  },
  {
   "cell_type": "code",
   "execution_count": null,
   "id": "22526d3d-d92e-4f45-8ac2-5e8285115d27",
   "metadata": {},
   "outputs": [],
   "source": [
    "dfXY[\"AP1_FurnaceZone3TemperatureSetpoint\"][dfXY[\"AP1_FurnaceZone3TemperatureSetpoint\"].between(1000,1400)].shape"
   ]
  },
  {
   "cell_type": "markdown",
   "id": "92b84af872ef412b",
   "metadata": {
    "collapsed": false,
    "jupyter": {
     "outputs_hidden": false
    }
   },
   "source": [
    "sns.scatterplot(data=func_avg_zone(varRatioSP),x=\"Zone0\",y=\"AP1_FurnacePyro2Temp\")#,size=20,hue=hue[3]\n",
    "zone[0]\n",
    "func_avg_zone(varRatioSP)[hue[3]]\n",
    "dfXY[hue[3]]"
   ]
  },
  {
   "cell_type": "code",
   "execution_count": null,
   "id": "7fd041ed39fa715a",
   "metadata": {},
   "outputs": [],
   "source": [
    "#Pyro2 vs zone Ratio: avg Bottom/Top\n",
    "varRatioSP=zoneAirGas_vars_series[np.logical_and(zoneAirGas_vars_series.str.contains(\".*Ratio.*S.*[Pp].*\",regex=True), ~zoneAirGas_vars_series.str.contains(\".*ControlValve.*\",regex=True))].tolist()\n",
    "varRatio=zoneAirGas_vars_series[np.logical_and(zoneAirGas_vars_series.str.contains(\".*Ratio.*\",regex=True), ~zoneAirGas_vars_series.str.contains(\".*ControlValve.*|.*Ratio.*S.*[Pp].*\",regex=True))].tolist()\n",
    "tot=[\"ZoneSetpoints\",\"ZoneFdbk\"]\n",
    "col=3\n",
    "row=7\n",
    "\n",
    "func_plot_reg(ylist=[\"AP1_FurnacePyro2Temp\"],ylabel=\"pyro2\",x1list=varRatioSP,x1label=\"RatioSP\",x2list=varRatio,x2label=\"RatioFdbk\",nrow=row,ncol=col,Zone=True,Avg=True,totlist=tot,title=\"Pyro2_vs_ZoneRatio\")"
   ]
  },
  {
   "cell_type": "markdown",
   "id": "63b6e36997e36b2a",
   "metadata": {
    "collapsed": false,
    "jupyter": {
     "outputs_hidden": false
    }
   },
   "source": [
    "zoneAirGas_vars_series[zoneAirGas_vars_series.str.contains(\".*Gas.*ControlValve.*\",regex=True)]\n",
    "dfXY.iloc[:1,[1,0]]\n",
    "pd.concat([pd.DataFrame(dfXY[\"pyro2\"].reset_index(),columns=[\"pyro2\"]),func_avg_zone(varRatioSP).iloc[:,[9,0,1,2,3,4,5,6,7,8]]],axis=1).groupby(\"pyro2\").mean().reset_index()\n",
    "#func_avg_zone(varRatioSP).iloc[:,[9,0,1,2,3,4,5,6,7,8]]"
   ]
  },
  {
   "cell_type": "code",
   "execution_count": null,
   "id": "1659ad440f50684c",
   "metadata": {},
   "outputs": [],
   "source": [
    "#Pyro2 vs zone CV: avg Bottom/Top\n",
    "varCVair=zoneAirGas_vars_series[zoneAirGas_vars_series.str.contains(\".*Air.*ControlValve.*\",regex=True)].tolist()\n",
    "varCVgas=zoneAirGas_vars_series[zoneAirGas_vars_series.str.contains(\".*Gas.*ControlValve.*\",regex=True)].tolist()\n",
    "tot=[\"Total AirCV\",\"Total GasCV\"]\n",
    "col=3\n",
    "row=7\n",
    "\n",
    "func_plot_reg(ylist=[\"AP1_FurnacePyro2Temp\"],ylabel=\"pyro2\",x1list=varCVair,x1label=\"AirCV\",x2list=varCVgas,x2label=\"GasCV\",nrow=row,ncol=col,Zone=True,Avg=True,totlist=tot,title=\"Pyro2_vs_ZoneCV\")"
   ]
  },
  {
   "cell_type": "markdown",
   "id": "9245ba8632202585",
   "metadata": {
    "collapsed": false,
    "jupyter": {
     "outputs_hidden": false
    }
   },
   "source": [
    "#func_avg_zone(varCVair).loc[(func_avg_zone(varCVair)[\"AP1_FurnacePyro2Temp\"]<0).values,[\"Zone2\",\"AP1_FurnacePyro2Temp\"]]\n",
    "##(func_avg_zone(varCVair)[\"AP1_FurnacePyro2Temp\"]<0).values.astype(bool)\n",
    "##func_avg_zone(varCVair).loc[[(func_avg_zone(varCVair)[\"AP1_FurnacePyro2Temp\"]<0).],[\"Zone2\",\"AP1_FurnacePyro2Temp\"]]\n",
    "#pd.concat([pd.DataFrame(dfXY[\"pyro2\"].reset_index(),columns=[\"pyro2\"]),func_avg_zone(varCVair).iloc[:,[9,0,1,2,3,4,5,6,7,8]]],axis=1).groupby(\"pyro2\").mean().reset_index()\n",
    "#func_avg_zone(varCVair)\n",
    "#dfXY[[\"pyro2\",\"AP1_FurnacePyro2Temp\",\"AP1_FurnaceZone2BottomAirFlowControlValveOutput\",\"AP1_FurnaceZone2TopAirFlowControlValveOutput\"]].groupby(\"pyro2\").mean().reset_index()\n",
    "#dfXY[[\"AP1_FurnaceZone2BottomAirFlowControlValveOutput\",\"AP1_FurnaceZone2TopAirFlowControlValveOutput\"]].mean(axis=1)==(dfXY[\"AP1_FurnaceZone2BottomAirFlowControlValveOutput\"]+dfXY[\"AP1_FurnaceZone2TopAirFlowControlValveOutput\"])/2\n",
    "#(dfXY[\"AP1_FurnaceZone2BottomAirFlowControlValveOutput\"]+dfXY[\"AP1_FurnaceZone2TopAirFlowControlValveOutput\"])/2\n",
    "##func_avg_zone(varCVair)\n",
    "#varCVair[0+1]\n",
    "\n",
    "df=pd.DataFrame(np.zeros((dfXY.shape[0],len(varCVair)//2)))\n",
    "df.iloc[:,:]=np.nan\n",
    "i=0\n",
    "j=0\n",
    "while i < len(varCVair)//2:#j<9\n",
    "    df.iloc[:,i]=dfXY.loc[:,[varCVair[j],varCVair[j+1]]].mean(axis=1)\n",
    "    #print(\"{} vs {}\".format(varCVair[j],varCVair[j+1]))\n",
    "    j+=2\n",
    "    i+=1\n",
    "(~(df.iloc[:,1]==((dfXY[\"AP1_FurnaceZone1BottomAirFlowControlValveOutput\"]+dfXY[\"AP1_FurnaceZone1TopAirFlowControlValveOutput\"])/2).reset_index(drop=True))).sum()"
   ]
  },
  {
   "cell_type": "code",
   "execution_count": null,
   "id": "48c152c4adc30ed6",
   "metadata": {},
   "outputs": [],
   "source": [
    "#Pyro2 vs zone AirFlow: avg Bottom/Top\n",
    "varAirSP=zoneAirGas_vars_series[np.logical_and(zoneAirGas_vars_series.str.contains(\"AirFlow.*Set[Pp]oint.*\",regex=True), ~zoneAirGas_vars_series.str.contains(\".*ControlValve.*\",regex=True))].tolist()\n",
    "varAir=zoneAirGas_vars_series[np.logical_and(zoneAirGas_vars_series.str.contains(\"AirFlow\",regex=False), ~zoneAirGas_vars_series.str.contains(\".*ControlValve.*|.*Set[Pp]oint.*\",regex=True))].tolist()\n",
    "tot=[\"Total AirFlowSP\",\"Total AirFlowFdbk\"]\n",
    "col=3\n",
    "row=7\n",
    "\n",
    "func_plot_reg(ylist=[\"AP1_FurnacePyro2Temp\"],ylabel=\"pyro2\",x1list=varAirSP,x1label=\"AirSP\",x2list=varAir,x2label=\"AirFdbk\",nrow=row,ncol=col,Zone=True,Avg=True,totlist=tot,title=\"Pyro2_vs_ZoneAirFlow\")"
   ]
  },
  {
   "cell_type": "code",
   "execution_count": null,
   "id": "c12611e6e2bbf832",
   "metadata": {},
   "outputs": [],
   "source": [
    "#Pyro2 vs zone GasFlow: avg Bottom/Top\n",
    "varGas=zoneAirGas_vars_series[np.logical_and(zoneAirGas_vars_series.str.contains(\"GasFlow\",regex=False), ~zoneAirGas_vars_series.str.contains(\"ControlValve\",regex=False))].tolist()\n",
    "tot=[\"Total Gas\"]\n",
    "col=3\n",
    "row=7\n",
    "\n",
    "func_plot_reg(ylist=[\"AP1_FurnacePyro2Temp\"],ylabel=\"pyro2\",x1list=varGas,x1label=\"AirSP\",nrow=row,ncol=col,Zone=True,Avg=True,totlist=tot,title=\"Pyro2_vs_ZoneGasFlow\")"
   ]
  },
  {
   "cell_type": "markdown",
   "id": "6b3ee9399ffc8e37",
   "metadata": {
    "collapsed": false,
    "jupyter": {
     "outputs_hidden": false
    }
   },
   "source": [
    "rest_vars_series\n",
    "dfXY[[\"pyro2\",\"AP1_FurnacePyro2Temp\",\"AP1_FurnacePressureCV\"]].groupby(\"pyro2\").mean()\n",
    "#dfXY[\"AP1_FurnacePressureCV\"].min()\n",
    "dfXY[[\"pyro2\",\"AP1_FurnacePyro2Temp\"]+var].groupby(\"pyro2\").mean().reset_index()\n",
    "rest_vars_series"
   ]
  },
  {
   "cell_type": "code",
   "execution_count": null,
   "id": "2d082698f2c836c5",
   "metadata": {},
   "outputs": [],
   "source": [
    "#pyro2 vs restVars\n",
    "var=rest_vars_series.tolist()+[\"CSdeltaTmin\",\"rampFdbk\",\"soakFdbk\"]\n",
    "y=[\"AP1_FurnacePyro2Temp\"]\n",
    "col=3\n",
    "row=7\n",
    "\n",
    "func_plot_reg(ylist=y,ylabel=\"pyro2\",x1list=var,nrow=row,ncol=col,title=\"Pyro2_vs_RestFurnace\",kde=True)"
   ]
  },
  {
   "cell_type": "markdown",
   "id": "78e71f1a312085b",
   "metadata": {
    "collapsed": false,
    "jupyter": {
     "outputs_hidden": false
    }
   },
   "source": [
    "proceso_vars_series"
   ]
  },
  {
   "cell_type": "code",
   "execution_count": null,
   "id": "337450e79780e623",
   "metadata": {},
   "outputs": [],
   "source": [
    "#pyro2 vs proceso vars\n",
    "var=proceso_vars_series.tolist()\n",
    "y=[\"AP1_FurnacePyro2Temp\"]\n",
    "col=3\n",
    "row=7\n",
    "\n",
    "func_plot_reg(ylist=y,ylabel=\"pyro2\",x1list=var,nrow=row,ncol=col,title=\"Pyro2_vs_Proceso\")"
   ]
  },
  {
   "cell_type": "markdown",
   "id": "a77f670afbd1019",
   "metadata": {
    "collapsed": false,
    "jupyter": {
     "outputs_hidden": false
    }
   },
   "source": [
    "recuperator_vars_series\n",
    "#dfXY[[\"pyro2\",\"AP1_FurnacePyro2Temp\"]+var].groupby(\"pyro2\").mean().reset_index()"
   ]
  },
  {
   "cell_type": "code",
   "execution_count": null,
   "id": "148d880f23eee202",
   "metadata": {},
   "outputs": [],
   "source": [
    "#pyro2 vs recuperator vars\n",
    "var=recuperator_vars_series.tolist()\n",
    "y=[\"AP1_FurnacePyro2Temp\"]\n",
    "col=3\n",
    "row=7\n",
    "\n",
    "func_plot_reg(ylist=y,ylabel=\"pyro2\",x1list=var,nrow=row,ncol=col,title=\"Pyro2_vs_Recuperator\",kde=True)"
   ]
  },
  {
   "cell_type": "code",
   "execution_count": null,
   "id": "240554ae8520b720",
   "metadata": {},
   "outputs": [],
   "source": []
  },
  {
   "cell_type": "markdown",
   "id": "9f178438e9870643",
   "metadata": {
    "collapsed": false,
    "jupyter": {
     "outputs_hidden": false
    }
   },
   "source": [
    "### pyro2 vs pyro1"
   ]
  },
  {
   "cell_type": "code",
   "execution_count": null,
   "id": "dae6553e4dc622d5",
   "metadata": {},
   "outputs": [],
   "source": [
    "x=[\"AP1_FurnacePyro1Temp\"]\n",
    "y=[\"AP1_FurnacePyro2Temp\"]\n",
    "col=2\n",
    "row=2\n",
    "\n",
    "func_plot_reg(ylist=y,ylabel=\"pyro2\",x1list=x,x1label=\"pyro1\",nrow=row,ncol=col,title=\"Pyro2_vs_Pyro1\")"
   ]
  },
  {
   "cell_type": "code",
   "execution_count": null,
   "id": "111c99fc4e8f3d2c",
   "metadata": {},
   "outputs": [],
   "source": []
  },
  {
   "cell_type": "markdown",
   "id": "da89a13afc336a96",
   "metadata": {
    "collapsed": false,
    "jupyter": {
     "outputs_hidden": false
    }
   },
   "source": [
    "### ZoneTempSP vs ZoneTempFdbk"
   ]
  },
  {
   "cell_type": "code",
   "execution_count": null,
   "id": "933d3f5b3e3bc51e",
   "metadata": {},
   "outputs": [],
   "source": [
    "#ZoneTempSP vs zone ZoneTempFdbk: avg Bottom/Top\n",
    "TempSP=zoneTemp_vars_series[np.logical_and(~zoneTemp_vars_series.str.contains(\"CV\",regex=False), zoneTemp_vars_series.str.contains(\".*S.*[Pp].*\",regex=True))].tolist()#10\n",
    "vSP=0\n",
    "Temp=zoneTemp_vars_series[np.logical_and(~zoneTemp_vars_series.str.contains(\"CV\",regex=False), ~zoneTemp_vars_series.str.contains(\".*S.*[Pp].*\",regex=True))].tolist()#9\n",
    "v=0\n",
    "zone=[\"Zone0\",\"Zone1\",\"Zone2\",\"Zone3\",\"Zone4\",\"Zone5\",\"Zone6\",\"Zone7\",\"Zone8\"]\n",
    "z=0\n",
    "col=3\n",
    "row=7\n",
    "#row=(len(zone)//col+1)+2#+2 for the 2 scatterplots of SP/Fdbk of all zones integrated\n",
    "hue = [\"grade\",\"TurnDownOnCompressed\",\"WidthFamCluster\",\"SteelFamCluster\"]\n",
    "tot=True\n",
    "fig,axes = plt.subplots(row,col,figsize=(20,(row*20/5)+2),facecolor='white')\n",
    "fig.suptitle(\"TempSP vs TempFdbk by {}\".format(hue[3]),fontsize=30)\n",
    "for r in range(row):\n",
    "    for c in range(col):\n",
    "        if z==0:\n",
    "            data=dfXY[[\"pyro2\"]+TempSP+Temp].groupby(\"pyro2\").mean().reset_index()\n",
    "            sns.scatterplot(data=dfXY,x=Temp[v],y=TempSP[vSP],ax=axes[r,c],hue=hue[3],palette=\"pastel\")#,size=20\n",
    "            sns.kdeplot(data=dfXY,x=Temp[v],y=TempSP[vSP],levels=5,thresh=0.2,alpha=0.5,hue=hue[3],ax=axes[r,c],palette=[\"green\",\"purple\"])#,levels=5,thresh=0.2,palette=\"dark:#5A9_r\n",
    "            sns.regplot(data=data,x=Temp[v],y=TempSP[vSP],ax=axes[r,c],color='pink',line_kws={'lw':2,'color':'red'},order=1,scatter=True,marker='x',scatter_kws={'s':40},x_ci=None,ci=None)#,marker='x',scatter_kws={'s':20}\n",
    "            #axes[r,c].set_title(label='Pyro2 vs {} by {}'.format(var[v],hue[3]),loc='center',pad=10,fontsize=20)\n",
    "            axes[r,c].set_title(label='Temp SP vs Fdbk in {}'.format(zone[z]),loc='center',pad=10,fontsize=17)\n",
    "            axes[r,c].set_xlabel(xlabel=Temp[v],labelpad=10,fontsize='x-large')\n",
    "            axes[r,c].set_ylabel(ylabel=TempSP[vSP],labelpad=10,fontsize='x-large')\n",
    "            nan = np.logical_or(data[TempSP[vSP]].isna().to_numpy(), data[Temp[v]].isna().to_numpy())#OR of na values in X and Y, as pearsonr doesnt like nans\n",
    "            axes[r,c].legend(['r\\u00b2={:.2f}, p={:.2E}'.format(st.pearsonr(data[TempSP[vSP]][~nan],data[Temp[v]][~nan])[0]**2,st.pearsonr(data[TempSP[vSP]][~nan],data[Temp[v]][~nan])[1])],fontsize='large') \n",
    "            axes[r,c].tick_params(axis='x', labelsize=15)\n",
    "            axes[r,c].tick_params(axis='y', labelsize=15)\n",
    "            vSP+=1\n",
    "            if vSP==2:\n",
    "                v+=1\n",
    "                z+=1\n",
    "        elif z<len(zone):\n",
    "            data=dfXY[[\"pyro2\"]+TempSP+Temp].groupby(\"pyro2\").mean().reset_index()\n",
    "            sns.scatterplot(data=dfXY,x=Temp[v],y=TempSP[vSP],ax=axes[r,c],hue=hue[3],palette=\"pastel\")#,size=20\n",
    "            sns.kdeplot(data=dfXY,x=Temp[v],y=TempSP[vSP],levels=5,thresh=0.2,alpha=0.5,hue=hue[3],ax=axes[r,c],palette=[\"green\",\"purple\"])#,levels=5,thresh=0.2,palette=\"dark:#5A9_r\n",
    "            sns.regplot(data=data,x=Temp[v],y=TempSP[vSP],ax=axes[r,c],color='pink',line_kws={'lw':2,'color':'red'},order=1,scatter=True,marker='x',scatter_kws={'s':40},x_ci=None,ci=None)#,marker='x',scatter_kws={'s':20}\n",
    "            #axes[r,c].set_title(label='Pyro2 vs {} by {}'.format(var[v],hue[3]),loc='center',pad=10,fontsize=20)\n",
    "            axes[r,c].set_title(label='Temp SP vs Fdbk in {}'.format(zone[z]),loc='center',pad=10,fontsize=17)\n",
    "            axes[r,c].set_xlabel(xlabel=Temp[v],labelpad=10,fontsize='x-large')\n",
    "            axes[r,c].set_ylabel(ylabel=TempSP[vSP],labelpad=10,fontsize='x-large')\n",
    "            nan = np.logical_or(data[TempSP[vSP]].isna().to_numpy(), data[Temp[v]].isna().to_numpy())#OR of na values in X and Y, as pearsonr doesnt like nans\n",
    "            axes[r,c].legend(['r\\u00b2={:.2f}, p={:.2E}'.format(st.pearsonr(data[TempSP[vSP]][~nan],data[Temp[v]][~nan])[0]**2,st.pearsonr(data[TempSP[vSP]][~nan],data[Temp[v]][~nan])[1])],fontsize='large') \n",
    "            axes[r,c].tick_params(axis='x', labelsize=15)\n",
    "            axes[r,c].tick_params(axis='y', labelsize=15)\n",
    "            vSP+=1\n",
    "            v+=1\n",
    "            z+=1 \n",
    "            \n",
    "        elif (z>=len(zone)) & tot:#Print SP/Fdbk zones alltoguether\n",
    "            v=0\n",
    "            vSP=0\n",
    "            for variable in zone:\n",
    "                if variable == \"Zone0\":\n",
    "                    while vSP<2:\n",
    "                        sns.scatterplot(data=dfXY,x=Temp[v],y=TempSP[vSP],ax=axes[r,c],hue=hue[3])#,size=2\n",
    "                        #print(\"{} vs {}\".format(TempSP[vSP],Temp[v]))\n",
    "                        vSP+=1\n",
    "                    if vSP==2:\n",
    "                        v+=1\n",
    "                else:\n",
    "                    sns.scatterplot(data=dfXY,x=Temp[v],y=TempSP[vSP],ax=axes[r,c],hue=hue[3])#,size=2\n",
    "                    #print(\"{} vs {}\".format(TempSP[vSP],Temp[v]))\n",
    "                    v+=1\n",
    "                    vSP+=1\n",
    "                    \n",
    "            Y=func_get_dataReg(dfXY[[\"pyro2\",\"AP1_FurnacePyro2Temp\"]+TempSP].groupby(\"pyro2\").mean().reset_index()).X\n",
    "            X=func_get_dataReg(dfXY[[\"pyro2\",\"AP1_FurnacePyro2Temp\"]+Temp].groupby(\"pyro2\").mean().reset_index()).X\n",
    "            sns.regplot(x=X,y=Y,ax=axes[r,c],color='black',line_kws={'lw':2,'color':'red'},order=1,scatter=True,marker='x',scatter_kws={'s':40},x_ci=None,ci=None)#,marker='x',scatter_kws={'s':20}   \n",
    "            nan = np.logical_or(X.isna().to_numpy(), Y.isna().to_numpy())#OR of na values in X and Y, as pearsonr doesnt like nans\n",
    "            axes[r,c].legend(['r\\u00b2={:.2f}, p={:.2E}'.format(st.pearsonr(Y[~nan],X[~nan])[0]**2,st.pearsonr(Y[~nan],X[~nan])[1])],fontsize='medium')\n",
    "            axes[r,c].set_title(label='Total Zones Temp',loc='center',pad=10,fontsize=17)\n",
    "            axes[r,c].set_xlabel(xlabel=\"Temp Fdbk\",labelpad=10,fontsize='x-large')\n",
    "            axes[r,c].set_ylabel(ylabel=\"Temp SP\",labelpad=10,fontsize='x-large')\n",
    "            axes[r,c].tick_params(axis='x', labelsize=15)\n",
    "            axes[r,c].tick_params(axis='y', labelsize=15)\n",
    "            #axes[r,c].legend([hue[3]],loc='best')#,loc='best',hue[3]\n",
    "            #axes.legend(zoneTemp_vars_series[~zoneTemp_vars_series.str.contains(\".*CV.*|.*Setpoint.*\",regex=True)].tolist())#If not hue, show by zone\n",
    "            tot=False\n",
    "            \n",
    "        #remove unused axes\n",
    "        #print(len(axes[r,c].get_children()))\n",
    "        if len(axes[r,c].get_children()) <=10:#empty plots have 10 children\n",
    "            axes[r,c].set_visible(False)\n",
    "            \n",
    "fig.tight_layout(pad=3)\n",
    "sns.set_style(\"darkgrid\")\n",
    "\n",
    "plt.savefig(r\"C:\\Users\\js5296\\Desktop\\NAS\\Projects\\AP1_Furnace_Control\\EDAs\\new\\MV\\newZoneTempSP_vs_ZoneTempFdbk.png\", bbox_inches=\"tight\")"
   ]
  },
  {
   "cell_type": "markdown",
   "id": "f072e62c7584fd9f",
   "metadata": {
    "collapsed": false,
    "jupyter": {
     "outputs_hidden": false
    }
   },
   "source": [
    "zoneTemp_vars_series\n",
    "zoneTemp_vars_series[np.logical_and(~zoneTemp_vars_series.str.contains(\"CV\",regex=False), zoneTemp_vars_series.str.contains(\".*S.*[Pp].*\",regex=True))]\n",
    "func_get_dataReg(dfXY[[\"pyro2\",\"AP1_FurnacePyro2Temp\"]+TempSP].groupby(\"pyro2\").mean().reset_index())"
   ]
  },
  {
   "cell_type": "markdown",
   "id": "e2576a9a0134c8ae",
   "metadata": {
    "collapsed": false,
    "jupyter": {
     "outputs_hidden": false
    }
   },
   "source": [
    "### ZoneTempFdbk vs ZoneAirGasFlows,Recuperator,RestFurnaceVars,Proceso"
   ]
  },
  {
   "cell_type": "code",
   "execution_count": null,
   "id": "3af4092cd9350783",
   "metadata": {},
   "outputs": [],
   "source": []
  },
  {
   "cell_type": "code",
   "execution_count": null,
   "id": "c96bf4f730619c6a",
   "metadata": {},
   "outputs": [],
   "source": [
    "#ZoneTempFdbk vs zone AirFlow: avg Bottom/Top\n",
    "varAirSP=zoneAirGas_vars_series[np.logical_and(zoneAirGas_vars_series.str.contains(\"AirFlow.*Set[Pp]oint.*\",regex=True), ~zoneAirGas_vars_series.str.contains(\".*ControlValve.*\",regex=True))].tolist()\n",
    "varAir=zoneAirGas_vars_series[np.logical_and(zoneAirGas_vars_series.str.contains(\"AirFlow\",regex=False), ~zoneAirGas_vars_series.str.contains(\".*ControlValve.*|.*Set[Pp]oint.*\",regex=True))].tolist()\n",
    "Temp=zoneTemp_vars_series[np.logical_and(~zoneTemp_vars_series.str.contains(\"CV\",regex=False), ~zoneTemp_vars_series.str.contains(\".*S.*[Pp].*\",regex=True))].tolist()#9\n",
    "tot=[\"Total AirFlowSP\",\"Total AirFlowFdbk\"]\n",
    "col=3\n",
    "row=7\n",
    "\n",
    "func_plot_reg(ylist=Temp,ylabel=\"ZoneTempFdbk\",x1list=varAirSP,x1label=\"AirSP\",x2list=varAir,x2label=\"AirFdbk\",nrow=row,ncol=col,Zone=True,Avg=True,totlist=tot,title=\"ZoneTempFdbk_vs_AirFlow\")"
   ]
  },
  {
   "cell_type": "markdown",
   "id": "5a92bdaf7fa8d86a",
   "metadata": {
    "collapsed": false,
    "jupyter": {
     "outputs_hidden": false
    }
   },
   "source": [
    "func_avg_zone(varAirSP)\n",
    "pd.concat([pd.DataFrame(dfXY[[\"pyro2\"]+Temp].reset_index(drop=True)),func_avg_zone(varAir).iloc[:,[0,1,2,3,4,5,6,7,8,9]]],axis=1).groupby(\"pyro2\").mean().reset_index().iloc[:,[0,19]+list(range(1,19))]#.iloc[:,[0,1]+list(range(11,20))]\n",
    "func_get_dataReg(pd.concat([pd.DataFrame(dfXY[[\"pyro2\"]+Temp].reset_index(drop=True)),func_avg_zone(varAirSP).iloc[:,[0,1,2,3,4,5,6,7,8,9]]],axis=1).groupby(\"pyro2\").mean().reset_index().iloc[:,[0,19]+list(range(1,19))].iloc[:,:11]).X\n",
    "func_get_dataReg(pd.concat([pd.DataFrame(dfXY[[\"pyro2\"]+Temp].reset_index(drop=True)),func_avg_zone(varAirSP).iloc[:,[0,1,2,3,4,5,6,7,8,9]]],axis=1).groupby(\"pyro2\").mean().reset_index().iloc[:,[0,19]+list(range(1,19))].iloc[:,[0,1]+list(range(11,20))]).X\n",
    "#pd.concat([pd.DataFrame(dfXY[Temp+[\"pyro2\"]].reset_index(drop=True)),func_avg_zone(varAirSP).iloc[:,:]],axis=1)"
   ]
  },
  {
   "cell_type": "code",
   "execution_count": null,
   "id": "b4d2416c2b802b9e",
   "metadata": {},
   "outputs": [],
   "source": [
    "#ZoneTempFdbk vs zone GasFlow: avg Bottom/Top\n",
    "varGas=zoneAirGas_vars_series[np.logical_and(zoneAirGas_vars_series.str.contains(\"GasFlow\",regex=False), ~zoneAirGas_vars_series.str.contains(\"ControlValve\",regex=False))].tolist()\n",
    "Temp=zoneTemp_vars_series[np.logical_and(~zoneTemp_vars_series.str.contains(\"CV\",regex=False), ~zoneTemp_vars_series.str.contains(\".*S.*[Pp].*\",regex=True))].tolist()#9\n",
    "tot=[\"Total GasFlowFdbk\"]\n",
    "col=3\n",
    "row=7\n",
    "\n",
    "func_plot_reg(ylist=Temp,ylabel=\"ZoneTempFdbk\",x1list=varGas,x1label=\"GasFlow\",nrow=row,ncol=col,Zone=True,Avg=True,totlist=tot,title=\"ZoneTempFdbk_vs_GasFlow\")"
   ]
  },
  {
   "cell_type": "code",
   "execution_count": null,
   "id": "f221b3dfa44049f4",
   "metadata": {},
   "outputs": [],
   "source": []
  },
  {
   "cell_type": "code",
   "execution_count": null,
   "id": "27fd395452897e6b",
   "metadata": {},
   "outputs": [],
   "source": [
    "#ZoneTempFdbk vs zone CV: avg Bottom/Top\n",
    "varCVair=zoneAirGas_vars_series[zoneAirGas_vars_series.str.contains(\".*Air.*ControlValve.*\",regex=True)].tolist()\n",
    "varCVgas=zoneAirGas_vars_series[zoneAirGas_vars_series.str.contains(\".*Gas.*ControlValve.*\",regex=True)].tolist()\n",
    "Temp=zoneTemp_vars_series[np.logical_and(~zoneTemp_vars_series.str.contains(\"CV\",regex=False), ~zoneTemp_vars_series.str.contains(\".*S.*[Pp].*\",regex=True))].tolist()#9\n",
    "tot=[\"Total AirCV\",\"Total GasCV\"]\n",
    "col=3\n",
    "row=7\n",
    "\n",
    "func_plot_reg(ylist=Temp,ylabel=\"ZoneTempFdbk\",x1list=varCVair,x1label=\"CVair\",x2list=varCVgas,x2label=\"CVgas\",nrow=row,ncol=col,Zone=True,Avg=True,totlist=tot,title=\"ZoneTempFdbk_vs_CV\",kde=True)"
   ]
  },
  {
   "cell_type": "code",
   "execution_count": null,
   "id": "7e1250a56120dbb8",
   "metadata": {},
   "outputs": [],
   "source": []
  },
  {
   "cell_type": "code",
   "execution_count": null,
   "id": "75147208-131e-4b41-8303-3c8ba1dfb4f4",
   "metadata": {},
   "outputs": [],
   "source": []
  },
  {
   "cell_type": "raw",
   "id": "2da8b989-edab-4315-af86-d0512b49c7c2",
   "metadata": {},
   "source": []
  },
  {
   "cell_type": "code",
   "execution_count": null,
   "id": "9d2c5d844cd3896e",
   "metadata": {},
   "outputs": [],
   "source": [
    "#ZoneTempFdbk vs zone Ratio: avg Bottom/Top\n",
    "varRatioSP=zoneAirGas_vars_series[np.logical_and(zoneAirGas_vars_series.str.contains(\".*Ratio.*S.*[Pp].*\",regex=True), ~zoneAirGas_vars_series.str.contains(\".*ControlValve.*\",regex=True))].tolist()\n",
    "varRatio=zoneAirGas_vars_series[np.logical_and(zoneAirGas_vars_series.str.contains(\".*Ratio.*\",regex=True), ~zoneAirGas_vars_series.str.contains(\".*ControlValve.*|.*Ratio.*S.*[Pp].*\",regex=True))].tolist()\n",
    "Temp=zoneTemp_vars_series[np.logical_and(~zoneTemp_vars_series.str.contains(\"CV\",regex=False), ~zoneTemp_vars_series.str.contains(\".*S.*[Pp].*\",regex=True))].tolist()#9\n",
    "tot=[\"Total RatioSP\",\"Total RatioFdbk\"]\n",
    "col=3\n",
    "row=7\n",
    "\n",
    "func_plot_reg(ylist=Temp,ylabel=\"ZoneTempFdbk\",x1list=varRatioSP,x1label=\"RatioSP\",x2list=varRatio,x2label=\"Ratio\",nrow=row,ncol=col,Zone=True,Avg=True,totlist=tot,title=\"ZoneTempFdbk_vs_Ratio\")"
   ]
  },
  {
   "cell_type": "markdown",
   "id": "55eaa620935a305f",
   "metadata": {
    "collapsed": false,
    "jupyter": {
     "outputs_hidden": false
    }
   },
   "source": [
    "pd.concat([pd.DataFrame(dfXY[Temp+[\"pyro2\"]].reset_index(drop=True)),func_avg_zone(varRatio).iloc[:,:]],axis=1)\n",
    "#pd.concat([pd.DataFrame(dfXY[[\"pyro2\"]+Temp].reset_index(drop=True)),func_avg_zone(varRatio).iloc[:,[0,1,2,3,4,5,6,7,8,9]]],axis=1).groupby(\"pyro2\").mean().reset_index().iloc[:,[0,19]+list(range(1,19))]\n",
    "#recuperator_vars_series\n",
    "#func_get_dataReg(pd.concat([pd.DataFrame(dfXY[[\"pyro2\"]+Temp].reset_index(drop=True)),func_avg_zone(varRatioSP).iloc[:,[0,1,2,3,4,5,6,7,8,9]]],axis=1).groupby(\"pyro2\").mean().reset_index().iloc[:,[0,19]+list(range(1,19))].iloc[:,:11]).X\n",
    "#func_get_dataReg(dfXY[[\"pyro2\",\"AP1_FurnacePyro2Temp\"]+Temp].groupby(\"pyro2\").mean().reset_index())\n",
    "pd.concat([pd.DataFrame(dfXY[Temp].mean(axis=1),columns=[\"Temp\"]),dfXY[recuperator_vars_series.tolist()+[\"pyro2\"]]],axis=1).iloc[:,[len(recuperator_vars_series)-1+2]+list(range(len(recuperator_vars_series)-1+2))].groupby(\"pyro2\").mean().reset_index()\n",
    "#pd.concat([pd.DataFrame(dfXY[Temp].mean(axis=1),columns=[\"Temp\"]),dfXY[var+hue]],axis=1)\n",
    "recuperator_vars_series"
   ]
  },
  {
   "cell_type": "code",
   "execution_count": null,
   "id": "d665c9d7eee5d230",
   "metadata": {},
   "outputs": [],
   "source": [
    "#ZoneTempFdbk vs recuperator vars\n",
    "var=recuperator_vars_series.tolist()\n",
    "Temp=zoneTemp_vars_series[np.logical_and(~zoneTemp_vars_series.str.contains(\"CV\",regex=False), ~zoneTemp_vars_series.str.contains(\".*S.*[Pp].*\",regex=True))].tolist()#9\n",
    "col=3\n",
    "row=7\n",
    "\n",
    "func_plot_reg(ylist=Temp,ylabel=\"ZoneTempFdbk\",x1list=var,nrow=row,ncol=col,title=\"ZoneTempFdbk_vs_Recuperator\",kde=True)"
   ]
  },
  {
   "cell_type": "markdown",
   "id": "d946fbcfdbf46451",
   "metadata": {
    "collapsed": false,
    "jupyter": {
     "outputs_hidden": false
    }
   },
   "source": [
    "recuperator_vars_series\n",
    "rest_vars_series"
   ]
  },
  {
   "cell_type": "code",
   "execution_count": null,
   "id": "2aeea3330fa65d57",
   "metadata": {},
   "outputs": [],
   "source": [
    "#ZoneTempFdbk vs rest furnace vars\n",
    "var=rest_vars_series.tolist()+[\"CSdeltaTmin\",\"rampFdbk\",\"soakFdbk\"]\n",
    "Temp=zoneTemp_vars_series[np.logical_and(~zoneTemp_vars_series.str.contains(\"CV\",regex=False), ~zoneTemp_vars_series.str.contains(\".*S.*[Pp].*\",regex=True))].tolist()#9\n",
    "col=3\n",
    "row=7\n",
    "\n",
    "func_plot_reg(ylist=Temp,ylabel=\"ZoneTempFdbk\",x1list=var,nrow=row,ncol=col,title=\"ZoneTempFdbk_vs_RestFurnace\",kde=True)"
   ]
  },
  {
   "cell_type": "markdown",
   "id": "bfc47bc71afa69b3",
   "metadata": {
    "collapsed": false,
    "jupyter": {
     "outputs_hidden": false
    }
   },
   "source": [
    "proceso_vars_series"
   ]
  },
  {
   "cell_type": "code",
   "execution_count": null,
   "id": "36a1276e33170fcf",
   "metadata": {},
   "outputs": [],
   "source": [
    "#ZoneTempFdbk vs proceso vars\n",
    "var=proceso_vars_series.tolist()\n",
    "Temp=zoneTemp_vars_series[np.logical_and(~zoneTemp_vars_series.str.contains(\"CV\",regex=False), ~zoneTemp_vars_series.str.contains(\".*S.*[Pp].*\",regex=True))].tolist()#9\n",
    "col=3\n",
    "row=7\n",
    "\n",
    "func_plot_reg(ylist=Temp,ylabel=\"ZoneTempFdbk\",x1list=var,nrow=row,ncol=col,title=\"ZoneTempFdbk_vs_Proceso\")"
   ]
  },
  {
   "cell_type": "code",
   "execution_count": null,
   "id": "8f15396b00bf1ff3",
   "metadata": {},
   "outputs": [],
   "source": []
  },
  {
   "cell_type": "markdown",
   "id": "ad67b3de6f9c362b",
   "metadata": {
    "collapsed": false,
    "jupyter": {
     "outputs_hidden": false
    }
   },
   "source": [
    "### Multicollinearity with Variance Inflation Factor (VIF)"
   ]
  },
  {
   "cell_type": "code",
   "execution_count": null,
   "id": "a66b47cc47d3f33f",
   "metadata": {},
   "outputs": [],
   "source": [
    "def variance_inflation_factor(exog, exog_idx):\n",
    "    \"\"\"\n",
    "    exog : ndarray, (nobs, k_vars)\n",
    "        design matrix with all explanatory variables, as for example used in\n",
    "        regression\n",
    "    exog_idx : int\n",
    "        index of the exogenous variable in the columns of exog\n",
    "    \"\"\"\n",
    "    k_vars = exog.shape[1]\n",
    "    x_i = exog[:, exog_idx]\n",
    "    mask = np.arange(k_vars) != exog_idx\n",
    "    x_noti = exog[:, mask]\n",
    "    r_squared_i = OLS(x_i, x_noti, missing=\"drop\").fit().rsquared\n",
    "    vif = 1. / (1. - r_squared_i)\n",
    "    return vif\n",
    "\n",
    "def variance_inflation_factor_sklearn(exog, exog_idx):\n",
    "    \"\"\"\n",
    "    exog : ndarray, (nobs, k_vars)\n",
    "        design matrix with all explanatory variables, as for example used in\n",
    "        regression\n",
    "    exog_idx : int\n",
    "        index of the exogenous variable in the columns of exog\n",
    "    \"\"\"\n",
    "    k_vars = exog.shape[1]\n",
    "    x_i = exog[:, exog_idx]\n",
    "    mask = np.arange(k_vars) != exog_idx\n",
    "    x_noti = exog[:, mask]\n",
    "    r_squared_i = LinearRegression().fit(X=x_noti,y=x_i).score(X=x_noti,y=x_i)#OLS(x_i, x_noti, missing=\"drop\").fit().rsquared\n",
    "    vif = 1. / (1. - r_squared_i)\n",
    "    return vif"
   ]
  },
  {
   "cell_type": "code",
   "execution_count": null,
   "id": "2c5abf8860f82809",
   "metadata": {},
   "outputs": [],
   "source": [
    "#Make binary categorical data int64\n",
    "dfXY[dfXY.columns[(dfXY.dtypes == \"category\") & (~dfXY.columns.str.contains(\"grade\")) & (~dfXY.columns.str.contains(\"SteelFamCluster\"))]]=dfXY[dfXY.columns[(dfXY.dtypes == \"category\") & (~dfXY.columns.str.contains(\"grade\")) & (~dfXY.columns.str.contains(\"SteelFamCluster\"))]].astype(np.float64)\n",
    "dfXY.dtypes"
   ]
  },
  {
   "cell_type": "code",
   "execution_count": null,
   "id": "718d81b27cd12076",
   "metadata": {},
   "outputs": [],
   "source": [
    "#Make grade one-hot encoder: drop first to prevent from further multicollinearity among encoded vars\n",
    "dfGradeEnc=pd.DataFrame(OneHotEncoder(sparse_output=False,drop='first').set_output(transform=\"pandas\").fit_transform(pd.DataFrame(dfXY.grade)))#sparse_output=False,\n",
    "dfXY=pd.merge(left=dfXY,right=dfGradeEnc,how=\"inner\",left_index=True,right_index=True)\n",
    "dfGrade=dfXY.grade.copy()\n",
    "dfXY.drop([\"grade\"],axis=1,inplace=True)\n",
    "dfXY.head(1)"
   ]
  },
  {
   "cell_type": "code",
   "execution_count": null,
   "id": "d8ca64427e923c42",
   "metadata": {},
   "outputs": [],
   "source": [
    "dfXY.SteelFamCluster = OrdinalEncoder().fit_transform(dfXY[[\"SteelFamCluster\"]])\n",
    "dfXY.head(1)"
   ]
  },
  {
   "cell_type": "code",
   "execution_count": null,
   "id": "b17c941f83ce1882",
   "metadata": {},
   "outputs": [],
   "source": [
    "print(dfXY.shape)\n",
    "dfXY.dtypes"
   ]
  },
  {
   "cell_type": "code",
   "execution_count": null,
   "id": "180871ca21adb333",
   "metadata": {},
   "outputs": [],
   "source": [
    "#Make input df\n",
    "dfX=dfXY.drop(\"pyro2\",axis=1)\n",
    "print(dfX.shape)\n",
    "#add_constant(dfX,prepend=False,has_constant='add')"
   ]
  },
  {
   "cell_type": "code",
   "execution_count": null,
   "id": "aea6b95dcc639236",
   "metadata": {},
   "outputs": [],
   "source": [
    "#Compute VIF\n",
    "vif_data=pd.DataFrame()\n",
    "vif_data[\"feature\"]=dfX.columns\n",
    "vif_data[\"dtype\"]=dfX.dtypes\n",
    "vif_data[\"VIF_OLS\"]=[variance_inflation_factor(add_constant(dfX,prepend=False,has_constant='add').values,i) for i in range(len(dfX.columns))]\n",
    "vif_data[\"VIF_sklearn\"]=[variance_inflation_factor_sklearn(dfX.dropna(axis=0).values,i) for i in range(len(dfX.columns))]\n",
    "#vif_data.assign(dtype= lambda x: dfX.dtypes.loc[x.feature])\n",
    "for i in range(vif_data.shape[0]):\n",
    "    vif_data.iloc[i,1]=dfX.dtypes.loc[vif_data.feature[i]]\n",
    "print(vif_data.shape)\n",
    "vif_data.sort_values(by='VIF_sklearn',ascending=False,na_position='first')"
   ]
  },
  {
   "cell_type": "code",
   "execution_count": null,
   "id": "288fe9ebf02b7522",
   "metadata": {},
   "outputs": [],
   "source": [
    "#Show Vif ordered\n",
    "np.round(vif_data.loc[((vif_data.VIF_OLS>10) | (vif_data.VIF_sklearn>10) | (vif_data.VIF_sklearn.isin([np.inf,-np.inf]))),:],2).sort_values(by='VIF_sklearn',ascending=False,na_position='first')"
   ]
  },
  {
   "cell_type": "code",
   "execution_count": null,
   "id": "55e4c712e1f45ee0",
   "metadata": {},
   "outputs": [],
   "source": [
    "#Plot corr heatmap per var\n",
    "plt.figure(figsize=(30,2))\n",
    "# sns.set_context('paper', font_scale=1.4)\n",
    "xcorr_df = dfX.corr(method='pearson',numeric_only=True)#method='spearman'\n",
    "sns.heatmap(pd.DataFrame(xcorr_df['AP1_FurnaceTotalSummedAirFlow'].sort_values(ascending=False,key=np.abs)).T.map(lambda x: None if np.abs(x)<0.6 else x).dropna(axis=1), cmap='viridis')\n",
    "#sns.heatmap(xcorr_df[['AP1_FurnaceTotalSummedAirFlow']].T, cmap='viridis')\n",
    "plt.show()"
   ]
  },
  {
   "cell_type": "code",
   "execution_count": null,
   "id": "e093edbd9122978e",
   "metadata": {},
   "outputs": [],
   "source": [
    "xcorr_df.iloc[:,0]\n",
    "pd.DataFrame(xcorr_df['AP1_FurnaceTotalSummedAirFlow'].sort_values(ascending=False,key=np.abs)).T.map(lambda x: None if np.abs(x)<0.6 else x).dropna(axis=1)"
   ]
  },
  {
   "cell_type": "code",
   "execution_count": null,
   "id": "6dee4039d6df6e3e",
   "metadata": {},
   "outputs": [],
   "source": [
    "#Plot df corr heatmap\n",
    "plt.figure(figsize=(30,60))\n",
    "# sns.set_context('paper', font_scale=1.4)\n",
    "xycorr_df = dfXY.corr(method='pearson',numeric_only=True).map(lambda x: None if np.abs(x)<0.8 else x)#method='spearman'\n",
    "sns.heatmap(xycorr_df, cmap='viridis')\n",
    "plt.title(\"INPUT corr>0.8 heatmap\",fontsize=60,pad=50)\n",
    "plt.show()"
   ]
  },
  {
   "cell_type": "code",
   "execution_count": null,
   "id": "db0ef9e9ec5e4a0e",
   "metadata": {},
   "outputs": [],
   "source": [
    "dfXY.shape"
   ]
  },
  {
   "cell_type": "code",
   "execution_count": null,
   "id": "9765100ff837d397",
   "metadata": {},
   "outputs": [],
   "source": [
    "dfGroups=pd.DataFrame(dfXY_coils.loc[dfXY.index]).assign(group=lambda x: OrdinalEncoder().set_output(transform=\"pandas\").fit_transform(x[[\"AP1_FurnaceCoilID\"]]).astype(np.int64))#.value_counts()"
   ]
  },
  {
   "cell_type": "code",
   "execution_count": null,
   "id": "5c2e4114c244347b",
   "metadata": {},
   "outputs": [],
   "source": [
    "print(np.sum(~(dfGroups[\"AP1_FurnaceCoilID\"].value_counts().values==dfGroups.group.value_counts().values)))"
   ]
  },
  {
   "cell_type": "code",
   "execution_count": null,
   "id": "8e48594964cec468",
   "metadata": {},
   "outputs": [],
   "source": []
  },
  {
   "cell_type": "markdown",
   "id": "12231f5f5bcc7299",
   "metadata": {
    "collapsed": false,
    "jupyter": {
     "outputs_hidden": false
    }
   },
   "source": [
    "a=20.0\n",
    "b=8.0\n",
    "B=math.radians(20.0)\n",
    "A=np.arcsin(a*math.sin(B)/b)\n",
    "C=math.radians(180.0-math.degrees(B)-math.degrees(A))\n",
    "ca=math.sin(C)*a/math.sin(A)\n",
    "cb=math.sin(C)*b/math.sin(B)\n",
    "print(\"A: \",math.degrees(A))\n",
    "print(\"C: \",math.degrees(C))\n",
    "print(ca,cb)"
   ]
  },
  {
   "cell_type": "code",
   "execution_count": null,
   "id": "acd0d1c5a0f6ceb1",
   "metadata": {},
   "outputs": [],
   "source": []
  },
  {
   "cell_type": "code",
   "execution_count": null,
   "id": "b89251db26453fae",
   "metadata": {},
   "outputs": [],
   "source": []
  }
 ],
 "metadata": {
  "kernelspec": {
   "display_name": "Python 3.10 (my_jupyterlab_env)",
   "language": "python",
   "name": "my_jupyterlab_env"
  },
  "language_info": {
   "codemirror_mode": {
    "name": "ipython",
    "version": 3
   },
   "file_extension": ".py",
   "mimetype": "text/x-python",
   "name": "python",
   "nbconvert_exporter": "python",
   "pygments_lexer": "ipython3",
   "version": "3.10.0"
  }
 },
 "nbformat": 4,
 "nbformat_minor": 5
}
