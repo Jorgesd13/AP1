{
 "cells": [
  {
   "cell_type": "markdown",
   "id": "a7f97cb1-4418-4f0d-bbbe-303f499c53dd",
   "metadata": {},
   "source": [
    "# Data Import"
   ]
  },
  {
   "cell_type": "markdown",
   "id": "987bd72c-59e5-49af-88eb-484d4c920b20",
   "metadata": {},
   "source": [
    "## SQL input query & Python joins, aggregations, and pivots for pre analysis dataframe formatting"
   ]
  },
  {
   "cell_type": "code",
   "execution_count": null,
   "id": "60c7d2ba-876f-46b7-8eb5-c73dfd176d50",
   "metadata": {},
   "outputs": [],
   "source": [
    "#Get pwd\n",
    "#os.getcwd()\n",
    "#Set current wd\n",
    "#Connect to DB\n",
    "import os\n",
    "%run ./DigiSQLStartup.ipynb #Already imports libraries"
   ]
  },
  {
   "cell_type": "markdown",
   "id": "32a4b0e1-0b4e-42ab-97dd-b28ee2eefb3e",
   "metadata": {},
   "source": [
    "#### Retrieve tags from History tbl"
   ]
  },
  {
   "cell_type": "code",
   "execution_count": null,
   "id": "11dd77be-8d6c-4012-9fa4-c2e7e286077e",
   "metadata": {},
   "outputs": [],
   "source": [
    "%%sql tags <<\n",
    "select * \n",
    "from MysteryMachine.tblAP1fcetags_edaexport\n",
    "where ts>='2024-05-09'\n",
    "order by ts asc"
   ]
  },
  {
   "cell_type": "code",
   "execution_count": null,
   "id": "382e993f-d149-44c6-b729-f861685d278f",
   "metadata": {},
   "outputs": [],
   "source": [
    "dfTags = tags.DataFrame()\n",
    "dfTags.info()\n",
    "print(dfTags.shape)\n",
    "dfTags.head(7)"
   ]
  },
  {
   "cell_type": "markdown",
   "id": "591f5a96-7dcd-4689-aa9b-598c7e92dde5",
   "metadata": {},
   "source": [
    "#### Pivot float tag table tag_vals into pvt_tbl"
   ]
  },
  {
   "cell_type": "code",
   "execution_count": null,
   "id": "a58831e2-883d-4104-ab7c-f4b1b364546b",
   "metadata": {},
   "outputs": [],
   "source": [
    "#Check if float vars have nan Value: Yes 2832\n",
    "array=dfTags[~dfTags.Tagname.isin([\"AP1_FurnaceCoilID\",\"AP1_FurnaceThickness\",\"AP1_FurnaceWidth\"])].Value.isna()#.head(7)\n",
    "#dfTags.where(array).dropna().head(7)\n",
    "dfTags[~dfTags.Tagname.isin([\"AP1_FurnaceCoilID\",\"AP1_FurnaceThickness\",\"AP1_FurnaceWidth\"])].loc[array,:]\n",
    "#array.sum()"
   ]
  },
  {
   "cell_type": "code",
   "execution_count": null,
   "id": "5490e003-192c-494a-8e48-9b7b39f31b5a",
   "metadata": {},
   "outputs": [],
   "source": [
    "#Pivot tbl float tags\n",
    "dfFloatTags = dfTags[~dfTags.Tagname.isin([\"AP1_FurnaceCoilID\",\"AP1_FurnaceThickness\",\"AP1_FurnaceWidth\"])].pivot(index='ts',columns='Tagname',values='Value')\n",
    "print(dfFloatTags.shape)\n",
    "dfFloatTags.head(3)"
   ]
  },
  {
   "cell_type": "code",
   "execution_count": null,
   "id": "8f97c2ba-13c6-4086-b472-d4c605d4dd03",
   "metadata": {},
   "outputs": [],
   "source": [
    "type(dfFloatTags.index)"
   ]
  },
  {
   "cell_type": "markdown",
   "id": "aa296be0-e301-4548-8844-da1934d2debd",
   "metadata": {},
   "source": [
    "#### Pivot string tag table tag_vals into pvt_str_tbl"
   ]
  },
  {
   "cell_type": "code",
   "execution_count": null,
   "id": "13b1975c-b3c2-4327-94ac-4cca075aa009",
   "metadata": {},
   "outputs": [],
   "source": [
    "#Pivot string tags tbl\n",
    "dfStringTags=dfTags[dfTags.Tagname.isin([\"AP1_FurnaceCoilID\",\"AP1_FurnaceThickness\",\"AP1_FurnaceWidth\"])].pivot(index=\"ts\",columns=\"Tagname\",values=\"vValue\")\n",
    "print(dfStringTags.shape)\n",
    "dfStringTags.head(3)"
   ]
  },
  {
   "cell_type": "code",
   "execution_count": null,
   "id": "607572fa-b9cc-48b5-bc71-e1f32afb20b3",
   "metadata": {},
   "outputs": [],
   "source": [
    "type(dfStringTags.index)"
   ]
  },
  {
   "cell_type": "markdown",
   "id": "77137019-473c-4d9d-b23e-af164e3b3b27",
   "metadata": {},
   "source": [
    "#### Merge float tags and string tags\n"
   ]
  },
  {
   "cell_type": "code",
   "execution_count": null,
   "id": "08e55225-25a7-426c-9910-2df1d379ff3d",
   "metadata": {},
   "outputs": [],
   "source": [
    "#Merge float and string tbls\n",
    "dfHistory = pd.merge(left=dfStringTags,right=dfFloatTags,how=\"inner\",left_index=True,right_index=True)\n",
    "print(dfHistory.shape)\n",
    "dfHistory.AP1_FurnaceCoilID=dfHistory.AP1_FurnaceCoilID.str.upper()\n",
    "dfHistory.head(3)"
   ]
  },
  {
   "cell_type": "code",
   "execution_count": null,
   "id": "28f8fbac-8d6a-47e2-a3cb-25dfd8baf421",
   "metadata": {},
   "outputs": [],
   "source": [
    "type(dfHistory.index)"
   ]
  },
  {
   "cell_type": "code",
   "execution_count": null,
   "id": "93557373db97c5a9",
   "metadata": {},
   "outputs": [],
   "source": [
    "#Check duplicated index\n",
    "len(dfHistory.index[dfHistory.index.duplicated()])"
   ]
  },
  {
   "cell_type": "markdown",
   "id": "39f2c221-2bcf-44a0-9ae6-09b30c8319b2",
   "metadata": {},
   "source": [
    "##### Take the coils in dfHistory to extract info from tblProceso"
   ]
  },
  {
   "cell_type": "code",
   "execution_count": null,
   "id": "bb4553b8-e67b-4387-ba91-cb928c114e91",
   "metadata": {},
   "outputs": [],
   "source": [
    "coils = tuple(dfHistory.AP1_FurnaceCoilID.drop_duplicates().to_list())\n",
    "len(coils)#989"
   ]
  },
  {
   "cell_type": "markdown",
   "id": "01722175-093d-4a0c-9bdb-b7fa319fd90e",
   "metadata": {},
   "source": [
    "#### Add info tbl Proceso"
   ]
  },
  {
   "cell_type": "code",
   "execution_count": null,
   "id": "e69afedd-7863-4abe-b681-5bd2e5039a47",
   "metadata": {},
   "outputs": [],
   "source": [
    "%%sql tblProceso <<\n",
    "select top 2000000 LastProcessDate, CoilNumber, ProductID, ProductDivision, CurrentGuage, CurrentWidth, CoilLength, NetWeight, SteelGradeID\n",
    "from database.schema.tblProceso tp\n",
    "where  (LineID = 25) and ((tp.ProductID + COALESCE(tp.ProductDivision,'')) in :coils) \n",
    "order by LastProcessDate"
   ]
  },
  {
   "cell_type": "code",
   "execution_count": null,
   "id": "8948923d-df77-41c6-b83b-23d835395bf2",
   "metadata": {},
   "outputs": [],
   "source": [
    "dfProceso = tblProceso.DataFrame()\n",
    "dfProceso.set_index(\"LastProcessDate\",inplace=True)\n",
    "print(len(coils)) #989\n",
    "print(dfProceso.CoilNumber.drop_duplicates().count())#917\n",
    "dfProceso.head() #989, there are 72 coils in dfHistory that are not in dfProceso, because they haven't an entry with LineID=25\n",
    "#Make upper() coil numbers\n",
    "dfProceso.CoilNumber=dfProceso.CoilNumber.str.upper()\n",
    "dfProceso.ProductID=dfProceso.ProductID.str.upper()\n",
    "dfProceso.ProductDivision=dfProceso.ProductDivision.str.upper()\n",
    "dfHistory[\"AP1_FurnaceCoilID\"]=dfHistory[\"AP1_FurnaceCoilID\"].str.upper()"
   ]
  },
  {
   "cell_type": "code",
   "execution_count": null,
   "id": "264c079b-aa1a-4515-966a-bf3129259f2d",
   "metadata": {},
   "outputs": [],
   "source": [
    "type(dfProceso.index)"
   ]
  },
  {
   "cell_type": "markdown",
   "id": "ab4d9d30-64a2-4c77-a98e-2632e9e3ab27",
   "metadata": {},
   "source": [
    "#### Create input table X by merging dfHistory and dfProceso"
   ]
  },
  {
   "cell_type": "code",
   "execution_count": null,
   "id": "34cc0ad3-4fe9-4100-84cb-a661f48526b6",
   "metadata": {},
   "outputs": [],
   "source": [
    "#Try solve group2 of the mismatched coils with direction=\"nearest\" in merge_asof\n",
    "dfXLong = pd.merge_asof(right=dfProceso,left=dfHistory,right_by=\"CoilNumber\",left_by=\"AP1_FurnaceCoilID\",right_index=True,left_index=True,direction=\"nearest\",tolerance=pd.Timedelta(\"1D\"))#\n",
    "print(dfXLong.shape)\n",
    "dfXLong.head(2)"
   ]
  },
  {
   "cell_type": "code",
   "execution_count": null,
   "id": "7506fd9ddf5d31e0",
   "metadata": {},
   "outputs": [],
   "source": [
    "#Check duplicated index\n",
    "len(dfXLong.index[dfXLong.index.duplicated()])"
   ]
  },
  {
   "cell_type": "code",
   "execution_count": null,
   "id": "3995d658-c481-455c-8588-7835ffa146b0",
   "metadata": {},
   "outputs": [],
   "source": [
    "#There're 1574 mistmaches between AP1_FurnaceCoilID and CoilNumber. Presumably bc it didnt find a time match\n",
    "dfXMismatch = dfXLong[dfXLong.AP1_FurnaceCoilID != dfXLong.CoilNumber]\n",
    "print(dfXMismatch.shape)\n",
    "mismatchedCoilsX=list(dfXMismatch.AP1_FurnaceCoilID.unique())\n",
    "print(len(mismatchedCoilsX))#Should be the 30 coil mismatches and the other 3 are time mismatches\n",
    "dfXMismatch.head(2)"
   ]
  },
  {
   "cell_type": "markdown",
   "id": "d818bdf8-ee1a-46ae-a259-2c01ca20c94f",
   "metadata": {},
   "source": [
    "##### Remove mismatches from dfX"
   ]
  },
  {
   "cell_type": "code",
   "execution_count": null,
   "id": "f3270ba8-a42d-4c79-8561-4620c3cbf217",
   "metadata": {},
   "outputs": [],
   "source": [
    "print(mismatchedCoilsX)"
   ]
  },
  {
   "cell_type": "code",
   "execution_count": null,
   "id": "7271ed2b-87f7-49a7-8c1a-8261bcb9df21",
   "metadata": {},
   "outputs": [],
   "source": [
    "dfX=dfXLong[~dfXLong.AP1_FurnaceCoilID.isin(mismatchedCoilsX)]\n",
    "print(\"Rows of X with mismatches: \", dfXLong.shape[0])\n",
    "print(\"Rows of X without mismatches: \", dfX.shape[0])\n",
    "print(\"Loss of {:.2f}% of rows due to mismatches\".format((dfXLong.shape[0]-dfX.shape[0])/dfXLong.shape[0]*100))\n",
    "print(dfX.shape)\n",
    "dfX.head(2)"
   ]
  },
  {
   "cell_type": "code",
   "execution_count": null,
   "id": "e2f3a59d87018d6e",
   "metadata": {},
   "outputs": [],
   "source": [
    "#Check duplicated index\n",
    "len(dfX.index[dfX.index.duplicated()])"
   ]
  },
  {
   "cell_type": "code",
   "execution_count": null,
   "id": "5d42b696-a9a9-4345-b415-d6c71ebe0506",
   "metadata": {},
   "outputs": [],
   "source": [
    "#Check there're no more mismatches\n",
    "dfXMismatchNew = dfX[dfX.AP1_FurnaceCoilID != dfX.CoilNumber]\n",
    "dfXMismatchNew.shape"
   ]
  },
  {
   "cell_type": "code",
   "execution_count": null,
   "id": "ec414a3c69ac787a",
   "metadata": {},
   "outputs": [],
   "source": [
    "#Check no duplicated index:No as we've dropped mismatches\n",
    "dfX.index[dfX.index.duplicated()]"
   ]
  },
  {
   "cell_type": "markdown",
   "id": "2cae14b4-4ad3-4958-804d-f9e3ba5fd796",
   "metadata": {},
   "source": [
    "#### Add pyro2goal"
   ]
  },
  {
   "cell_type": "code",
   "execution_count": null,
   "id": "cd0ac012-5e8b-478d-9877-5d4002bf5e02",
   "metadata": {},
   "outputs": [],
   "source": [
    "%%sql pyro2goals <<\n",
    "SELECT TOP (3000) [grade]\n",
    "    ,[pyro2]\n",
    "    ,[line]\n",
    "    ,[Special]\n",
    "    ,csg.SteelGradeID\n",
    "FROM [database].[schema].[Pyro2goals] p2g\n",
    "INNER JOIN database.schema.catSteelGrades csg ON CAST(p2g.grade AS VARCHAR(4))=csg.Name\n",
    "WHERE line = 3310"
   ]
  },
  {
   "cell_type": "code",
   "execution_count": null,
   "id": "ffbff898-09fb-4517-bb6e-1d37c64cd6a0",
   "metadata": {},
   "outputs": [],
   "source": [
    "dfY = pyro2goals.DataFrame()\n",
    "print(dfY.shape)\n",
    "dfY.info()"
   ]
  },
  {
   "cell_type": "code",
   "execution_count": null,
   "id": "7815ca8d-d5e0-4fc9-b4dc-938df4385cce",
   "metadata": {},
   "outputs": [],
   "source": [
    "#Unique values in both columns, not much info apported, drop\n",
    "print(dfY.line.unique())\n",
    "print(dfY.Special.unique())"
   ]
  },
  {
   "cell_type": "code",
   "execution_count": null,
   "id": "f1903388-40e7-4da6-8a98-4c1d3405d7bd",
   "metadata": {},
   "outputs": [],
   "source": [
    "#Drop 'line' and 'Special' from dfY\n",
    "dfY.drop([\"line\",\"Special\"],axis=1,inplace=True)\n",
    "print(dfY.shape)\n",
    "dfY.head(3)"
   ]
  },
  {
   "cell_type": "code",
   "execution_count": null,
   "id": "ccddfc1f-5565-4e7a-8404-61b4f3891a3b",
   "metadata": {},
   "outputs": [],
   "source": [
    "#Set SteelGradeID in dfX and dfY of same type\n",
    "print(dfX.SteelGradeID.dtypes)\n",
    "print(dfY.SteelGradeID.dtypes)\n",
    "dfX=dfX.astype({'SteelGradeID': str(dfY.SteelGradeID.dtypes)})\n",
    "dfX.SteelGradeID.dtypes"
   ]
  },
  {
   "cell_type": "code",
   "execution_count": null,
   "id": "6b10ba302a62280c",
   "metadata": {},
   "outputs": [],
   "source": [
    "#Check Duplicated: 6 rows are duplicated \n",
    "print(\"Rows of Y with duplicated values {}\".format(dfY.shape[0]))\n",
    "dfY.duplicated().sum()\n",
    "dfY.loc[dfY.duplicated(),:]\n",
    "dfY=dfY.drop_duplicates()\n",
    "print(\"Rows of Y without duplicated values {}\".format(dfY.shape[0]))\n",
    "dfY.duplicated().sum()"
   ]
  },
  {
   "cell_type": "code",
   "execution_count": null,
   "id": "90670887-8673-4169-8d8e-36fd7afb356b",
   "metadata": {},
   "outputs": [],
   "source": [
    "#Merge X & Y\n",
    "dfXY = dfX.reset_index().merge(right=dfY,how=\"left\",on=\"SteelGradeID\").set_index(\"ts\")\n",
    "print(dfXY.shape)\n",
    "dfXY.tail(2)"
   ]
  },
  {
   "cell_type": "code",
   "execution_count": null,
   "id": "160bef94-7f82-44aa-b095-b6505a0275fe",
   "metadata": {},
   "outputs": [],
   "source": [
    "#Check the right goal is assigned to each row: True\n",
    "dfY.where(dfY.SteelGradeID==37).dropna()"
   ]
  },
  {
   "cell_type": "code",
   "execution_count": null,
   "id": "6946e15e59fc59d5",
   "metadata": {},
   "outputs": [],
   "source": [
    "#Check no duplicated values: No\n",
    "len(dfXY.index[dfXY.index.duplicated()])"
   ]
  },
  {
   "cell_type": "markdown",
   "id": "1dc3912d-1d79-48f2-a4b8-4d31c790a8d0",
   "metadata": {},
   "source": [
    "## Variable import cleanup"
   ]
  },
  {
   "cell_type": "code",
   "execution_count": null,
   "id": "67a7d0e3-069a-4a64-bd80-fd41f963e4fe",
   "metadata": {},
   "outputs": [],
   "source": [
    "#AP1_FurnaceThickness,AP1_FurnaceWidth,CurrentGuage,CurrentWidth,CoilLength,NetWeight should be float64    \n",
    "#AP1_FurnaceWeldInFurnace,AP1_FurnaceZone1TurndownOn,AP1_FurnaceZone2TurndownOn,AP1_FurnaceZone3TurndownOn,AP1_FurnaceZone4TurndownOn,AP1_FurnaceZone5TurndownOn,AP1_FurnaceZone6TurndownOn,AP1_FurnaceZone7TurndownOn,AP1_FurnaceZone8TurndownOn,grade should be categorical\n",
    "#AP1_FurnaceCoilID,CoilNumber,ProductID,ProductDivision,SteelGradeID are of no use for the model\n",
    "#dfXY.info(verbose=True)"
   ]
  },
  {
   "cell_type": "code",
   "execution_count": null,
   "id": "85f061e5-71f7-4ea2-9c80-6e3f5f01a6ec",
   "metadata": {},
   "outputs": [],
   "source": [
    "#Count number of coils \n",
    "dfXY.AP1_FurnaceCoilID.value_counts()#Counts how many times each unique coil value appears.\n",
    "dfXY.AP1_FurnaceCoilID.drop_duplicates().count()#914 coils for our analysis"
   ]
  },
  {
   "cell_type": "code",
   "execution_count": null,
   "id": "168812bb-7f42-4474-9335-dfaadaf7dc88",
   "metadata": {},
   "outputs": [],
   "source": [
    "#Drop unused columns\n",
    "dfXY_coils = dfXY.AP1_FurnaceCoilID #we keep the indexed coil numbers in case\n",
    "dfXY_coils.head()\n",
    "dfXY.drop([\"AP1_FurnaceCoilID\",\"CoilNumber\",\"ProductID\",\"ProductDivision\"],axis=1,inplace=True)\n",
    "dfXY.info(verbose=True)"
   ]
  },
  {
   "cell_type": "code",
   "execution_count": null,
   "id": "99cc36d658308be0",
   "metadata": {},
   "outputs": [],
   "source": [
    "dfXY_coils.head()"
   ]
  },
  {
   "cell_type": "code",
   "execution_count": null,
   "id": "bbd27afa-9582-4d42-b7fd-f8847c34ba70",
   "metadata": {},
   "outputs": [],
   "source": [
    "#Check nan\n",
    "dfXY.isna().sum()\n",
    "#grade\\pyro2 has 165 nan\n",
    "#dfXY.grade.isna().sum()\n",
    "#dfXY.pyro2.isna().sum()"
   ]
  },
  {
   "cell_type": "code",
   "execution_count": null,
   "id": "dd84dccf-30c0-4379-a6d1-b39c473a3df9",
   "metadata": {},
   "outputs": [],
   "source": [
    "#Check SteelGradeID values for which pyro2 is nan\n",
    "dfXY[dfXY.pyro2.isna()].SteelGradeID.sort_values().unique()#Nan values for 1,2,4 of steelgradeid"
   ]
  },
  {
   "cell_type": "code",
   "execution_count": null,
   "id": "3e6ef779-45ce-4ff6-9cf4-a717a6dcd5a4",
   "metadata": {},
   "outputs": [],
   "source": [
    "#Check if for those grades all pyro2 values are nan: True\n",
    "dfXY[dfXY.SteelGradeID.isin([1,2,4])][[\"SteelGradeID\",\"pyro2\"]].pyro2.notna().sum()"
   ]
  },
  {
   "cell_type": "code",
   "execution_count": null,
   "id": "f1eb237d-bf2e-46fd-b0a1-7b30e55061f8",
   "metadata": {},
   "outputs": [],
   "source": [
    "#print(\"Unique SteelGradeID of Y\",dfY.SteelGradeID.sort_values().unique())\n",
    "#print(\"Unique SteelGradeID of X\",dfX.SteelGradeID.sort_values().unique())\n",
    "mismatchedSteelGradeID = [item for item in dfX.SteelGradeID.sort_values().unique() if item not in dfY.SteelGradeID.sort_values().unique()]\n",
    "print(\"Unique SteelGradeID of X that are not in Y\",mismatchedSteelGradeID)"
   ]
  },
  {
   "cell_type": "code",
   "execution_count": null,
   "id": "58abd73f-c2d7-4857-bfd0-e162aea51a34",
   "metadata": {},
   "outputs": [],
   "source": [
    "#Loss due to SteelGradeID mismatches\n",
    "print(\"Rows in XY with mismatches in SteelGradeID: \",dfXY.shape[0])\n",
    "print(\"Rows in XY without mismatches in SteelGradeID: \",dfXY[~dfXY.SteelGradeID.isin([1,2,4,97,109,238,290])].shape[0])\n",
    "print(\"SteelGradeID mismatching rows in XY\",dfXY[dfXY.SteelGradeID.isin([1,2,4,97,109,238,290])].shape[0])\n",
    "print(\"Loss of {:.2f}% rows due to mismatches in SteelGradeID\".format((dfXY[dfXY.SteelGradeID.isin([1,2,4,97,109,238,290])]).shape[0]/dfXY.shape[0]*100))"
   ]
  },
  {
   "cell_type": "code",
   "execution_count": null,
   "id": "5699dce0-252f-4be2-ae23-d5ea8bf4c890",
   "metadata": {},
   "outputs": [],
   "source": [
    "dfXY[dfXY.SteelGradeID.isin([1,2,4])][[\"SteelGradeID\",\"grade\",\"pyro2\"]].head(2)"
   ]
  },
  {
   "cell_type": "code",
   "execution_count": null,
   "id": "146193f1-9a23-4260-bd0c-e142e3831036",
   "metadata": {},
   "outputs": [],
   "source": [
    "#Save mismatched tbl\n",
    "dfXYmismatchPyro2 = dfXY.copy()"
   ]
  },
  {
   "cell_type": "code",
   "execution_count": null,
   "id": "c84b91a9-97df-4994-880b-67e7ca205133",
   "metadata": {},
   "outputs": [],
   "source": [
    "#Set new goal to SteelGradeIDs 1,2,4:\n",
    "dfXY.loc[dfXY[dfXY.SteelGradeID.isin([1,2,4])].index,[\"grade\",\"pyro2\"]]=dfXY[dfXY.SteelGradeID.isin([3,34])][[\"grade\",\"pyro2\"]].iloc[0].to_list()\n",
    "dfXY[dfXY.SteelGradeID.isin([1,2,4])][[\"SteelGradeID\",\"grade\",\"pyro2\"]].head()"
   ]
  },
  {
   "cell_type": "code",
   "execution_count": null,
   "id": "d8faae0b-8711-4ae0-8f9c-3c6df880b11a",
   "metadata": {},
   "outputs": [],
   "source": [
    "#Drop SteelGradeIDs 97,109,238,290 (mismatchedSteelGradeIDs that are not 1,2,4)\n",
    "mismatchedSteelGradeIDNew = [item for item in mismatchedSteelGradeID if item not in [1,2,4]]\n",
    "print(\"Loss of {:.2f}% rows due to mismatches in SteelGradeID\".format((dfXY[dfXY.SteelGradeID.isin([97,109,238,290])]).shape[0]/dfXY.shape[0]*100))\n",
    "dfXY = dfXY[~dfXY.SteelGradeID.isin([97,109,238,290])]\n",
    "\n",
    "#Check SteelGradeIDs removed: True\n",
    "dfXY[dfXY.SteelGradeID.isin(mismatchedSteelGradeID)].SteelGradeID.unique()\n",
    "#Check no more nan: True\n",
    "dfXY.grade.isna().sum()\n",
    "dfXY.pyro2.isna().sum()"
   ]
  },
  {
   "cell_type": "code",
   "execution_count": null,
   "id": "e5852917-e6de-4429-a027-dcbe9f93e7f1",
   "metadata": {},
   "outputs": [],
   "source": [
    "#Change types\n",
    "#Define floats\n",
    "dfXY=dfXY.astype({'AP1_FurnaceThickness':'float64','AP1_FurnaceWidth':'float64','CurrentGuage':'float64','CurrentWidth':'float64','CoilLength':'float64','NetWeight': 'float64'})\n",
    "#Define categorical first as int to remove decimals\n",
    "dfXY[[\"AP1_FurnaceWeldInFurnace\",\"AP1_FurnaceZone1TurndownOn\",\"AP1_FurnaceZone2TurndownOn\",\"AP1_FurnaceZone3TurndownOn\",\"AP1_FurnaceZone4TurndownOn\",\"AP1_FurnaceZone5TurndownOn\",\"AP1_FurnaceZone6TurndownOn\",\"AP1_FurnaceZone7TurndownOn\",\"AP1_FurnaceZone8TurndownOn\",\"grade\",\"SteelGradeID\"]]=dfXY[[\"AP1_FurnaceWeldInFurnace\",\"AP1_FurnaceZone1TurndownOn\",\"AP1_FurnaceZone2TurndownOn\",\"AP1_FurnaceZone3TurndownOn\",\"AP1_FurnaceZone4TurndownOn\",\"AP1_FurnaceZone5TurndownOn\",\"AP1_FurnaceZone6TurndownOn\",\"AP1_FurnaceZone7TurndownOn\",\"AP1_FurnaceZone8TurndownOn\",\"grade\",\"SteelGradeID\"]].astype('int64')\n",
    "#Define categorical\n",
    "dfXY[[\"AP1_FurnaceWeldInFurnace\",\"AP1_FurnaceZone1TurndownOn\",\"AP1_FurnaceZone2TurndownOn\",\"AP1_FurnaceZone3TurndownOn\",\"AP1_FurnaceZone4TurndownOn\",\"AP1_FurnaceZone5TurndownOn\",\"AP1_FurnaceZone6TurndownOn\",\"AP1_FurnaceZone7TurndownOn\",\"AP1_FurnaceZone8TurndownOn\",\"grade\",\"SteelGradeID\"]]=dfXY[[\"AP1_FurnaceWeldInFurnace\",\"AP1_FurnaceZone1TurndownOn\",\"AP1_FurnaceZone2TurndownOn\",\"AP1_FurnaceZone3TurndownOn\",\"AP1_FurnaceZone4TurndownOn\",\"AP1_FurnaceZone5TurndownOn\",\"AP1_FurnaceZone6TurndownOn\",\"AP1_FurnaceZone7TurndownOn\",\"AP1_FurnaceZone8TurndownOn\",\"grade\",\"SteelGradeID\"]].astype(\"category\")\n",
    "dfXY.dtypes#info(verbose=True)"
   ]
  },
  {
   "cell_type": "code",
   "execution_count": null,
   "id": "1a3dc451-393c-4512-8853-f06215e567ab",
   "metadata": {},
   "outputs": [],
   "source": [
    "#Check duplicated index\n",
    "len(dfXY.index[dfXY.index.duplicated()])"
   ]
  },
  {
   "cell_type": "code",
   "execution_count": null,
   "id": "431d0f68-6f98-4098-b1d6-ed9a843cd715",
   "metadata": {},
   "outputs": [],
   "source": [
    "dfXY.isna().sum().sum()"
   ]
  },
  {
   "cell_type": "code",
   "execution_count": null,
   "id": "8cbb999b-d4bb-44dd-b120-a9d8768e8d35",
   "metadata": {},
   "outputs": [],
   "source": []
  },
  {
   "cell_type": "markdown",
   "id": "22ca930c-fc57-41c8-a67d-4f32d3df9cbc",
   "metadata": {},
   "source": [
    "### Adhoc graphing!"
   ]
  },
  {
   "cell_type": "code",
   "execution_count": null,
   "id": "fbdf58d9-b9d4-452c-a27e-8b51c4a675c4",
   "metadata": {},
   "outputs": [],
   "source": []
  },
  {
   "cell_type": "code",
   "execution_count": null,
   "id": "6b27488f-b1a4-4798-ab29-2d2d4543f0f7",
   "metadata": {},
   "outputs": [],
   "source": []
  },
  {
   "cell_type": "code",
   "execution_count": null,
   "id": "2cb25706-bc68-4703-ab74-f987101691e0",
   "metadata": {},
   "outputs": [],
   "source": []
  }
 ],
 "metadata": {
  "kernelspec": {
   "display_name": "Python 3.10 (my_jupyterlab_env)",
   "language": "python",
   "name": "my_jupyterlab_env"
  },
  "language_info": {
   "codemirror_mode": {
    "name": "ipython",
    "version": 3
   },
   "file_extension": ".py",
   "mimetype": "text/x-python",
   "name": "python",
   "nbconvert_exporter": "python",
   "pygments_lexer": "ipython3",
   "version": "3.10.0"
  }
 },
 "nbformat": 4,
 "nbformat_minor": 5
}
